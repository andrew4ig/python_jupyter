{
 "cells": [
  {
   "cell_type": "markdown",
   "metadata": {},
   "source": [
    "## Skoltech\n",
    "## Intro to data science, fall 2022\n",
    "## Assigment 2\n",
    "\n",
    "### Goals\n",
    "- Make exploratory data analysis\n",
    "- Apply feature engineering and feature selection\n",
    "- Try to solve classification tasks and use classification performance metrics\n",
    "\n",
    "\n",
    "# Submiting the answers\n",
    "\n",
    "Google form to submit your answers: https://forms.gle/4q7o3aBVduyPgWzv9\n",
    "\n",
    "Use your **skoltech email**. For Name, Surname use **exactly the same spelling** as in canvas system.\n",
    "\n",
    "---\n",
    "\n",
    "If your answer is a ``float number``, then you must round it up to **3 decimals after the floating point**, e.g. 3.142 for pi or 9.78 for 9.780023\n",
    "\n",
    "---\n",
    "\n",
    "If your answer is a ``list of float or integer numbers``, then they should be reported in descending order, divided by a comma, e.g.:\n",
    "\n",
    "10.453,9.112,5.001,5.000,1.02\n",
    "\n",
    "If your answer is a ``list of str or letters``, then they should be in alphabetical order , e.g.:\n",
    "\n",
    "charlie,foxtrot,kilo,uniform\n",
    "\n",
    "a,c,f\n",
    "\n",
    "---\n",
    "\n",
    "The last part (Q5) does not have corresponding fields in the google form. It is **not optional** and it will be graded manually from your .ipynb file.\n",
    "\n",
    "---\n",
    "\n",
    "If you have any questions regarding this Home Assignment, you can ask them on piazza: https://piazza.com/class/l8q9rqodz872zj"
   ]
  },
  {
   "cell_type": "markdown",
   "metadata": {},
   "source": [
    "## Dataset\n",
    "\n",
    "This dataset concerns credit card applications. It has a good mix of attributes -- continuous, nominal with small numbers of values, and nominal with larger numbers of values. General goal is to predict which people in the dataset are successful in applying for a credit card.\n",
    "\n",
    "#### Attributes\n",
    "\n",
    "-   Gender: 0=Female, 1=Male\n",
    "-   Age: Age in years\n",
    "-   Debt: Outstanding debt\n",
    "-   Married: 0=Single/Divorced/etc, 1=Married\n",
    "-   BankCustomer: 0=does not have a bank account, 1=has a bank account\n",
    "-   Investment score: a number from 0 to 10\n",
    "-   BankRecord\n",
    "-   Industry: job sector of current or most recent job\n",
    "-   Ethnicity\n",
    "-   YearsEmployed\n",
    "-   PriorDefault: 0=no prior defaults, 1=prior default\n",
    "-   Employed: 0=not employed, 1=employed\n",
    "-   CreditScore\n",
    "-   DriversLicense: 0=no license, 1=has license\n",
    "-   Citizenship: either ByBirth, ByOtherMeans or Temporary\n",
    "-   ZipCode: 5 digit number\n",
    "-   Income\n",
    "-   Approved: 0=not approved, 1=approved"
   ]
  },
  {
   "cell_type": "markdown",
   "metadata": {
    "tags": []
   },
   "source": [
    "#### Import basic libraries"
   ]
  },
  {
   "cell_type": "code",
   "execution_count": 1,
   "metadata": {
    "id": "IxQ5oO5xbtyW"
   },
   "outputs": [],
   "source": [
    "import pandas as pd\n",
    "import numpy as np\n",
    "import matplotlib.pyplot as plt\n",
    "%matplotlib inline\n",
    "import seaborn as sns\n",
    "sns.set()\n",
    "import warnings\n",
    "warnings.filterwarnings('ignore')"
   ]
  },
  {
   "cell_type": "markdown",
   "metadata": {},
   "source": [
    "#### Read the data"
   ]
  },
  {
   "cell_type": "code",
   "execution_count": 2,
   "metadata": {
    "id": "mBWPB2ajcTnj"
   },
   "outputs": [],
   "source": [
    "df = pd.read_csv('credit_score_dataset.csv')"
   ]
  },
  {
   "cell_type": "markdown",
   "metadata": {
    "tags": []
   },
   "source": [
    "## 1. Data exploration\n",
    "\n",
    "Let's take a closer look at the data."
   ]
  },
  {
   "cell_type": "code",
   "execution_count": 3,
   "metadata": {},
   "outputs": [
    {
     "data": {
      "text/html": [
       "<div>\n",
       "<style scoped>\n",
       "    .dataframe tbody tr th:only-of-type {\n",
       "        vertical-align: middle;\n",
       "    }\n",
       "\n",
       "    .dataframe tbody tr th {\n",
       "        vertical-align: top;\n",
       "    }\n",
       "\n",
       "    .dataframe thead th {\n",
       "        text-align: right;\n",
       "    }\n",
       "</style>\n",
       "<table border=\"1\" class=\"dataframe\">\n",
       "  <thead>\n",
       "    <tr style=\"text-align: right;\">\n",
       "      <th></th>\n",
       "      <th>Gender</th>\n",
       "      <th>Age</th>\n",
       "      <th>Debt</th>\n",
       "      <th>Married</th>\n",
       "      <th>BankCustomer</th>\n",
       "      <th>Industry</th>\n",
       "      <th>InvestmentScore</th>\n",
       "      <th>BankRecord</th>\n",
       "      <th>Ethnicity</th>\n",
       "      <th>YearsEmployed</th>\n",
       "      <th>PriorDefault</th>\n",
       "      <th>Employed</th>\n",
       "      <th>CreditScore</th>\n",
       "      <th>DriversLicense</th>\n",
       "      <th>Citizen</th>\n",
       "      <th>ZipCode</th>\n",
       "      <th>Income</th>\n",
       "      <th>Approved</th>\n",
       "    </tr>\n",
       "  </thead>\n",
       "  <tbody>\n",
       "    <tr>\n",
       "      <th>0</th>\n",
       "      <td>1</td>\n",
       "      <td>30.83</td>\n",
       "      <td>0.000</td>\n",
       "      <td>1</td>\n",
       "      <td>1</td>\n",
       "      <td>Industrials</td>\n",
       "      <td>3.65</td>\n",
       "      <td>1</td>\n",
       "      <td>White</td>\n",
       "      <td>1.25</td>\n",
       "      <td>1</td>\n",
       "      <td>1</td>\n",
       "      <td>1</td>\n",
       "      <td>0</td>\n",
       "      <td>ByBirth</td>\n",
       "      <td>202</td>\n",
       "      <td>0</td>\n",
       "      <td>1</td>\n",
       "    </tr>\n",
       "    <tr>\n",
       "      <th>1</th>\n",
       "      <td>0</td>\n",
       "      <td>58.67</td>\n",
       "      <td>4.460</td>\n",
       "      <td>1</td>\n",
       "      <td>1</td>\n",
       "      <td>Materials</td>\n",
       "      <td>1.94</td>\n",
       "      <td>1</td>\n",
       "      <td>Black</td>\n",
       "      <td>3.04</td>\n",
       "      <td>1</td>\n",
       "      <td>1</td>\n",
       "      <td>6</td>\n",
       "      <td>0</td>\n",
       "      <td>ByBirth</td>\n",
       "      <td>43</td>\n",
       "      <td>560</td>\n",
       "      <td>1</td>\n",
       "    </tr>\n",
       "    <tr>\n",
       "      <th>2</th>\n",
       "      <td>0</td>\n",
       "      <td>24.50</td>\n",
       "      <td>0.500</td>\n",
       "      <td>1</td>\n",
       "      <td>1</td>\n",
       "      <td>Materials</td>\n",
       "      <td>8.15</td>\n",
       "      <td>1</td>\n",
       "      <td>Black</td>\n",
       "      <td>1.50</td>\n",
       "      <td>1</td>\n",
       "      <td>0</td>\n",
       "      <td>0</td>\n",
       "      <td>0</td>\n",
       "      <td>ByBirth</td>\n",
       "      <td>280</td>\n",
       "      <td>824</td>\n",
       "      <td>1</td>\n",
       "    </tr>\n",
       "    <tr>\n",
       "      <th>3</th>\n",
       "      <td>1</td>\n",
       "      <td>27.83</td>\n",
       "      <td>1.540</td>\n",
       "      <td>1</td>\n",
       "      <td>1</td>\n",
       "      <td>Industrials</td>\n",
       "      <td>7.99</td>\n",
       "      <td>1</td>\n",
       "      <td>White</td>\n",
       "      <td>3.75</td>\n",
       "      <td>1</td>\n",
       "      <td>1</td>\n",
       "      <td>5</td>\n",
       "      <td>1</td>\n",
       "      <td>ByBirth</td>\n",
       "      <td>100</td>\n",
       "      <td>3</td>\n",
       "      <td>1</td>\n",
       "    </tr>\n",
       "    <tr>\n",
       "      <th>4</th>\n",
       "      <td>1</td>\n",
       "      <td>20.17</td>\n",
       "      <td>5.625</td>\n",
       "      <td>1</td>\n",
       "      <td>1</td>\n",
       "      <td>Industrials</td>\n",
       "      <td>2.37</td>\n",
       "      <td>1</td>\n",
       "      <td>White</td>\n",
       "      <td>1.71</td>\n",
       "      <td>1</td>\n",
       "      <td>0</td>\n",
       "      <td>0</td>\n",
       "      <td>0</td>\n",
       "      <td>ByOtherMeans</td>\n",
       "      <td>120</td>\n",
       "      <td>0</td>\n",
       "      <td>1</td>\n",
       "    </tr>\n",
       "  </tbody>\n",
       "</table>\n",
       "</div>"
      ],
      "text/plain": [
       "   Gender    Age   Debt  Married  BankCustomer     Industry  InvestmentScore  \\\n",
       "0       1  30.83  0.000        1             1  Industrials             3.65   \n",
       "1       0  58.67  4.460        1             1    Materials             1.94   \n",
       "2       0  24.50  0.500        1             1    Materials             8.15   \n",
       "3       1  27.83  1.540        1             1  Industrials             7.99   \n",
       "4       1  20.17  5.625        1             1  Industrials             2.37   \n",
       "\n",
       "   BankRecord Ethnicity  YearsEmployed  PriorDefault  Employed  CreditScore  \\\n",
       "0           1     White           1.25             1         1            1   \n",
       "1           1     Black           3.04             1         1            6   \n",
       "2           1     Black           1.50             1         0            0   \n",
       "3           1     White           3.75             1         1            5   \n",
       "4           1     White           1.71             1         0            0   \n",
       "\n",
       "   DriversLicense       Citizen  ZipCode  Income  Approved  \n",
       "0               0       ByBirth      202       0         1  \n",
       "1               0       ByBirth       43     560         1  \n",
       "2               0       ByBirth      280     824         1  \n",
       "3               1       ByBirth      100       3         1  \n",
       "4               0  ByOtherMeans      120       0         1  "
      ]
     },
     "execution_count": 3,
     "metadata": {},
     "output_type": "execute_result"
    }
   ],
   "source": [
    "df.head(5)"
   ]
  },
  {
   "cell_type": "markdown",
   "metadata": {},
   "source": [
    "### Q1.1\n",
    "\n",
    "#### How many columns in the dataset?"
   ]
  },
  {
   "cell_type": "code",
   "execution_count": 4,
   "metadata": {},
   "outputs": [
    {
     "data": {
      "text/plain": [
       "18"
      ]
     },
     "execution_count": 4,
     "metadata": {},
     "output_type": "execute_result"
    }
   ],
   "source": [
    "df.shape[1]"
   ]
  },
  {
   "cell_type": "markdown",
   "metadata": {},
   "source": [
    "### Q1.2\n",
    "\n",
    "#### How many unique ethnicities are there?"
   ]
  },
  {
   "cell_type": "code",
   "execution_count": 5,
   "metadata": {},
   "outputs": [
    {
     "data": {
      "text/plain": [
       "5"
      ]
     },
     "execution_count": 5,
     "metadata": {},
     "output_type": "execute_result"
    }
   ],
   "source": [
    "df.Ethnicity.value_counts().size"
   ]
  },
  {
   "cell_type": "markdown",
   "metadata": {
    "tags": []
   },
   "source": [
    "### Q1.3\n",
    "#### What is the average age? Please answer with an integer. Please, use int()."
   ]
  },
  {
   "cell_type": "code",
   "execution_count": 6,
   "metadata": {},
   "outputs": [
    {
     "data": {
      "text/plain": [
       "31"
      ]
     },
     "execution_count": 6,
     "metadata": {},
     "output_type": "execute_result"
    }
   ],
   "source": [
    "int(df.Age.mean())"
   ]
  },
  {
   "cell_type": "markdown",
   "metadata": {},
   "source": [
    "### Q1.4\n",
    "#### People working in which industry are getting the most income on average?"
   ]
  },
  {
   "cell_type": "code",
   "execution_count": 7,
   "metadata": {},
   "outputs": [
    {
     "data": {
      "text/plain": [
       "'Transport'"
      ]
     },
     "execution_count": 7,
     "metadata": {},
     "output_type": "execute_result"
    }
   ],
   "source": [
    "# industries = df.Industry.value_counts().index\n",
    "df.groupby('Industry').mean().Income.sort_values(ascending=False).index[0]"
   ]
  },
  {
   "cell_type": "markdown",
   "metadata": {},
   "source": [
    "### Q1.5\n",
    "\n",
    "#### Assuming that column 'YearsEmployed' counts years from the first employment until the current moment, in what age people start working? Build a histogram for the age of the first employment. What is the average age to start working at? Please, answer with a float."
   ]
  },
  {
   "cell_type": "code",
   "execution_count": 8,
   "metadata": {},
   "outputs": [
    {
     "name": "stdout",
     "output_type": "stream",
     "text": [
      "29.291\n"
     ]
    },
    {
     "data": {
      "image/png": "[encoded data removed]",
      "text/plain": [
       "<Figure size 432x288 with 1 Axes>"
      ]
     },
     "metadata": {},
     "output_type": "display_data"
    }
   ],
   "source": [
    "df['AgeOfEmp'] = df.Age - df.YearsEmployed;\n",
    "plt.hist(df.AgeOfEmp, bins = 20)\n",
    "df.AgeOfEmp.mean()\n",
    "plt.axvline(df.AgeOfEmp.mean(), color='k', linestyle='dashed', linewidth=1)\n",
    "print(round(df.AgeOfEmp.mean(),3))"
   ]
  },
  {
   "cell_type": "markdown",
   "metadata": {},
   "source": [
    "### Q1.6 \n",
    "\n",
    "Let's try to analyze different features together. Build a [pairplot](https://seaborn.pydata.org/generated/seaborn.pairplot.html) for columns from ['Age', 'Debt', 'YearsEmployed', 'CreditScore', 'Income'] with 'Approved' as a 'hue' argument. The hue argument adds a color marker to the plots and it will allow us to analyze how loan application approval relates to other features. Note, you can pass `kind='scatter', plot_kws=dict(alpha=0.2)` arguments to make the dots semi-transparent.\n",
    "\n",
    "Which of the statements are true, if judged from the plot?\n",
    "- (a) People over 40 years old have less debt than people under 40 years old\n",
    "- (b) A credit application with low credit score is approved almost always\n",
    "- (c) There is no clear dependence between debt and years employed\n",
    "- (d) High income means high credit score"
   ]
  },
  {
   "cell_type": "code",
   "execution_count": 9,
   "metadata": {},
   "outputs": [
    {
     "data": {
      "image/png": "[encoded data removed]",
      "text/plain": [
       "<Figure size 960.05x900 with 20 Axes>"
      ]
     },
     "metadata": {},
     "output_type": "display_data"
    }
   ],
   "source": [
    "temp=['Age', 'Debt', 'YearsEmployed', 'CreditScore', 'Income', 'Approved']\n",
    "sns.pairplot(data=df[temp],  hue=\"Approved\",diag_kind=\"hist\", corner=True,kind='scatter', plot_kws=dict(alpha=0.8));"
   ]
  },
  {
   "cell_type": "markdown",
   "metadata": {},
   "source": [
    "c"
   ]
  },
  {
   "cell_type": "markdown",
   "metadata": {},
   "source": [
    "### Q1.7\n",
    "\n",
    "Build a [crosstab](https://pandas.pydata.org/docs/reference/api/pandas.crosstab.html) for ethnicity and industry. How many Latino people are working in healthcare?"
   ]
  },
  {
   "cell_type": "code",
   "execution_count": 10,
   "metadata": {},
   "outputs": [
    {
     "data": {
      "text/plain": [
       "52"
      ]
     },
     "execution_count": 10,
     "metadata": {},
     "output_type": "execute_result"
    }
   ],
   "source": [
    "pd.crosstab(df.Ethnicity, df.Industry).Healthcare.Latino"
   ]
  },
  {
   "cell_type": "markdown",
   "metadata": {},
   "source": [
    "## 2. Preprocessing\n",
    "The goal of the segment is to prepare data for further work"
   ]
  },
  {
   "cell_type": "markdown",
   "metadata": {},
   "source": [
    "### Q2.1\n",
    "There are two columns, that are exactly the same for all of the people. Let's drop one of them. As an answer, write the names of these columns divided by a comma."
   ]
  },
  {
   "cell_type": "code",
   "execution_count": 11,
   "metadata": {},
   "outputs": [
    {
     "name": "stdout",
     "output_type": "stream",
     "text": [
      "BankCustomer, BankRecord\n"
     ]
    }
   ],
   "source": [
    "df.describe()\n",
    "if(df['BankCustomer'].equals(df['BankRecord'])):\n",
    "    df = df.drop('BankRecord', axis=1)\n",
    "    \n",
    "print('BankCustomer, BankRecord')"
   ]
  },
  {
   "cell_type": "markdown",
   "metadata": {},
   "source": [
    "### Q2.2\n",
    "\n",
    "Now it's time to talk about the task for today. Our bank wants to predict whether the application for a loan is worthy or not. So we need to build a model that would predict it.\n",
    "\n",
    "Let's divide the dataset into a target (the 'Approved' column) and data (the rest of the columns). How many positive labels are there in target?\n"
   ]
  },
  {
   "cell_type": "code",
   "execution_count": 12,
   "metadata": {},
   "outputs": [
    {
     "data": {
      "text/plain": [
       "307"
      ]
     },
     "execution_count": 12,
     "metadata": {},
     "output_type": "execute_result"
    }
   ],
   "source": [
    "target = df.Approved;\n",
    "data = df.drop('Approved', axis=1);\n",
    "target.value_counts()[1]"
   ]
  },
  {
   "cell_type": "markdown",
   "metadata": {},
   "source": [
    "### Q2.3\n",
    "\n",
    "To honestly estimate the performance of the model, we need to split the dataset into train and test parts. In reality, a test could be millions of customers and a train could be a small playground to estimate the campaign. Our current dataset is not that big, so let's say the test would be just 30% of the dataset. Use `train_test_split` to make a split. Please set the `random_state` argument to 314 and don't forget to shuffle and stratify.\n",
    "How many positive labels do you have in test targets?"
   ]
  },
  {
   "cell_type": "code",
   "execution_count": 13,
   "metadata": {},
   "outputs": [
    {
     "data": {
      "text/plain": [
       "92"
      ]
     },
     "execution_count": 13,
     "metadata": {},
     "output_type": "execute_result"
    }
   ],
   "source": [
    "from sklearn.model_selection import train_test_split\n",
    "\n",
    "X_train, X_test, y_train, y_test = train_test_split(data, target, test_size=0.3, random_state=314, shuffle=True, stratify=target)\n",
    "\n",
    "sum(y_test==1)"
   ]
  },
  {
   "cell_type": "markdown",
   "metadata": {
    "tags": []
   },
   "source": [
    "## 3. Basic models\n",
    "\n",
    "Let's start with the most basic models. We going to use logistic regression, k neighbors classifier, and random forest without any modification or param tuning. This way we could be sure our future modification would indeed make the model stronger.\n",
    "\n",
    "Some of the features are not usable in the current form as categorical, so let's make a copy of x with the following columns for the section:\n",
    "\n",
    "'Gender', 'Age', 'Debt', 'Married', 'BankCustomer', 'InvestmentScore', 'YearsEmployed', 'PriorDefault', 'Employed', 'CreditScore', 'DriversLicense', 'ZipCode', 'Income'"
   ]
  },
  {
   "cell_type": "markdown",
   "metadata": {},
   "source": [
    "### Q3.1\n",
    "\n",
    "Build a logistic regression model. Set max_iter parameter to 5000. What is the f1_score for the model?\n"
   ]
  },
  {
   "cell_type": "code",
   "execution_count": 14,
   "metadata": {},
   "outputs": [],
   "source": [
    "key_features = ['Gender', 'Age', 'Debt', 'Married', 'BankCustomer', 'InvestmentScore', 'YearsEmployed', 'PriorDefault', 'Employed', 'CreditScore', 'DriversLicense', 'ZipCode', 'Income'];\n",
    "X_test1=X_test[key_features];\n",
    "X_train1=X_train[key_features];"
   ]
  },
  {
   "cell_type": "code",
   "execution_count": 15,
   "metadata": {},
   "outputs": [
    {
     "name": "stdout",
     "output_type": "stream",
     "text": [
      "0.862\n"
     ]
    }
   ],
   "source": [
    "from sklearn.metrics import f1_score\n",
    "from sklearn.linear_model import LogisticRegression\n",
    "from sklearn.metrics import accuracy_score, confusion_matrix\n",
    "\n",
    "Log = LogisticRegression(max_iter=5000)\n",
    "Log.fit(X_train1, y_train)\n",
    "y_pred1 = Log.predict(X_test1)\n",
    "\n",
    "print(round(f1_score(y_pred1, y_test),3))"
   ]
  },
  {
   "cell_type": "markdown",
   "metadata": {},
   "source": [
    "### Q3.2\n",
    "\n",
    "Build a k-neighbors classifier. What is the f1_score for the model?"
   ]
  },
  {
   "cell_type": "code",
   "execution_count": 16,
   "metadata": {},
   "outputs": [
    {
     "name": "stdout",
     "output_type": "stream",
     "text": [
      "0.613\n"
     ]
    }
   ],
   "source": [
    "from sklearn.neighbors import KNeighborsClassifier\n",
    "\n",
    "KNN = KNeighborsClassifier()\n",
    "KNN.fit(X_train1, y_train)\n",
    "y_pred2 = KNN.predict(X_test1)\n",
    "\n",
    "print(round(f1_score(y_test, y_pred2),3))"
   ]
  },
  {
   "cell_type": "markdown",
   "metadata": {},
   "source": [
    "### Q3.3\n",
    "\n",
    "Build a random forest classifier with n_estimators = 5. What is the f1_score for the model?"
   ]
  },
  {
   "cell_type": "code",
   "execution_count": 17,
   "metadata": {},
   "outputs": [
    {
     "name": "stdout",
     "output_type": "stream",
     "text": [
      "0.828\n"
     ]
    }
   ],
   "source": [
    "from sklearn.ensemble import RandomForestClassifier\n",
    "\n",
    "clf = RandomForestClassifier(n_estimators = 5)\n",
    "clf.fit(X_train1, y_train)\n",
    "y_pred3 = clf.predict(X_test1)\n",
    "\n",
    "print(round(f1_score(y_test, y_pred3),3))"
   ]
  },
  {
   "cell_type": "markdown",
   "metadata": {},
   "source": [
    "### Q3.4\n",
    "\n",
    "The models without fine-tuning are not as effective. First, let's try to regularize the regression with the L2 norm. Use 5-split cross-validation grid search to find the optimal C. You can use verbose argument of GridSearchCV in order to watch the progress of cross-validation. What is the f1 score for the model trained on the full train dataset with this regularization?"
   ]
  },
  {
   "cell_type": "code",
   "execution_count": 18,
   "metadata": {},
   "outputs": [
    {
     "name": "stdout",
     "output_type": "stream",
     "text": [
      "0.862\n"
     ]
    }
   ],
   "source": [
    "from sklearn.model_selection import GridSearchCV, KFold\n",
    "\n",
    "cv = KFold(n_splits=5, random_state=314, shuffle=True)\n",
    "clf = LogisticRegression(max_iter=5000)\n",
    "\n",
    "params_grid = {\n",
    "    'C': np.logspace(-9, 1, 30)\n",
    "}\n",
    "\n",
    "gs = GridSearchCV(clf, param_grid=params_grid, cv = cv)\n",
    "gs.fit(X_train1, y_train)\n",
    "\n",
    "y_pred_test=gs.best_estimator_.predict(X_test1)\n",
    "print(round(f1_score(y_test, y_pred_test),3))"
   ]
  },
  {
   "cell_type": "code",
   "execution_count": 19,
   "metadata": {},
   "outputs": [
    {
     "name": "stdout",
     "output_type": "stream",
     "text": [
      "0.862\n"
     ]
    }
   ],
   "source": [
    "y_pred_test1=gs.best_estimator_.predict(X_test1)\n",
    "print(round(f1_score(y_test, y_pred_test1),3))"
   ]
  },
  {
   "cell_type": "code",
   "execution_count": 20,
   "metadata": {},
   "outputs": [
    {
     "name": "stdout",
     "output_type": "stream",
     "text": [
      "0.853\n"
     ]
    }
   ],
   "source": [
    "print(round(gs.best_score_,3))"
   ]
  },
  {
   "cell_type": "markdown",
   "metadata": {},
   "source": [
    "### Q3.5\n",
    "\n",
    "Fine-tune a k-NN classifier, try to find an optimal number of neighbors, weights, and p with a 5-split cross-validation. What is the f1 score for a model trained on a full train dataset with these parameters?"
   ]
  },
  {
   "cell_type": "code",
   "execution_count": 21,
   "metadata": {},
   "outputs": [
    {
     "name": "stdout",
     "output_type": "stream",
     "text": [
      "0.629\n"
     ]
    }
   ],
   "source": [
    "from scipy import stats\n",
    "from sklearn.model_selection import RandomizedSearchCV\n",
    "\n",
    "cv=KFold(n_splits=5, shuffle = True, random_state=314)\n",
    "clf = KNeighborsClassifier()\n",
    "\n",
    "params = {\n",
    "    'n_neighbors': stats.randint(2, 70),\n",
    "    'weights': ['uniform','distance'],\n",
    "    'p':[1,2]\n",
    "    \n",
    "}\n",
    "\n",
    "rs = RandomizedSearchCV(estimator=clf,\n",
    "                       param_distributions=params,\n",
    "                       n_iter=100,\n",
    "                       cv=cv)\n",
    "rs.fit(X_train1, y_train)\n",
    "\n",
    "y_pred_test2=rs.best_estimator_.predict(X_test1)\n",
    "print(round(f1_score(y_pred_test2,y_test),3))"
   ]
  },
  {
   "cell_type": "code",
   "execution_count": 22,
   "metadata": {},
   "outputs": [
    {
     "data": {
      "text/plain": [
       "KNeighborsClassifier(n_neighbors=24, p=1)"
      ]
     },
     "execution_count": 22,
     "metadata": {},
     "output_type": "execute_result"
    }
   ],
   "source": [
    "rs.best_estimator_"
   ]
  },
  {
   "cell_type": "markdown",
   "metadata": {},
   "source": [
    "### Q3.6\n",
    "\n",
    "Use the 5-split CV to find the optimal number of estimators and max_features for the random forest. What is the f1 score for random forest trained on a full train dataset with these parameters?"
   ]
  },
  {
   "cell_type": "code",
   "execution_count": 23,
   "metadata": {},
   "outputs": [
    {
     "name": "stdout",
     "output_type": "stream",
     "text": [
      "0.854\n"
     ]
    }
   ],
   "source": [
    "cv = KFold(n_splits=5, random_state=314, shuffle=True)\n",
    "clf = RandomForestClassifier()\n",
    "\n",
    "params = {\n",
    "    'n_estimators': stats.randint(2, 70),\n",
    "    'max_features': ['sqrt', 'log2', None]\n",
    "    \n",
    "}\n",
    "\n",
    "rs = RandomizedSearchCV(estimator=clf,\n",
    "                       param_distributions=params,\n",
    "                       n_iter=100,\n",
    "                       cv=cv)\n",
    "rs.fit(X_train1, y_train)\n",
    "\n",
    "y_pred_test3=rs.best_estimator_.predict(X_test1)\n",
    "print(round(f1_score(y_test, y_pred_test3),3))"
   ]
  },
  {
   "cell_type": "markdown",
   "metadata": {},
   "source": [
    "## 4. Working with features\n",
    "\n",
    "Machine learning is sometimes called data science because everything depends on data. In this section, we'll apply some of the most popular modifications for data. IMPORTANT: In the previous section we took a subset of the columns; now it's time to work with all of them."
   ]
  },
  {
   "cell_type": "markdown",
   "metadata": {},
   "source": [
    "### Q4.1\n",
    "\n",
    "One of the standard procedures is data standardizations - it strongly influences the results of k-NN and make the convergence of other algorithms (i.e. logreg and neural nets) much faster. Let's apply `StandardScaler` for all the numerical columns - 'Age', 'Debt', 'YearsEmployed', 'InvestmentScore', 'CreditScore', 'ZipCode', 'Income'. \n",
    "\n",
    "What is the maximum value of Income now in the test set?"
   ]
  },
  {
   "cell_type": "code",
   "execution_count": 24,
   "metadata": {},
   "outputs": [
    {
     "name": "stdout",
     "output_type": "stream",
     "text": [
      "19.012\n"
     ]
    }
   ],
   "source": [
    "from sklearn.preprocessing import StandardScaler\n",
    "\n",
    "features=['Age', 'Debt', 'YearsEmployed', 'InvestmentScore', 'CreditScore', 'ZipCode', 'Income'];\n",
    "Xnew=data[features];\n",
    "\n",
    "scaler = StandardScaler()\n",
    "scaler.fit(Xnew)\n",
    "z=scaler.transform(Xnew)\n",
    "\n",
    "print(round(pd.DataFrame(z).max().iloc[-1],3))"
   ]
  },
  {
   "cell_type": "markdown",
   "metadata": {},
   "source": [
    "### Q4.2\n",
    "We have three categorical columns - 'Industry', 'Ethnicity' and 'Citizen'. We can't use them directly with our models, so let's use one-hot encoding - create a separate binary column for each possible value and drop the original 'Industry', 'Ethnicity' and 'Citizen' columns.\n",
    "\n",
    "How many columns do we have now?"
   ]
  },
  {
   "cell_type": "code",
   "execution_count": 25,
   "metadata": {},
   "outputs": [
    {
     "data": {
      "text/plain": [
       "36"
      ]
     },
     "execution_count": 25,
     "metadata": {},
     "output_type": "execute_result"
    }
   ],
   "source": [
    "from sklearn.preprocessing import OneHotEncoder\n",
    "\n",
    "ohe=OneHotEncoder(sparse=False)\n",
    "\n",
    "TCC = ['Industry', 'Ethnicity', 'Citizen' ]\n",
    "redo_colmns = pd.DataFrame(ohe.fit_transform(data[TCC]))\n",
    "\n",
    "names = [i[3:] for i in ohe.get_feature_names()]\n",
    "redo_colmns.set_axis(names,inplace = True,axis=1)\n",
    "\n",
    "#redo_colmns = ohe.get_feature_names_out([TCC])\n",
    "\n",
    "\n",
    "X = pd.concat([data,redo_colmns],axis = 1)\n",
    "X = X.drop(TCC, axis = 1)\n",
    "len(X.columns.values)"
   ]
  },
  {
   "cell_type": "code",
   "execution_count": 26,
   "metadata": {},
   "outputs": [],
   "source": [
    "X_train, X_test, y_train, y_test = train_test_split(X, target, test_size=0.3, random_state=314, shuffle=True, stratify=target)"
   ]
  },
  {
   "cell_type": "code",
   "execution_count": 27,
   "metadata": {},
   "outputs": [
    {
     "data": {
      "text/html": [
       "<div>\n",
       "<style scoped>\n",
       "    .dataframe tbody tr th:only-of-type {\n",
       "        vertical-align: middle;\n",
       "    }\n",
       "\n",
       "    .dataframe tbody tr th {\n",
       "        vertical-align: top;\n",
       "    }\n",
       "\n",
       "    .dataframe thead th {\n",
       "        text-align: right;\n",
       "    }\n",
       "</style>\n",
       "<table border=\"1\" class=\"dataframe\">\n",
       "  <thead>\n",
       "    <tr style=\"text-align: right;\">\n",
       "      <th></th>\n",
       "      <th>CommunicationServices</th>\n",
       "      <th>ConsumerDiscretionary</th>\n",
       "      <th>ConsumerStaples</th>\n",
       "      <th>Education</th>\n",
       "      <th>Energy</th>\n",
       "      <th>Financials</th>\n",
       "      <th>Healthcare</th>\n",
       "      <th>Industrials</th>\n",
       "      <th>InformationTechnology</th>\n",
       "      <th>Materials</th>\n",
       "      <th>...</th>\n",
       "      <th>Transport</th>\n",
       "      <th>Utilities</th>\n",
       "      <th>Asian</th>\n",
       "      <th>Black</th>\n",
       "      <th>Latino</th>\n",
       "      <th>Other</th>\n",
       "      <th>White</th>\n",
       "      <th>ByBirth</th>\n",
       "      <th>ByOtherMeans</th>\n",
       "      <th>Temporary</th>\n",
       "    </tr>\n",
       "  </thead>\n",
       "  <tbody>\n",
       "    <tr>\n",
       "      <th>0</th>\n",
       "      <td>0.0</td>\n",
       "      <td>0.0</td>\n",
       "      <td>0.0</td>\n",
       "      <td>0.0</td>\n",
       "      <td>0.0</td>\n",
       "      <td>0.0</td>\n",
       "      <td>0.0</td>\n",
       "      <td>1.0</td>\n",
       "      <td>0.0</td>\n",
       "      <td>0.0</td>\n",
       "      <td>...</td>\n",
       "      <td>0.0</td>\n",
       "      <td>0.0</td>\n",
       "      <td>0.0</td>\n",
       "      <td>0.0</td>\n",
       "      <td>0.0</td>\n",
       "      <td>0.0</td>\n",
       "      <td>1.0</td>\n",
       "      <td>1.0</td>\n",
       "      <td>0.0</td>\n",
       "      <td>0.0</td>\n",
       "    </tr>\n",
       "    <tr>\n",
       "      <th>1</th>\n",
       "      <td>0.0</td>\n",
       "      <td>0.0</td>\n",
       "      <td>0.0</td>\n",
       "      <td>0.0</td>\n",
       "      <td>0.0</td>\n",
       "      <td>0.0</td>\n",
       "      <td>0.0</td>\n",
       "      <td>0.0</td>\n",
       "      <td>0.0</td>\n",
       "      <td>1.0</td>\n",
       "      <td>...</td>\n",
       "      <td>0.0</td>\n",
       "      <td>0.0</td>\n",
       "      <td>0.0</td>\n",
       "      <td>1.0</td>\n",
       "      <td>0.0</td>\n",
       "      <td>0.0</td>\n",
       "      <td>0.0</td>\n",
       "      <td>1.0</td>\n",
       "      <td>0.0</td>\n",
       "      <td>0.0</td>\n",
       "    </tr>\n",
       "    <tr>\n",
       "      <th>2</th>\n",
       "      <td>0.0</td>\n",
       "      <td>0.0</td>\n",
       "      <td>0.0</td>\n",
       "      <td>0.0</td>\n",
       "      <td>0.0</td>\n",
       "      <td>0.0</td>\n",
       "      <td>0.0</td>\n",
       "      <td>0.0</td>\n",
       "      <td>0.0</td>\n",
       "      <td>1.0</td>\n",
       "      <td>...</td>\n",
       "      <td>0.0</td>\n",
       "      <td>0.0</td>\n",
       "      <td>0.0</td>\n",
       "      <td>1.0</td>\n",
       "      <td>0.0</td>\n",
       "      <td>0.0</td>\n",
       "      <td>0.0</td>\n",
       "      <td>1.0</td>\n",
       "      <td>0.0</td>\n",
       "      <td>0.0</td>\n",
       "    </tr>\n",
       "    <tr>\n",
       "      <th>3</th>\n",
       "      <td>0.0</td>\n",
       "      <td>0.0</td>\n",
       "      <td>0.0</td>\n",
       "      <td>0.0</td>\n",
       "      <td>0.0</td>\n",
       "      <td>0.0</td>\n",
       "      <td>0.0</td>\n",
       "      <td>1.0</td>\n",
       "      <td>0.0</td>\n",
       "      <td>0.0</td>\n",
       "      <td>...</td>\n",
       "      <td>0.0</td>\n",
       "      <td>0.0</td>\n",
       "      <td>0.0</td>\n",
       "      <td>0.0</td>\n",
       "      <td>0.0</td>\n",
       "      <td>0.0</td>\n",
       "      <td>1.0</td>\n",
       "      <td>1.0</td>\n",
       "      <td>0.0</td>\n",
       "      <td>0.0</td>\n",
       "    </tr>\n",
       "    <tr>\n",
       "      <th>4</th>\n",
       "      <td>0.0</td>\n",
       "      <td>0.0</td>\n",
       "      <td>0.0</td>\n",
       "      <td>0.0</td>\n",
       "      <td>0.0</td>\n",
       "      <td>0.0</td>\n",
       "      <td>0.0</td>\n",
       "      <td>1.0</td>\n",
       "      <td>0.0</td>\n",
       "      <td>0.0</td>\n",
       "      <td>...</td>\n",
       "      <td>0.0</td>\n",
       "      <td>0.0</td>\n",
       "      <td>0.0</td>\n",
       "      <td>0.0</td>\n",
       "      <td>0.0</td>\n",
       "      <td>0.0</td>\n",
       "      <td>1.0</td>\n",
       "      <td>0.0</td>\n",
       "      <td>1.0</td>\n",
       "      <td>0.0</td>\n",
       "    </tr>\n",
       "    <tr>\n",
       "      <th>...</th>\n",
       "      <td>...</td>\n",
       "      <td>...</td>\n",
       "      <td>...</td>\n",
       "      <td>...</td>\n",
       "      <td>...</td>\n",
       "      <td>...</td>\n",
       "      <td>...</td>\n",
       "      <td>...</td>\n",
       "      <td>...</td>\n",
       "      <td>...</td>\n",
       "      <td>...</td>\n",
       "      <td>...</td>\n",
       "      <td>...</td>\n",
       "      <td>...</td>\n",
       "      <td>...</td>\n",
       "      <td>...</td>\n",
       "      <td>...</td>\n",
       "      <td>...</td>\n",
       "      <td>...</td>\n",
       "      <td>...</td>\n",
       "      <td>...</td>\n",
       "    </tr>\n",
       "    <tr>\n",
       "      <th>685</th>\n",
       "      <td>0.0</td>\n",
       "      <td>0.0</td>\n",
       "      <td>0.0</td>\n",
       "      <td>1.0</td>\n",
       "      <td>0.0</td>\n",
       "      <td>0.0</td>\n",
       "      <td>0.0</td>\n",
       "      <td>0.0</td>\n",
       "      <td>0.0</td>\n",
       "      <td>0.0</td>\n",
       "      <td>...</td>\n",
       "      <td>0.0</td>\n",
       "      <td>0.0</td>\n",
       "      <td>0.0</td>\n",
       "      <td>1.0</td>\n",
       "      <td>0.0</td>\n",
       "      <td>0.0</td>\n",
       "      <td>0.0</td>\n",
       "      <td>1.0</td>\n",
       "      <td>0.0</td>\n",
       "      <td>0.0</td>\n",
       "    </tr>\n",
       "    <tr>\n",
       "      <th>686</th>\n",
       "      <td>0.0</td>\n",
       "      <td>0.0</td>\n",
       "      <td>0.0</td>\n",
       "      <td>0.0</td>\n",
       "      <td>1.0</td>\n",
       "      <td>0.0</td>\n",
       "      <td>0.0</td>\n",
       "      <td>0.0</td>\n",
       "      <td>0.0</td>\n",
       "      <td>0.0</td>\n",
       "      <td>...</td>\n",
       "      <td>0.0</td>\n",
       "      <td>0.0</td>\n",
       "      <td>0.0</td>\n",
       "      <td>0.0</td>\n",
       "      <td>0.0</td>\n",
       "      <td>0.0</td>\n",
       "      <td>1.0</td>\n",
       "      <td>1.0</td>\n",
       "      <td>0.0</td>\n",
       "      <td>0.0</td>\n",
       "    </tr>\n",
       "    <tr>\n",
       "      <th>687</th>\n",
       "      <td>0.0</td>\n",
       "      <td>0.0</td>\n",
       "      <td>0.0</td>\n",
       "      <td>0.0</td>\n",
       "      <td>0.0</td>\n",
       "      <td>0.0</td>\n",
       "      <td>1.0</td>\n",
       "      <td>0.0</td>\n",
       "      <td>0.0</td>\n",
       "      <td>0.0</td>\n",
       "      <td>...</td>\n",
       "      <td>0.0</td>\n",
       "      <td>0.0</td>\n",
       "      <td>0.0</td>\n",
       "      <td>0.0</td>\n",
       "      <td>1.0</td>\n",
       "      <td>0.0</td>\n",
       "      <td>0.0</td>\n",
       "      <td>1.0</td>\n",
       "      <td>0.0</td>\n",
       "      <td>0.0</td>\n",
       "    </tr>\n",
       "    <tr>\n",
       "      <th>688</th>\n",
       "      <td>0.0</td>\n",
       "      <td>0.0</td>\n",
       "      <td>1.0</td>\n",
       "      <td>0.0</td>\n",
       "      <td>0.0</td>\n",
       "      <td>0.0</td>\n",
       "      <td>0.0</td>\n",
       "      <td>0.0</td>\n",
       "      <td>0.0</td>\n",
       "      <td>0.0</td>\n",
       "      <td>...</td>\n",
       "      <td>0.0</td>\n",
       "      <td>0.0</td>\n",
       "      <td>0.0</td>\n",
       "      <td>0.0</td>\n",
       "      <td>0.0</td>\n",
       "      <td>0.0</td>\n",
       "      <td>1.0</td>\n",
       "      <td>1.0</td>\n",
       "      <td>0.0</td>\n",
       "      <td>0.0</td>\n",
       "    </tr>\n",
       "    <tr>\n",
       "      <th>689</th>\n",
       "      <td>0.0</td>\n",
       "      <td>0.0</td>\n",
       "      <td>0.0</td>\n",
       "      <td>0.0</td>\n",
       "      <td>1.0</td>\n",
       "      <td>0.0</td>\n",
       "      <td>0.0</td>\n",
       "      <td>0.0</td>\n",
       "      <td>0.0</td>\n",
       "      <td>0.0</td>\n",
       "      <td>...</td>\n",
       "      <td>0.0</td>\n",
       "      <td>0.0</td>\n",
       "      <td>0.0</td>\n",
       "      <td>1.0</td>\n",
       "      <td>0.0</td>\n",
       "      <td>0.0</td>\n",
       "      <td>0.0</td>\n",
       "      <td>1.0</td>\n",
       "      <td>0.0</td>\n",
       "      <td>0.0</td>\n",
       "    </tr>\n",
       "  </tbody>\n",
       "</table>\n",
       "<p>690 rows × 22 columns</p>\n",
       "</div>"
      ],
      "text/plain": [
       "     CommunicationServices  ConsumerDiscretionary  ConsumerStaples  Education  \\\n",
       "0                      0.0                    0.0              0.0        0.0   \n",
       "1                      0.0                    0.0              0.0        0.0   \n",
       "2                      0.0                    0.0              0.0        0.0   \n",
       "3                      0.0                    0.0              0.0        0.0   \n",
       "4                      0.0                    0.0              0.0        0.0   \n",
       "..                     ...                    ...              ...        ...   \n",
       "685                    0.0                    0.0              0.0        1.0   \n",
       "686                    0.0                    0.0              0.0        0.0   \n",
       "687                    0.0                    0.0              0.0        0.0   \n",
       "688                    0.0                    0.0              1.0        0.0   \n",
       "689                    0.0                    0.0              0.0        0.0   \n",
       "\n",
       "     Energy  Financials  Healthcare  Industrials  InformationTechnology  \\\n",
       "0       0.0         0.0         0.0          1.0                    0.0   \n",
       "1       0.0         0.0         0.0          0.0                    0.0   \n",
       "2       0.0         0.0         0.0          0.0                    0.0   \n",
       "3       0.0         0.0         0.0          1.0                    0.0   \n",
       "4       0.0         0.0         0.0          1.0                    0.0   \n",
       "..      ...         ...         ...          ...                    ...   \n",
       "685     0.0         0.0         0.0          0.0                    0.0   \n",
       "686     1.0         0.0         0.0          0.0                    0.0   \n",
       "687     0.0         0.0         1.0          0.0                    0.0   \n",
       "688     0.0         0.0         0.0          0.0                    0.0   \n",
       "689     1.0         0.0         0.0          0.0                    0.0   \n",
       "\n",
       "     Materials  ...  Transport  Utilities  Asian  Black  Latino  Other  White  \\\n",
       "0          0.0  ...        0.0        0.0    0.0    0.0     0.0    0.0    1.0   \n",
       "1          1.0  ...        0.0        0.0    0.0    1.0     0.0    0.0    0.0   \n",
       "2          1.0  ...        0.0        0.0    0.0    1.0     0.0    0.0    0.0   \n",
       "3          0.0  ...        0.0        0.0    0.0    0.0     0.0    0.0    1.0   \n",
       "4          0.0  ...        0.0        0.0    0.0    0.0     0.0    0.0    1.0   \n",
       "..         ...  ...        ...        ...    ...    ...     ...    ...    ...   \n",
       "685        0.0  ...        0.0        0.0    0.0    1.0     0.0    0.0    0.0   \n",
       "686        0.0  ...        0.0        0.0    0.0    0.0     0.0    0.0    1.0   \n",
       "687        0.0  ...        0.0        0.0    0.0    0.0     1.0    0.0    0.0   \n",
       "688        0.0  ...        0.0        0.0    0.0    0.0     0.0    0.0    1.0   \n",
       "689        0.0  ...        0.0        0.0    0.0    1.0     0.0    0.0    0.0   \n",
       "\n",
       "     ByBirth  ByOtherMeans  Temporary  \n",
       "0        1.0           0.0        0.0  \n",
       "1        1.0           0.0        0.0  \n",
       "2        1.0           0.0        0.0  \n",
       "3        1.0           0.0        0.0  \n",
       "4        0.0           1.0        0.0  \n",
       "..       ...           ...        ...  \n",
       "685      1.0           0.0        0.0  \n",
       "686      1.0           0.0        0.0  \n",
       "687      1.0           0.0        0.0  \n",
       "688      1.0           0.0        0.0  \n",
       "689      1.0           0.0        0.0  \n",
       "\n",
       "[690 rows x 22 columns]"
      ]
     },
     "execution_count": 27,
     "metadata": {},
     "output_type": "execute_result"
    }
   ],
   "source": [
    "#X.dtypes\n",
    "X.columns;\n",
    "\n",
    "redo_colmns\n",
    "# names"
   ]
  },
  {
   "cell_type": "markdown",
   "metadata": {},
   "source": [
    "### Q4.3\n",
    "\n",
    "To check the effects of the modification, train the logistic regression with **updated** optimal C. What is the f1 score now?"
   ]
  },
  {
   "cell_type": "code",
   "execution_count": 28,
   "metadata": {},
   "outputs": [
    {
     "name": "stdout",
     "output_type": "stream",
     "text": [
      "0.878\n"
     ]
    }
   ],
   "source": [
    "from sklearn.pipeline import make_pipeline\n",
    "\n",
    "cv = KFold(n_splits=5)\n",
    "pipe = make_pipeline(StandardScaler(), LogisticRegression(max_iter=5000))\n",
    "\n",
    "params_grid = {\n",
    "    'logisticregression__C': np.logspace(-9, 1, 30)\n",
    "}\n",
    "\n",
    "gs = GridSearchCV(pipe, param_grid=params_grid, cv = cv)\n",
    "gs.fit(X_train, y_train)\n",
    "\n",
    "y_pred_test_logistic=gs.best_estimator_.predict(X_test)\n",
    "print(round(f1_score(y_test, y_pred_test_logistic),3))"
   ]
  },
  {
   "cell_type": "markdown",
   "metadata": {},
   "source": [
    "### Q4.4\n",
    "\n",
    "Another popular performance metric is the ROC curve. Train a k-NN and logistic regression with **updated** optimal params and build a roc-curve for both of them on the sample plot. What is the difference between them on FPR 0.7 (approximately)?"
   ]
  },
  {
   "cell_type": "code",
   "execution_count": 29,
   "metadata": {},
   "outputs": [],
   "source": [
    "from sklearn.metrics import roc_curve, roc_auc_score\n",
    "\n",
    "y_prob_logistic = gs.predict_proba(X_test)"
   ]
  },
  {
   "cell_type": "code",
   "execution_count": 30,
   "metadata": {},
   "outputs": [],
   "source": [
    "ypl=y_prob_logistic[:,1];\n",
    "# for i in range (len(np.round_(y_prob_logistic,decimals = 2))):\n",
    "#     ypl.append(np.round_(y_prob_logistic,decimals = 2)[i][1])\n",
    "ypl;"
   ]
  },
  {
   "cell_type": "code",
   "execution_count": 31,
   "metadata": {},
   "outputs": [
    {
     "name": "stdout",
     "output_type": "stream",
     "text": [
      "0.629\n"
     ]
    }
   ],
   "source": [
    "cv=KFold(n_splits=5, shuffle = True, random_state=314)\n",
    "clf = KNeighborsClassifier()\n",
    "\n",
    "params = {\n",
    "    'n_neighbors': stats.randint(2, 90),\n",
    "    'weights': ['uniform','distance'],\n",
    "    'p':[1,2]\n",
    "    \n",
    "}\n",
    "\n",
    "rs = RandomizedSearchCV(estimator=clf,\n",
    "                       param_distributions=params,\n",
    "                       n_iter=100,\n",
    "                       cv=cv)\n",
    "rs.fit(X_train, y_train)\n",
    "\n",
    "y_pred_test2=rs.best_estimator_.predict(X_test)\n",
    "print(round(f1_score(y_pred_test2,y_test),3))\n"
   ]
  },
  {
   "cell_type": "code",
   "execution_count": 32,
   "metadata": {},
   "outputs": [],
   "source": [
    "y_prob_KNN = rs.predict_proba(X_test)\n",
    "ypk=y_prob_KNN[:,1];"
   ]
  },
  {
   "cell_type": "code",
   "execution_count": 33,
   "metadata": {},
   "outputs": [
    {
     "data": {
      "image/png": "[encoded data removed]",
      "text/plain": [
       "<Figure size 432x288 with 1 Axes>"
      ]
     },
     "metadata": {},
     "output_type": "display_data"
    }
   ],
   "source": [
    "fpr, tpr, _ = roc_curve(y_test, ypl)\n",
    "plt.step(fpr, tpr, color='b',\n",
    "         where='post', label='logistic')\n",
    "plt.fill_between(fpr, tpr, alpha=0.2, color='b')\n",
    "\n",
    "fpr, tpr, _ = roc_curve(y_test, ypk)\n",
    "plt.step(fpr, tpr, color='y',\n",
    "         where='post', label='KNN')\n",
    "plt.fill_between(fpr, tpr, alpha=0.2, color='y')\n",
    "\n",
    "plt.xlabel('FPR')\n",
    "plt.ylabel('TPR')\n",
    "plt.title('ROC curve')\n",
    "plt.legend();\n",
    "\n",
    "# plt.xlim([0.65, 0.75])\n",
    "# plt.ylim([0.9, .975])"
   ]
  },
  {
   "cell_type": "markdown",
   "metadata": {},
   "source": [
    "0.957 - 0.913 =  0.044"
   ]
  },
  {
   "cell_type": "markdown",
   "metadata": {},
   "source": [
    "### Q5.1 (2 points)\n",
    "\n",
    "Propose two derivative features and retrain one of the models with them. What is the performance?"
   ]
  },
  {
   "cell_type": "code",
   "execution_count": 34,
   "metadata": {},
   "outputs": [
    {
     "data": {
      "text/html": [
       "<div>\n",
       "<style scoped>\n",
       "    .dataframe tbody tr th:only-of-type {\n",
       "        vertical-align: middle;\n",
       "    }\n",
       "\n",
       "    .dataframe tbody tr th {\n",
       "        vertical-align: top;\n",
       "    }\n",
       "\n",
       "    .dataframe thead th {\n",
       "        text-align: right;\n",
       "    }\n",
       "</style>\n",
       "<table border=\"1\" class=\"dataframe\">\n",
       "  <thead>\n",
       "    <tr style=\"text-align: right;\">\n",
       "      <th></th>\n",
       "      <th>Gender</th>\n",
       "      <th>Age</th>\n",
       "      <th>Debt</th>\n",
       "      <th>Married</th>\n",
       "      <th>BankCustomer</th>\n",
       "      <th>InvestmentScore</th>\n",
       "      <th>YearsEmployed</th>\n",
       "      <th>PriorDefault</th>\n",
       "      <th>Employed</th>\n",
       "      <th>CreditScore</th>\n",
       "      <th>...</th>\n",
       "      <th>Transport</th>\n",
       "      <th>Utilities</th>\n",
       "      <th>Asian</th>\n",
       "      <th>Black</th>\n",
       "      <th>Latino</th>\n",
       "      <th>Other</th>\n",
       "      <th>White</th>\n",
       "      <th>ByBirth</th>\n",
       "      <th>ByOtherMeans</th>\n",
       "      <th>Temporary</th>\n",
       "    </tr>\n",
       "  </thead>\n",
       "  <tbody>\n",
       "    <tr>\n",
       "      <th>0</th>\n",
       "      <td>1</td>\n",
       "      <td>30.83</td>\n",
       "      <td>0.000</td>\n",
       "      <td>1</td>\n",
       "      <td>1</td>\n",
       "      <td>3.65</td>\n",
       "      <td>1.25</td>\n",
       "      <td>1</td>\n",
       "      <td>1</td>\n",
       "      <td>1</td>\n",
       "      <td>...</td>\n",
       "      <td>0.0</td>\n",
       "      <td>0.0</td>\n",
       "      <td>0.0</td>\n",
       "      <td>0.0</td>\n",
       "      <td>0.0</td>\n",
       "      <td>0.0</td>\n",
       "      <td>1.0</td>\n",
       "      <td>1.0</td>\n",
       "      <td>0.0</td>\n",
       "      <td>0.0</td>\n",
       "    </tr>\n",
       "    <tr>\n",
       "      <th>1</th>\n",
       "      <td>0</td>\n",
       "      <td>58.67</td>\n",
       "      <td>4.460</td>\n",
       "      <td>1</td>\n",
       "      <td>1</td>\n",
       "      <td>1.94</td>\n",
       "      <td>3.04</td>\n",
       "      <td>1</td>\n",
       "      <td>1</td>\n",
       "      <td>6</td>\n",
       "      <td>...</td>\n",
       "      <td>0.0</td>\n",
       "      <td>0.0</td>\n",
       "      <td>0.0</td>\n",
       "      <td>1.0</td>\n",
       "      <td>0.0</td>\n",
       "      <td>0.0</td>\n",
       "      <td>0.0</td>\n",
       "      <td>1.0</td>\n",
       "      <td>0.0</td>\n",
       "      <td>0.0</td>\n",
       "    </tr>\n",
       "    <tr>\n",
       "      <th>2</th>\n",
       "      <td>0</td>\n",
       "      <td>24.50</td>\n",
       "      <td>0.500</td>\n",
       "      <td>1</td>\n",
       "      <td>1</td>\n",
       "      <td>8.15</td>\n",
       "      <td>1.50</td>\n",
       "      <td>1</td>\n",
       "      <td>0</td>\n",
       "      <td>0</td>\n",
       "      <td>...</td>\n",
       "      <td>0.0</td>\n",
       "      <td>0.0</td>\n",
       "      <td>0.0</td>\n",
       "      <td>1.0</td>\n",
       "      <td>0.0</td>\n",
       "      <td>0.0</td>\n",
       "      <td>0.0</td>\n",
       "      <td>1.0</td>\n",
       "      <td>0.0</td>\n",
       "      <td>0.0</td>\n",
       "    </tr>\n",
       "    <tr>\n",
       "      <th>3</th>\n",
       "      <td>1</td>\n",
       "      <td>27.83</td>\n",
       "      <td>1.540</td>\n",
       "      <td>1</td>\n",
       "      <td>1</td>\n",
       "      <td>7.99</td>\n",
       "      <td>3.75</td>\n",
       "      <td>1</td>\n",
       "      <td>1</td>\n",
       "      <td>5</td>\n",
       "      <td>...</td>\n",
       "      <td>0.0</td>\n",
       "      <td>0.0</td>\n",
       "      <td>0.0</td>\n",
       "      <td>0.0</td>\n",
       "      <td>0.0</td>\n",
       "      <td>0.0</td>\n",
       "      <td>1.0</td>\n",
       "      <td>1.0</td>\n",
       "      <td>0.0</td>\n",
       "      <td>0.0</td>\n",
       "    </tr>\n",
       "    <tr>\n",
       "      <th>4</th>\n",
       "      <td>1</td>\n",
       "      <td>20.17</td>\n",
       "      <td>5.625</td>\n",
       "      <td>1</td>\n",
       "      <td>1</td>\n",
       "      <td>2.37</td>\n",
       "      <td>1.71</td>\n",
       "      <td>1</td>\n",
       "      <td>0</td>\n",
       "      <td>0</td>\n",
       "      <td>...</td>\n",
       "      <td>0.0</td>\n",
       "      <td>0.0</td>\n",
       "      <td>0.0</td>\n",
       "      <td>0.0</td>\n",
       "      <td>0.0</td>\n",
       "      <td>0.0</td>\n",
       "      <td>1.0</td>\n",
       "      <td>0.0</td>\n",
       "      <td>1.0</td>\n",
       "      <td>0.0</td>\n",
       "    </tr>\n",
       "    <tr>\n",
       "      <th>...</th>\n",
       "      <td>...</td>\n",
       "      <td>...</td>\n",
       "      <td>...</td>\n",
       "      <td>...</td>\n",
       "      <td>...</td>\n",
       "      <td>...</td>\n",
       "      <td>...</td>\n",
       "      <td>...</td>\n",
       "      <td>...</td>\n",
       "      <td>...</td>\n",
       "      <td>...</td>\n",
       "      <td>...</td>\n",
       "      <td>...</td>\n",
       "      <td>...</td>\n",
       "      <td>...</td>\n",
       "      <td>...</td>\n",
       "      <td>...</td>\n",
       "      <td>...</td>\n",
       "      <td>...</td>\n",
       "      <td>...</td>\n",
       "      <td>...</td>\n",
       "    </tr>\n",
       "    <tr>\n",
       "      <th>685</th>\n",
       "      <td>1</td>\n",
       "      <td>21.08</td>\n",
       "      <td>10.085</td>\n",
       "      <td>0</td>\n",
       "      <td>0</td>\n",
       "      <td>7.30</td>\n",
       "      <td>1.25</td>\n",
       "      <td>0</td>\n",
       "      <td>0</td>\n",
       "      <td>0</td>\n",
       "      <td>...</td>\n",
       "      <td>0.0</td>\n",
       "      <td>0.0</td>\n",
       "      <td>0.0</td>\n",
       "      <td>1.0</td>\n",
       "      <td>0.0</td>\n",
       "      <td>0.0</td>\n",
       "      <td>0.0</td>\n",
       "      <td>1.0</td>\n",
       "      <td>0.0</td>\n",
       "      <td>0.0</td>\n",
       "    </tr>\n",
       "    <tr>\n",
       "      <th>686</th>\n",
       "      <td>0</td>\n",
       "      <td>22.67</td>\n",
       "      <td>0.750</td>\n",
       "      <td>1</td>\n",
       "      <td>1</td>\n",
       "      <td>1.79</td>\n",
       "      <td>2.00</td>\n",
       "      <td>0</td>\n",
       "      <td>1</td>\n",
       "      <td>2</td>\n",
       "      <td>...</td>\n",
       "      <td>0.0</td>\n",
       "      <td>0.0</td>\n",
       "      <td>0.0</td>\n",
       "      <td>0.0</td>\n",
       "      <td>0.0</td>\n",
       "      <td>0.0</td>\n",
       "      <td>1.0</td>\n",
       "      <td>1.0</td>\n",
       "      <td>0.0</td>\n",
       "      <td>0.0</td>\n",
       "    </tr>\n",
       "    <tr>\n",
       "      <th>687</th>\n",
       "      <td>0</td>\n",
       "      <td>25.25</td>\n",
       "      <td>13.500</td>\n",
       "      <td>0</td>\n",
       "      <td>0</td>\n",
       "      <td>7.64</td>\n",
       "      <td>2.00</td>\n",
       "      <td>0</td>\n",
       "      <td>1</td>\n",
       "      <td>1</td>\n",
       "      <td>...</td>\n",
       "      <td>0.0</td>\n",
       "      <td>0.0</td>\n",
       "      <td>0.0</td>\n",
       "      <td>0.0</td>\n",
       "      <td>1.0</td>\n",
       "      <td>0.0</td>\n",
       "      <td>0.0</td>\n",
       "      <td>1.0</td>\n",
       "      <td>0.0</td>\n",
       "      <td>0.0</td>\n",
       "    </tr>\n",
       "    <tr>\n",
       "      <th>688</th>\n",
       "      <td>1</td>\n",
       "      <td>17.92</td>\n",
       "      <td>0.205</td>\n",
       "      <td>1</td>\n",
       "      <td>1</td>\n",
       "      <td>4.92</td>\n",
       "      <td>0.04</td>\n",
       "      <td>0</td>\n",
       "      <td>0</td>\n",
       "      <td>0</td>\n",
       "      <td>...</td>\n",
       "      <td>0.0</td>\n",
       "      <td>0.0</td>\n",
       "      <td>0.0</td>\n",
       "      <td>0.0</td>\n",
       "      <td>0.0</td>\n",
       "      <td>0.0</td>\n",
       "      <td>1.0</td>\n",
       "      <td>1.0</td>\n",
       "      <td>0.0</td>\n",
       "      <td>0.0</td>\n",
       "    </tr>\n",
       "    <tr>\n",
       "      <th>689</th>\n",
       "      <td>1</td>\n",
       "      <td>35.00</td>\n",
       "      <td>3.375</td>\n",
       "      <td>1</td>\n",
       "      <td>1</td>\n",
       "      <td>4.13</td>\n",
       "      <td>8.29</td>\n",
       "      <td>0</td>\n",
       "      <td>0</td>\n",
       "      <td>0</td>\n",
       "      <td>...</td>\n",
       "      <td>0.0</td>\n",
       "      <td>0.0</td>\n",
       "      <td>0.0</td>\n",
       "      <td>1.0</td>\n",
       "      <td>0.0</td>\n",
       "      <td>0.0</td>\n",
       "      <td>0.0</td>\n",
       "      <td>1.0</td>\n",
       "      <td>0.0</td>\n",
       "      <td>0.0</td>\n",
       "    </tr>\n",
       "  </tbody>\n",
       "</table>\n",
       "<p>690 rows × 36 columns</p>\n",
       "</div>"
      ],
      "text/plain": [
       "     Gender    Age    Debt  Married  BankCustomer  InvestmentScore  \\\n",
       "0         1  30.83   0.000        1             1             3.65   \n",
       "1         0  58.67   4.460        1             1             1.94   \n",
       "2         0  24.50   0.500        1             1             8.15   \n",
       "3         1  27.83   1.540        1             1             7.99   \n",
       "4         1  20.17   5.625        1             1             2.37   \n",
       "..      ...    ...     ...      ...           ...              ...   \n",
       "685       1  21.08  10.085        0             0             7.30   \n",
       "686       0  22.67   0.750        1             1             1.79   \n",
       "687       0  25.25  13.500        0             0             7.64   \n",
       "688       1  17.92   0.205        1             1             4.92   \n",
       "689       1  35.00   3.375        1             1             4.13   \n",
       "\n",
       "     YearsEmployed  PriorDefault  Employed  CreditScore  ...  Transport  \\\n",
       "0             1.25             1         1            1  ...        0.0   \n",
       "1             3.04             1         1            6  ...        0.0   \n",
       "2             1.50             1         0            0  ...        0.0   \n",
       "3             3.75             1         1            5  ...        0.0   \n",
       "4             1.71             1         0            0  ...        0.0   \n",
       "..             ...           ...       ...          ...  ...        ...   \n",
       "685           1.25             0         0            0  ...        0.0   \n",
       "686           2.00             0         1            2  ...        0.0   \n",
       "687           2.00             0         1            1  ...        0.0   \n",
       "688           0.04             0         0            0  ...        0.0   \n",
       "689           8.29             0         0            0  ...        0.0   \n",
       "\n",
       "     Utilities  Asian  Black  Latino  Other  White  ByBirth  ByOtherMeans  \\\n",
       "0          0.0    0.0    0.0     0.0    0.0    1.0      1.0           0.0   \n",
       "1          0.0    0.0    1.0     0.0    0.0    0.0      1.0           0.0   \n",
       "2          0.0    0.0    1.0     0.0    0.0    0.0      1.0           0.0   \n",
       "3          0.0    0.0    0.0     0.0    0.0    1.0      1.0           0.0   \n",
       "4          0.0    0.0    0.0     0.0    0.0    1.0      0.0           1.0   \n",
       "..         ...    ...    ...     ...    ...    ...      ...           ...   \n",
       "685        0.0    0.0    1.0     0.0    0.0    0.0      1.0           0.0   \n",
       "686        0.0    0.0    0.0     0.0    0.0    1.0      1.0           0.0   \n",
       "687        0.0    0.0    0.0     1.0    0.0    0.0      1.0           0.0   \n",
       "688        0.0    0.0    0.0     0.0    0.0    1.0      1.0           0.0   \n",
       "689        0.0    0.0    1.0     0.0    0.0    0.0      1.0           0.0   \n",
       "\n",
       "     Temporary  \n",
       "0          0.0  \n",
       "1          0.0  \n",
       "2          0.0  \n",
       "3          0.0  \n",
       "4          0.0  \n",
       "..         ...  \n",
       "685        0.0  \n",
       "686        0.0  \n",
       "687        0.0  \n",
       "688        0.0  \n",
       "689        0.0  \n",
       "\n",
       "[690 rows x 36 columns]"
      ]
     },
     "execution_count": 34,
     "metadata": {},
     "output_type": "execute_result"
    }
   ],
   "source": [
    "X"
   ]
  },
  {
   "cell_type": "code",
   "execution_count": 35,
   "metadata": {},
   "outputs": [
    {
     "name": "stdout",
     "output_type": "stream",
     "text": [
      "0.74  - random search\n",
      " 0.682  - grid search\n",
      "\n"
     ]
    }
   ],
   "source": [
    "#reaarranging dataset\n",
    "X=df;\n",
    "Y=df.Approved;\n",
    "\n",
    "X['Secured']=(X.Married+X.DriversLicense+X.Employed)/3;\n",
    "X.Debt = (X.Debt > 0)+1-1;\n",
    "\n",
    "temp = X.Income;\n",
    "X['SalaryRange'] = 1 + sum([data['Income'] > temp.quantile(0.2), data['Income'] > temp.quantile(0.4),data['Income'] > temp.quantile(0.6),data['Income'] > temp.quantile(0.8)])\n",
    "\n",
    "X['AgeRange'] = sum([data['Age'] > 15, data['Age'] > 30,data['Age'] > 45,data['Age'] > 60])\n",
    "\n",
    "to_drop = ['Approved', 'Gender','Married','BankCustomer', 'Ethnicity', 'PriorDefault', 'Employed','DriversLicense','Citizen','ZipCode','Income']\n",
    "X = X.drop(to_drop, axis = 1)\n",
    "\n",
    "\n",
    "\n",
    "\n",
    "#splitting dataset\n",
    "X_train, X_test, y_train, y_test = train_test_split(X, target, test_size=0.3, random_state=314, shuffle=True, stratify=target)\n",
    "\n",
    "\n",
    "#KFold\n",
    "cv = KFold(n_splits=5)\n",
    "pipe = make_pipeline(StandardScaler(), KNeighborsClassifier())\n",
    "\n",
    "#grid_search\n",
    "params_grid = {\n",
    "    'kneighborsclassifier__n_neighbors': range(3,22,2)\n",
    "}\n",
    "\n",
    "gs = GridSearchCV(pipe, param_grid=params_grid, cv = cv)\n",
    "gs.fit(X_train, y_train)\n",
    "\n",
    "#random_search\n",
    "params = {\n",
    "    'kneighborsclassifier__n_neighbors': stats.randint(2, 90),\n",
    "    'kneighborsclassifier__weights': ['uniform','distance'],\n",
    "    'kneighborsclassifier__p':[1,2]   \n",
    "}\n",
    "\n",
    "rs = RandomizedSearchCV(estimator=pipe,param_distributions=params, n_iter=100,cv=cv)\n",
    "rs.fit(X_train, y_train)\n",
    "\n",
    "y_pred_test_rand=rs.best_estimator_.predict(X_test) #result_by_random\n",
    "y_pred_test_grid=gs.best_estimator_.predict(X_test) #result_by_grid\n",
    "\n",
    "print(round(f1_score(y_test, y_pred_test_rand),3), ' - random search\\n', round(f1_score(y_test, y_pred_test_grid),3),' - grid search\\n')"
   ]
  },
  {
   "cell_type": "markdown",
   "metadata": {},
   "source": [
    "# Random is way much better!!!"
   ]
  },
  {
   "cell_type": "code",
   "execution_count": 36,
   "metadata": {},
   "outputs": [
    {
     "data": {
      "text/plain": [
       "(690, 23)"
      ]
     },
     "execution_count": 36,
     "metadata": {},
     "output_type": "execute_result"
    }
   ],
   "source": [
    "# X.columns\n",
    "X.shape"
   ]
  },
  {
   "cell_type": "markdown",
   "metadata": {
    "tags": []
   },
   "source": [
    "### Q5.2\n",
    "\n",
    "Train an xboost model with f1 score 0.8+"
   ]
  },
  {
   "cell_type": "code",
   "execution_count": 37,
   "metadata": {},
   "outputs": [],
   "source": [
    "# X.dtypes"
   ]
  },
  {
   "cell_type": "code",
   "execution_count": 38,
   "metadata": {},
   "outputs": [
    {
     "name": "stderr",
     "output_type": "stream",
     "text": [
      "100%|██████████████████████████████████████████████████████████████████████████████████| 99/99 [00:02<00:00, 33.35it/s]\n"
     ]
    }
   ],
   "source": [
    "from tqdm import tqdm\n",
    "from sklearn.ensemble import GradientBoostingRegressor\n",
    "from sklearn.metrics import mean_squared_error\n",
    "\n",
    "def mse(a,b):\n",
    "    return np.round(mean_squared_error(a,b), 3)\n",
    "\n",
    "train_mse = []\n",
    "test_mse = []\n",
    "\n",
    "n_trees = range(1, 100)\n",
    "\n",
    "for i in tqdm(n_trees):\n",
    "    gbt = GradientBoostingRegressor(n_estimators=i, learning_rate=.75, max_depth=1)\n",
    "    gbt.fit(X_train, y_train)\n",
    "    \n",
    "    y_pred_train = gbt.predict(X_train)\n",
    "    y_pred_test = gbt.predict(X_test)\n",
    "    \n",
    "    train_mse.append(mse(y_train, y_pred_train))\n",
    "    test_mse.append(mse(y_test, y_pred_test))\n",
    "    "
   ]
  },
  {
   "cell_type": "code",
   "execution_count": 39,
   "metadata": {},
   "outputs": [
    {
     "data": {
      "image/png": "[encoded data removed]",
      "text/plain": [
       "<Figure size 576x360 with 1 Axes>"
      ]
     },
     "metadata": {},
     "output_type": "display_data"
    }
   ],
   "source": [
    "    \n",
    "plt.figure(figsize=(8, 5))\n",
    "plt.plot(n_trees, train_mse, label='Train MSE')\n",
    "plt.plot(n_trees, test_mse, label='Test MSE')\n",
    "plt.xlabel('Number of trees in ensemble')\n",
    "plt.ylabel('MSE')\n",
    "plt.legend();"
   ]
  },
  {
   "cell_type": "code",
   "execution_count": 40,
   "metadata": {},
   "outputs": [
    {
     "name": "stderr",
     "output_type": "stream",
     "text": [
      "100%|██████████████████████████████████████████████████████████████████████████████████| 19/19 [00:00<00:00, 36.32it/s]\n"
     ]
    }
   ],
   "source": [
    "train_mse = []\n",
    "test_mse = []\n",
    "\n",
    "depth = range(1, 20)\n",
    "\n",
    "for d in tqdm(depth):\n",
    "    gbt = GradientBoostingRegressor(n_estimators=10, learning_rate=.1, max_depth=d)\n",
    "    gbt.fit(X_train, y_train)\n",
    "    \n",
    "    y_pred_train = gbt.predict(X_train)\n",
    "    y_pred_test = gbt.predict(X_test)\n",
    "    \n",
    "    train_mse.append(mse(y_train, y_pred_train))\n",
    "    test_mse.append(mse(y_test, y_pred_test))"
   ]
  },
  {
   "cell_type": "code",
   "execution_count": 41,
   "metadata": {},
   "outputs": [
    {
     "data": {
      "image/png": "[encoded data removed]",
      "text/plain": [
       "<Figure size 576x360 with 1 Axes>"
      ]
     },
     "metadata": {},
     "output_type": "display_data"
    }
   ],
   "source": [
    "plt.figure(figsize=(8, 5))\n",
    "plt.plot(depth, train_mse, label='Train MSE')\n",
    "plt.plot(depth, test_mse, label='Test MSE')\n",
    "plt.xlabel('Depth of individual trees')\n",
    "plt.ylabel('MSE')\n",
    "plt.legend();"
   ]
  },
  {
   "cell_type": "code",
   "execution_count": 42,
   "metadata": {},
   "outputs": [
    {
     "name": "stdout",
     "output_type": "stream",
     "text": [
      "0 Age float64\n",
      "1 Debt int32\n",
      "2 InvestmentScore float64\n",
      "3 YearsEmployed float64\n",
      "4 CreditScore int64\n",
      "5 AgeOfEmp float64\n",
      "6 Secured float64\n",
      "7 SalaryRange int32\n",
      "8 AgeRange int32\n",
      "9 0 float64\n",
      "10 1 float64\n",
      "11 2 float64\n",
      "12 3 float64\n",
      "13 4 float64\n",
      "14 5 float64\n",
      "15 6 float64\n",
      "16 7 float64\n",
      "17 8 float64\n",
      "18 9 float64\n",
      "19 10 float64\n",
      "20 11 float64\n",
      "21 12 float64\n",
      "22 13 float64\n"
     ]
    }
   ],
   "source": [
    "# X\n",
    "for i, col in enumerate(X.columns):\n",
    "    print(i,col, X[col].dtype)\n",
    "\n"
   ]
  },
  {
   "cell_type": "code",
   "execution_count": 43,
   "metadata": {},
   "outputs": [
    {
     "name": "stdout",
     "output_type": "stream",
     "text": [
      "0:\tlearn: 0.6076394\ttest: 0.5930551\tbest: 0.5930551 (0)\ttotal: 55.3ms\tremaining: 55.3s\n",
      "1:\tlearn: 0.5337446\ttest: 0.5224873\tbest: 0.5224873 (1)\ttotal: 58.9ms\tremaining: 29.4s\n",
      "2:\tlearn: 0.5054422\ttest: 0.4859790\tbest: 0.4859790 (2)\ttotal: 62.6ms\tremaining: 20.8s\n",
      "3:\tlearn: 0.4815706\ttest: 0.4614589\tbest: 0.4614589 (3)\ttotal: 66.4ms\tremaining: 16.5s\n",
      "4:\tlearn: 0.4687741\ttest: 0.4604749\tbest: 0.4604749 (4)\ttotal: 70.1ms\tremaining: 13.9s\n",
      "5:\tlearn: 0.4476880\ttest: 0.4431370\tbest: 0.4431370 (5)\ttotal: 72.8ms\tremaining: 12.1s\n",
      "6:\tlearn: 0.4336245\ttest: 0.4377211\tbest: 0.4377211 (6)\ttotal: 76.7ms\tremaining: 10.9s\n",
      "7:\tlearn: 0.4227646\ttest: 0.4240551\tbest: 0.4240551 (7)\ttotal: 79.3ms\tremaining: 9.84s\n",
      "8:\tlearn: 0.4128914\ttest: 0.4185929\tbest: 0.4185929 (8)\ttotal: 81.8ms\tremaining: 9s\n",
      "9:\tlearn: 0.4078483\ttest: 0.4122670\tbest: 0.4122670 (9)\ttotal: 85.5ms\tremaining: 8.46s\n",
      "10:\tlearn: 0.4011550\ttest: 0.4117179\tbest: 0.4117179 (10)\ttotal: 88ms\tremaining: 7.91s\n",
      "11:\tlearn: 0.3962660\ttest: 0.4073031\tbest: 0.4073031 (11)\ttotal: 90.5ms\tremaining: 7.45s\n",
      "12:\tlearn: 0.3893080\ttest: 0.4048924\tbest: 0.4048924 (12)\ttotal: 93.4ms\tremaining: 7.09s\n",
      "13:\tlearn: 0.3811479\ttest: 0.4037299\tbest: 0.4037299 (13)\ttotal: 96ms\tremaining: 6.76s\n",
      "14:\tlearn: 0.3715129\ttest: 0.4093300\tbest: 0.4037299 (13)\ttotal: 99.6ms\tremaining: 6.54s\n",
      "15:\tlearn: 0.3625019\ttest: 0.4054009\tbest: 0.4037299 (13)\ttotal: 102ms\tremaining: 6.27s\n",
      "16:\tlearn: 0.3581238\ttest: 0.4040774\tbest: 0.4037299 (13)\ttotal: 104ms\tremaining: 6.03s\n",
      "17:\tlearn: 0.3482747\ttest: 0.4080945\tbest: 0.4037299 (13)\ttotal: 106ms\tremaining: 5.81s\n",
      "18:\tlearn: 0.3398914\ttest: 0.4058008\tbest: 0.4037299 (13)\ttotal: 109ms\tremaining: 5.62s\n",
      "19:\tlearn: 0.3276499\ttest: 0.4005353\tbest: 0.4005353 (19)\ttotal: 111ms\tremaining: 5.45s\n",
      "20:\tlearn: 0.3204572\ttest: 0.4006670\tbest: 0.4005353 (19)\ttotal: 114ms\tremaining: 5.3s\n",
      "21:\tlearn: 0.3124381\ttest: 0.3997146\tbest: 0.3997146 (21)\ttotal: 116ms\tremaining: 5.16s\n",
      "22:\tlearn: 0.3060223\ttest: 0.3978460\tbest: 0.3978460 (22)\ttotal: 118ms\tremaining: 5.02s\n",
      "23:\tlearn: 0.2968831\ttest: 0.3899986\tbest: 0.3899986 (23)\ttotal: 120ms\tremaining: 4.9s\n",
      "24:\tlearn: 0.2854747\ttest: 0.4009729\tbest: 0.3899986 (23)\ttotal: 123ms\tremaining: 4.78s\n",
      "25:\tlearn: 0.2752710\ttest: 0.4031447\tbest: 0.3899986 (23)\ttotal: 125ms\tremaining: 4.68s\n",
      "26:\tlearn: 0.2693393\ttest: 0.4049086\tbest: 0.3899986 (23)\ttotal: 127ms\tremaining: 4.58s\n",
      "27:\tlearn: 0.2637816\ttest: 0.4154285\tbest: 0.3899986 (23)\ttotal: 129ms\tremaining: 4.48s\n",
      "28:\tlearn: 0.2576413\ttest: 0.4091846\tbest: 0.3899986 (23)\ttotal: 131ms\tremaining: 4.38s\n",
      "29:\tlearn: 0.2522627\ttest: 0.4105384\tbest: 0.3899986 (23)\ttotal: 133ms\tremaining: 4.29s\n",
      "30:\tlearn: 0.2460062\ttest: 0.4107115\tbest: 0.3899986 (23)\ttotal: 134ms\tremaining: 4.2s\n",
      "31:\tlearn: 0.2427987\ttest: 0.4090677\tbest: 0.3899986 (23)\ttotal: 136ms\tremaining: 4.12s\n",
      "32:\tlearn: 0.2393666\ttest: 0.4099138\tbest: 0.3899986 (23)\ttotal: 138ms\tremaining: 4.04s\n",
      "33:\tlearn: 0.2379310\ttest: 0.4083768\tbest: 0.3899986 (23)\ttotal: 140ms\tremaining: 3.98s\n",
      "34:\tlearn: 0.2340520\ttest: 0.4101023\tbest: 0.3899986 (23)\ttotal: 142ms\tremaining: 3.91s\n",
      "35:\tlearn: 0.2303630\ttest: 0.4109513\tbest: 0.3899986 (23)\ttotal: 144ms\tremaining: 3.84s\n",
      "36:\tlearn: 0.2241011\ttest: 0.4110667\tbest: 0.3899986 (23)\ttotal: 145ms\tremaining: 3.78s\n",
      "37:\tlearn: 0.2203049\ttest: 0.4114470\tbest: 0.3899986 (23)\ttotal: 147ms\tremaining: 3.72s\n",
      "38:\tlearn: 0.2144889\ttest: 0.4074742\tbest: 0.3899986 (23)\ttotal: 149ms\tremaining: 3.67s\n",
      "39:\tlearn: 0.2094833\ttest: 0.4075995\tbest: 0.3899986 (23)\ttotal: 151ms\tremaining: 3.61s\n",
      "40:\tlearn: 0.2052486\ttest: 0.4105346\tbest: 0.3899986 (23)\ttotal: 152ms\tremaining: 3.56s\n",
      "41:\tlearn: 0.2022355\ttest: 0.4137888\tbest: 0.3899986 (23)\ttotal: 154ms\tremaining: 3.51s\n",
      "42:\tlearn: 0.1980666\ttest: 0.4213812\tbest: 0.3899986 (23)\ttotal: 156ms\tremaining: 3.47s\n",
      "43:\tlearn: 0.1948212\ttest: 0.4232095\tbest: 0.3899986 (23)\ttotal: 158ms\tremaining: 3.43s\n",
      "44:\tlearn: 0.1898007\ttest: 0.4248630\tbest: 0.3899986 (23)\ttotal: 159ms\tremaining: 3.38s\n",
      "45:\tlearn: 0.1858449\ttest: 0.4259507\tbest: 0.3899986 (23)\ttotal: 161ms\tremaining: 3.34s\n",
      "46:\tlearn: 0.1816947\ttest: 0.4225808\tbest: 0.3899986 (23)\ttotal: 163ms\tremaining: 3.31s\n",
      "47:\tlearn: 0.1812378\ttest: 0.4226785\tbest: 0.3899986 (23)\ttotal: 165ms\tremaining: 3.27s\n",
      "48:\tlearn: 0.1742202\ttest: 0.4247031\tbest: 0.3899986 (23)\ttotal: 167ms\tremaining: 3.23s\n",
      "49:\tlearn: 0.1734068\ttest: 0.4253323\tbest: 0.3899986 (23)\ttotal: 168ms\tremaining: 3.2s\n",
      "50:\tlearn: 0.1720068\ttest: 0.4254923\tbest: 0.3899986 (23)\ttotal: 170ms\tremaining: 3.17s\n",
      "51:\tlearn: 0.1702098\ttest: 0.4262915\tbest: 0.3899986 (23)\ttotal: 172ms\tremaining: 3.13s\n",
      "52:\tlearn: 0.1655443\ttest: 0.4228047\tbest: 0.3899986 (23)\ttotal: 174ms\tremaining: 3.1s\n",
      "53:\tlearn: 0.1635311\ttest: 0.4180747\tbest: 0.3899986 (23)\ttotal: 176ms\tremaining: 3.08s\n",
      "54:\tlearn: 0.1614312\ttest: 0.4159121\tbest: 0.3899986 (23)\ttotal: 178ms\tremaining: 3.05s\n",
      "55:\tlearn: 0.1562204\ttest: 0.4147846\tbest: 0.3899986 (23)\ttotal: 179ms\tremaining: 3.02s\n",
      "56:\tlearn: 0.1530465\ttest: 0.4125336\tbest: 0.3899986 (23)\ttotal: 181ms\tremaining: 3s\n",
      "57:\tlearn: 0.1525088\ttest: 0.4131071\tbest: 0.3899986 (23)\ttotal: 183ms\tremaining: 2.97s\n",
      "58:\tlearn: 0.1502388\ttest: 0.4147448\tbest: 0.3899986 (23)\ttotal: 185ms\tremaining: 2.95s\n",
      "59:\tlearn: 0.1487000\ttest: 0.4168427\tbest: 0.3899986 (23)\ttotal: 187ms\tremaining: 2.92s\n",
      "60:\tlearn: 0.1460522\ttest: 0.4206899\tbest: 0.3899986 (23)\ttotal: 188ms\tremaining: 2.9s\n",
      "61:\tlearn: 0.1433233\ttest: 0.4229895\tbest: 0.3899986 (23)\ttotal: 190ms\tremaining: 2.88s\n",
      "62:\tlearn: 0.1401951\ttest: 0.4202580\tbest: 0.3899986 (23)\ttotal: 192ms\tremaining: 2.85s\n",
      "63:\tlearn: 0.1377009\ttest: 0.4228944\tbest: 0.3899986 (23)\ttotal: 194ms\tremaining: 2.83s\n",
      "64:\tlearn: 0.1355458\ttest: 0.4273775\tbest: 0.3899986 (23)\ttotal: 195ms\tremaining: 2.81s\n",
      "65:\tlearn: 0.1349209\ttest: 0.4264229\tbest: 0.3899986 (23)\ttotal: 197ms\tremaining: 2.79s\n",
      "66:\tlearn: 0.1326118\ttest: 0.4296718\tbest: 0.3899986 (23)\ttotal: 199ms\tremaining: 2.77s\n",
      "67:\tlearn: 0.1302726\ttest: 0.4325551\tbest: 0.3899986 (23)\ttotal: 200ms\tremaining: 2.75s\n",
      "68:\tlearn: 0.1288489\ttest: 0.4316888\tbest: 0.3899986 (23)\ttotal: 202ms\tremaining: 2.73s\n",
      "69:\tlearn: 0.1270955\ttest: 0.4284578\tbest: 0.3899986 (23)\ttotal: 204ms\tremaining: 2.7s\n",
      "70:\tlearn: 0.1245520\ttest: 0.4223988\tbest: 0.3899986 (23)\ttotal: 205ms\tremaining: 2.69s\n",
      "71:\tlearn: 0.1226810\ttest: 0.4230434\tbest: 0.3899986 (23)\ttotal: 207ms\tremaining: 2.67s\n",
      "72:\tlearn: 0.1203353\ttest: 0.4235683\tbest: 0.3899986 (23)\ttotal: 209ms\tremaining: 2.65s\n",
      "73:\tlearn: 0.1180986\ttest: 0.4227260\tbest: 0.3899986 (23)\ttotal: 211ms\tremaining: 2.64s\n",
      "74:\tlearn: 0.1158818\ttest: 0.4228600\tbest: 0.3899986 (23)\ttotal: 213ms\tremaining: 2.62s\n",
      "75:\tlearn: 0.1144816\ttest: 0.4241044\tbest: 0.3899986 (23)\ttotal: 214ms\tremaining: 2.61s\n",
      "76:\tlearn: 0.1125625\ttest: 0.4277174\tbest: 0.3899986 (23)\ttotal: 216ms\tremaining: 2.59s\n",
      "77:\tlearn: 0.1108358\ttest: 0.4302141\tbest: 0.3899986 (23)\ttotal: 218ms\tremaining: 2.57s\n",
      "78:\tlearn: 0.1091700\ttest: 0.4291311\tbest: 0.3899986 (23)\ttotal: 219ms\tremaining: 2.56s\n",
      "79:\tlearn: 0.1070098\ttest: 0.4328806\tbest: 0.3899986 (23)\ttotal: 222ms\tremaining: 2.55s\n",
      "80:\tlearn: 0.1058137\ttest: 0.4328352\tbest: 0.3899986 (23)\ttotal: 223ms\tremaining: 2.53s\n",
      "81:\tlearn: 0.1044126\ttest: 0.4327319\tbest: 0.3899986 (23)\ttotal: 225ms\tremaining: 2.52s\n",
      "82:\tlearn: 0.1029025\ttest: 0.4311423\tbest: 0.3899986 (23)\ttotal: 227ms\tremaining: 2.51s\n",
      "83:\tlearn: 0.1004740\ttest: 0.4318154\tbest: 0.3899986 (23)\ttotal: 229ms\tremaining: 2.49s\n",
      "84:\tlearn: 0.0997818\ttest: 0.4339173\tbest: 0.3899986 (23)\ttotal: 230ms\tremaining: 2.48s\n",
      "85:\tlearn: 0.0980133\ttest: 0.4348487\tbest: 0.3899986 (23)\ttotal: 233ms\tremaining: 2.47s\n",
      "86:\tlearn: 0.0968480\ttest: 0.4329267\tbest: 0.3899986 (23)\ttotal: 236ms\tremaining: 2.47s\n",
      "87:\tlearn: 0.0962488\ttest: 0.4344085\tbest: 0.3899986 (23)\ttotal: 238ms\tremaining: 2.47s\n",
      "88:\tlearn: 0.0949980\ttest: 0.4350693\tbest: 0.3899986 (23)\ttotal: 241ms\tremaining: 2.46s\n",
      "89:\tlearn: 0.0932986\ttest: 0.4396702\tbest: 0.3899986 (23)\ttotal: 243ms\tremaining: 2.45s\n",
      "90:\tlearn: 0.0902627\ttest: 0.4502988\tbest: 0.3899986 (23)\ttotal: 245ms\tremaining: 2.44s\n",
      "91:\tlearn: 0.0900490\ttest: 0.4511261\tbest: 0.3899986 (23)\ttotal: 247ms\tremaining: 2.44s\n",
      "92:\tlearn: 0.0897303\ttest: 0.4514756\tbest: 0.3899986 (23)\ttotal: 249ms\tremaining: 2.43s\n",
      "93:\tlearn: 0.0887636\ttest: 0.4551466\tbest: 0.3899986 (23)\ttotal: 251ms\tremaining: 2.42s\n",
      "94:\tlearn: 0.0868931\ttest: 0.4559814\tbest: 0.3899986 (23)\ttotal: 253ms\tremaining: 2.41s\n",
      "95:\tlearn: 0.0858118\ttest: 0.4565430\tbest: 0.3899986 (23)\ttotal: 255ms\tremaining: 2.4s\n",
      "96:\tlearn: 0.0848485\ttest: 0.4562231\tbest: 0.3899986 (23)\ttotal: 257ms\tremaining: 2.39s\n",
      "97:\tlearn: 0.0841735\ttest: 0.4565447\tbest: 0.3899986 (23)\ttotal: 258ms\tremaining: 2.38s\n",
      "98:\tlearn: 0.0825156\ttest: 0.4580481\tbest: 0.3899986 (23)\ttotal: 260ms\tremaining: 2.37s\n",
      "99:\tlearn: 0.0814339\ttest: 0.4614523\tbest: 0.3899986 (23)\ttotal: 262ms\tremaining: 2.36s\n",
      "100:\tlearn: 0.0807618\ttest: 0.4608399\tbest: 0.3899986 (23)\ttotal: 264ms\tremaining: 2.35s\n"
     ]
    },
    {
     "name": "stdout",
     "output_type": "stream",
     "text": [
      "101:\tlearn: 0.0797754\ttest: 0.4613160\tbest: 0.3899986 (23)\ttotal: 266ms\tremaining: 2.35s\n",
      "102:\tlearn: 0.0797091\ttest: 0.4610596\tbest: 0.3899986 (23)\ttotal: 268ms\tremaining: 2.34s\n",
      "103:\tlearn: 0.0781505\ttest: 0.4607745\tbest: 0.3899986 (23)\ttotal: 270ms\tremaining: 2.33s\n",
      "104:\tlearn: 0.0772274\ttest: 0.4632537\tbest: 0.3899986 (23)\ttotal: 272ms\tremaining: 2.32s\n",
      "105:\tlearn: 0.0755662\ttest: 0.4662967\tbest: 0.3899986 (23)\ttotal: 274ms\tremaining: 2.31s\n",
      "106:\tlearn: 0.0749242\ttest: 0.4685085\tbest: 0.3899986 (23)\ttotal: 276ms\tremaining: 2.3s\n",
      "107:\tlearn: 0.0743161\ttest: 0.4666548\tbest: 0.3899986 (23)\ttotal: 277ms\tremaining: 2.29s\n",
      "108:\tlearn: 0.0722033\ttest: 0.4674395\tbest: 0.3899986 (23)\ttotal: 279ms\tremaining: 2.28s\n",
      "109:\tlearn: 0.0716072\ttest: 0.4674968\tbest: 0.3899986 (23)\ttotal: 281ms\tremaining: 2.27s\n",
      "110:\tlearn: 0.0706515\ttest: 0.4688237\tbest: 0.3899986 (23)\ttotal: 283ms\tremaining: 2.27s\n",
      "111:\tlearn: 0.0700843\ttest: 0.4714463\tbest: 0.3899986 (23)\ttotal: 285ms\tremaining: 2.26s\n",
      "112:\tlearn: 0.0695221\ttest: 0.4707425\tbest: 0.3899986 (23)\ttotal: 287ms\tremaining: 2.25s\n",
      "113:\tlearn: 0.0686057\ttest: 0.4727625\tbest: 0.3899986 (23)\ttotal: 289ms\tremaining: 2.24s\n",
      "114:\tlearn: 0.0671423\ttest: 0.4773136\tbest: 0.3899986 (23)\ttotal: 291ms\tremaining: 2.24s\n",
      "115:\tlearn: 0.0670259\ttest: 0.4774136\tbest: 0.3899986 (23)\ttotal: 293ms\tremaining: 2.23s\n",
      "116:\tlearn: 0.0664709\ttest: 0.4781536\tbest: 0.3899986 (23)\ttotal: 294ms\tremaining: 2.22s\n",
      "117:\tlearn: 0.0655657\ttest: 0.4744978\tbest: 0.3899986 (23)\ttotal: 296ms\tremaining: 2.21s\n",
      "118:\tlearn: 0.0652208\ttest: 0.4732132\tbest: 0.3899986 (23)\ttotal: 298ms\tremaining: 2.21s\n",
      "119:\tlearn: 0.0641892\ttest: 0.4739478\tbest: 0.3899986 (23)\ttotal: 300ms\tremaining: 2.2s\n",
      "120:\tlearn: 0.0629380\ttest: 0.4726721\tbest: 0.3899986 (23)\ttotal: 301ms\tremaining: 2.19s\n",
      "121:\tlearn: 0.0626277\ttest: 0.4722502\tbest: 0.3899986 (23)\ttotal: 303ms\tremaining: 2.18s\n",
      "122:\tlearn: 0.0620621\ttest: 0.4740097\tbest: 0.3899986 (23)\ttotal: 305ms\tremaining: 2.18s\n",
      "123:\tlearn: 0.0610272\ttest: 0.4739772\tbest: 0.3899986 (23)\ttotal: 307ms\tremaining: 2.17s\n",
      "124:\tlearn: 0.0606329\ttest: 0.4740920\tbest: 0.3899986 (23)\ttotal: 309ms\tremaining: 2.16s\n",
      "125:\tlearn: 0.0597912\ttest: 0.4751176\tbest: 0.3899986 (23)\ttotal: 311ms\tremaining: 2.16s\n",
      "126:\tlearn: 0.0584511\ttest: 0.4811490\tbest: 0.3899986 (23)\ttotal: 313ms\tremaining: 2.15s\n",
      "127:\tlearn: 0.0580898\ttest: 0.4804068\tbest: 0.3899986 (23)\ttotal: 315ms\tremaining: 2.14s\n",
      "128:\tlearn: 0.0566767\ttest: 0.4789792\tbest: 0.3899986 (23)\ttotal: 316ms\tremaining: 2.14s\n",
      "129:\tlearn: 0.0556895\ttest: 0.4793993\tbest: 0.3899986 (23)\ttotal: 318ms\tremaining: 2.13s\n",
      "130:\tlearn: 0.0549556\ttest: 0.4804640\tbest: 0.3899986 (23)\ttotal: 320ms\tremaining: 2.12s\n",
      "131:\tlearn: 0.0543675\ttest: 0.4777462\tbest: 0.3899986 (23)\ttotal: 322ms\tremaining: 2.12s\n",
      "132:\tlearn: 0.0542513\ttest: 0.4777986\tbest: 0.3899986 (23)\ttotal: 324ms\tremaining: 2.11s\n",
      "133:\tlearn: 0.0540866\ttest: 0.4782543\tbest: 0.3899986 (23)\ttotal: 325ms\tremaining: 2.1s\n",
      "134:\tlearn: 0.0533328\ttest: 0.4786598\tbest: 0.3899986 (23)\ttotal: 327ms\tremaining: 2.1s\n",
      "135:\tlearn: 0.0525245\ttest: 0.4748784\tbest: 0.3899986 (23)\ttotal: 329ms\tremaining: 2.09s\n",
      "136:\tlearn: 0.0516073\ttest: 0.4771786\tbest: 0.3899986 (23)\ttotal: 331ms\tremaining: 2.08s\n",
      "137:\tlearn: 0.0511048\ttest: 0.4769899\tbest: 0.3899986 (23)\ttotal: 333ms\tremaining: 2.08s\n",
      "138:\tlearn: 0.0501884\ttest: 0.4799576\tbest: 0.3899986 (23)\ttotal: 334ms\tremaining: 2.07s\n",
      "139:\tlearn: 0.0496672\ttest: 0.4822515\tbest: 0.3899986 (23)\ttotal: 336ms\tremaining: 2.06s\n",
      "140:\tlearn: 0.0490964\ttest: 0.4822439\tbest: 0.3899986 (23)\ttotal: 338ms\tremaining: 2.06s\n",
      "141:\tlearn: 0.0488700\ttest: 0.4825522\tbest: 0.3899986 (23)\ttotal: 340ms\tremaining: 2.05s\n",
      "142:\tlearn: 0.0483245\ttest: 0.4839867\tbest: 0.3899986 (23)\ttotal: 341ms\tremaining: 2.05s\n",
      "143:\tlearn: 0.0476416\ttest: 0.4874707\tbest: 0.3899986 (23)\ttotal: 343ms\tremaining: 2.04s\n",
      "144:\tlearn: 0.0471966\ttest: 0.4899677\tbest: 0.3899986 (23)\ttotal: 345ms\tremaining: 2.03s\n",
      "145:\tlearn: 0.0465464\ttest: 0.4930042\tbest: 0.3899986 (23)\ttotal: 347ms\tremaining: 2.03s\n",
      "146:\tlearn: 0.0462482\ttest: 0.4930792\tbest: 0.3899986 (23)\ttotal: 349ms\tremaining: 2.02s\n",
      "147:\tlearn: 0.0453819\ttest: 0.4942074\tbest: 0.3899986 (23)\ttotal: 351ms\tremaining: 2.02s\n",
      "148:\tlearn: 0.0446305\ttest: 0.4944252\tbest: 0.3899986 (23)\ttotal: 353ms\tremaining: 2.01s\n",
      "149:\tlearn: 0.0443446\ttest: 0.4935904\tbest: 0.3899986 (23)\ttotal: 355ms\tremaining: 2.01s\n",
      "150:\tlearn: 0.0439540\ttest: 0.4990150\tbest: 0.3899986 (23)\ttotal: 356ms\tremaining: 2s\n",
      "151:\tlearn: 0.0432085\ttest: 0.5005661\tbest: 0.3899986 (23)\ttotal: 358ms\tremaining: 2s\n",
      "152:\tlearn: 0.0427910\ttest: 0.4992239\tbest: 0.3899986 (23)\ttotal: 360ms\tremaining: 1.99s\n",
      "153:\tlearn: 0.0424450\ttest: 0.4991188\tbest: 0.3899986 (23)\ttotal: 362ms\tremaining: 1.99s\n",
      "154:\tlearn: 0.0417252\ttest: 0.4971507\tbest: 0.3899986 (23)\ttotal: 364ms\tremaining: 1.98s\n",
      "155:\tlearn: 0.0413232\ttest: 0.4985746\tbest: 0.3899986 (23)\ttotal: 366ms\tremaining: 1.98s\n",
      "156:\tlearn: 0.0406065\ttest: 0.5015965\tbest: 0.3899986 (23)\ttotal: 367ms\tremaining: 1.97s\n",
      "157:\tlearn: 0.0400954\ttest: 0.5014007\tbest: 0.3899986 (23)\ttotal: 369ms\tremaining: 1.97s\n",
      "158:\tlearn: 0.0394038\ttest: 0.5042105\tbest: 0.3899986 (23)\ttotal: 371ms\tremaining: 1.96s\n",
      "159:\tlearn: 0.0390894\ttest: 0.5045079\tbest: 0.3899986 (23)\ttotal: 373ms\tremaining: 1.96s\n",
      "160:\tlearn: 0.0389417\ttest: 0.5054076\tbest: 0.3899986 (23)\ttotal: 375ms\tremaining: 1.95s\n",
      "161:\tlearn: 0.0385460\ttest: 0.5050991\tbest: 0.3899986 (23)\ttotal: 377ms\tremaining: 1.95s\n",
      "162:\tlearn: 0.0382746\ttest: 0.5067719\tbest: 0.3899986 (23)\ttotal: 379ms\tremaining: 1.94s\n",
      "163:\tlearn: 0.0380100\ttest: 0.5056358\tbest: 0.3899986 (23)\ttotal: 381ms\tremaining: 1.94s\n",
      "164:\tlearn: 0.0379288\ttest: 0.5056992\tbest: 0.3899986 (23)\ttotal: 382ms\tremaining: 1.93s\n",
      "165:\tlearn: 0.0376730\ttest: 0.5042011\tbest: 0.3899986 (23)\ttotal: 384ms\tremaining: 1.93s\n",
      "166:\tlearn: 0.0375684\ttest: 0.5042074\tbest: 0.3899986 (23)\ttotal: 386ms\tremaining: 1.92s\n",
      "167:\tlearn: 0.0371342\ttest: 0.5062814\tbest: 0.3899986 (23)\ttotal: 388ms\tremaining: 1.92s\n",
      "168:\tlearn: 0.0365693\ttest: 0.5104225\tbest: 0.3899986 (23)\ttotal: 389ms\tremaining: 1.92s\n",
      "169:\tlearn: 0.0362228\ttest: 0.5093834\tbest: 0.3899986 (23)\ttotal: 391ms\tremaining: 1.91s\n",
      "170:\tlearn: 0.0360962\ttest: 0.5087281\tbest: 0.3899986 (23)\ttotal: 393ms\tremaining: 1.91s\n",
      "171:\tlearn: 0.0357950\ttest: 0.5091327\tbest: 0.3899986 (23)\ttotal: 395ms\tremaining: 1.9s\n",
      "172:\tlearn: 0.0356020\ttest: 0.5086029\tbest: 0.3899986 (23)\ttotal: 398ms\tremaining: 1.9s\n",
      "173:\tlearn: 0.0352780\ttest: 0.5097157\tbest: 0.3899986 (23)\ttotal: 399ms\tremaining: 1.9s\n",
      "174:\tlearn: 0.0352354\ttest: 0.5095876\tbest: 0.3899986 (23)\ttotal: 401ms\tremaining: 1.89s\n",
      "175:\tlearn: 0.0349658\ttest: 0.5101035\tbest: 0.3899986 (23)\ttotal: 403ms\tremaining: 1.89s\n",
      "176:\tlearn: 0.0346577\ttest: 0.5118609\tbest: 0.3899986 (23)\ttotal: 405ms\tremaining: 1.88s\n",
      "177:\tlearn: 0.0343419\ttest: 0.5120648\tbest: 0.3899986 (23)\ttotal: 407ms\tremaining: 1.88s\n",
      "178:\tlearn: 0.0339095\ttest: 0.5120592\tbest: 0.3899986 (23)\ttotal: 408ms\tremaining: 1.87s\n",
      "179:\tlearn: 0.0335360\ttest: 0.5148721\tbest: 0.3899986 (23)\ttotal: 410ms\tremaining: 1.87s\n",
      "180:\tlearn: 0.0334094\ttest: 0.5155662\tbest: 0.3899986 (23)\ttotal: 412ms\tremaining: 1.86s\n",
      "181:\tlearn: 0.0332446\ttest: 0.5162123\tbest: 0.3899986 (23)\ttotal: 414ms\tremaining: 1.86s\n",
      "182:\tlearn: 0.0330531\ttest: 0.5152842\tbest: 0.3899986 (23)\ttotal: 415ms\tremaining: 1.85s\n",
      "183:\tlearn: 0.0325952\ttest: 0.5142436\tbest: 0.3899986 (23)\ttotal: 417ms\tremaining: 1.85s\n",
      "184:\tlearn: 0.0323881\ttest: 0.5151327\tbest: 0.3899986 (23)\ttotal: 419ms\tremaining: 1.84s\n",
      "185:\tlearn: 0.0323625\ttest: 0.5149079\tbest: 0.3899986 (23)\ttotal: 420ms\tremaining: 1.84s\n",
      "186:\tlearn: 0.0322426\ttest: 0.5150299\tbest: 0.3899986 (23)\ttotal: 422ms\tremaining: 1.84s\n",
      "187:\tlearn: 0.0322153\ttest: 0.5149031\tbest: 0.3899986 (23)\ttotal: 424ms\tremaining: 1.83s\n",
      "188:\tlearn: 0.0318282\ttest: 0.5140971\tbest: 0.3899986 (23)\ttotal: 426ms\tremaining: 1.83s\n",
      "189:\tlearn: 0.0315539\ttest: 0.5147313\tbest: 0.3899986 (23)\ttotal: 428ms\tremaining: 1.82s\n",
      "190:\tlearn: 0.0310050\ttest: 0.5141913\tbest: 0.3899986 (23)\ttotal: 429ms\tremaining: 1.82s\n",
      "191:\tlearn: 0.0306993\ttest: 0.5119613\tbest: 0.3899986 (23)\ttotal: 431ms\tremaining: 1.81s\n",
      "192:\tlearn: 0.0301369\ttest: 0.5144506\tbest: 0.3899986 (23)\ttotal: 433ms\tremaining: 1.81s\n",
      "193:\tlearn: 0.0296461\ttest: 0.5176960\tbest: 0.3899986 (23)\ttotal: 435ms\tremaining: 1.81s\n",
      "194:\tlearn: 0.0293068\ttest: 0.5227141\tbest: 0.3899986 (23)\ttotal: 437ms\tremaining: 1.8s\n"
     ]
    },
    {
     "name": "stdout",
     "output_type": "stream",
     "text": [
      "195:\tlearn: 0.0289524\ttest: 0.5224493\tbest: 0.3899986 (23)\ttotal: 439ms\tremaining: 1.8s\n",
      "196:\tlearn: 0.0284351\ttest: 0.5212728\tbest: 0.3899986 (23)\ttotal: 441ms\tremaining: 1.79s\n",
      "197:\tlearn: 0.0279199\ttest: 0.5248195\tbest: 0.3899986 (23)\ttotal: 442ms\tremaining: 1.79s\n",
      "198:\tlearn: 0.0277914\ttest: 0.5242185\tbest: 0.3899986 (23)\ttotal: 444ms\tremaining: 1.79s\n",
      "199:\tlearn: 0.0277705\ttest: 0.5241032\tbest: 0.3899986 (23)\ttotal: 445ms\tremaining: 1.78s\n",
      "200:\tlearn: 0.0275850\ttest: 0.5235289\tbest: 0.3899986 (23)\ttotal: 447ms\tremaining: 1.78s\n",
      "201:\tlearn: 0.0272936\ttest: 0.5243316\tbest: 0.3899986 (23)\ttotal: 448ms\tremaining: 1.77s\n",
      "202:\tlearn: 0.0270136\ttest: 0.5251601\tbest: 0.3899986 (23)\ttotal: 450ms\tremaining: 1.77s\n",
      "203:\tlearn: 0.0268218\ttest: 0.5228867\tbest: 0.3899986 (23)\ttotal: 452ms\tremaining: 1.76s\n",
      "204:\tlearn: 0.0267715\ttest: 0.5228614\tbest: 0.3899986 (23)\ttotal: 454ms\tremaining: 1.76s\n",
      "205:\tlearn: 0.0267233\ttest: 0.5230410\tbest: 0.3899986 (23)\ttotal: 456ms\tremaining: 1.75s\n",
      "206:\tlearn: 0.0265841\ttest: 0.5236130\tbest: 0.3899986 (23)\ttotal: 457ms\tremaining: 1.75s\n",
      "207:\tlearn: 0.0264040\ttest: 0.5242244\tbest: 0.3899986 (23)\ttotal: 459ms\tremaining: 1.75s\n",
      "208:\tlearn: 0.0261788\ttest: 0.5278105\tbest: 0.3899986 (23)\ttotal: 461ms\tremaining: 1.74s\n",
      "209:\tlearn: 0.0259416\ttest: 0.5277545\tbest: 0.3899986 (23)\ttotal: 463ms\tremaining: 1.74s\n",
      "210:\tlearn: 0.0256330\ttest: 0.5301976\tbest: 0.3899986 (23)\ttotal: 464ms\tremaining: 1.74s\n",
      "211:\tlearn: 0.0254987\ttest: 0.5310041\tbest: 0.3899986 (23)\ttotal: 466ms\tremaining: 1.73s\n",
      "212:\tlearn: 0.0250693\ttest: 0.5313380\tbest: 0.3899986 (23)\ttotal: 467ms\tremaining: 1.73s\n",
      "213:\tlearn: 0.0248229\ttest: 0.5305818\tbest: 0.3899986 (23)\ttotal: 469ms\tremaining: 1.72s\n",
      "214:\tlearn: 0.0247334\ttest: 0.5299265\tbest: 0.3899986 (23)\ttotal: 471ms\tremaining: 1.72s\n",
      "215:\tlearn: 0.0246248\ttest: 0.5293255\tbest: 0.3899986 (23)\ttotal: 472ms\tremaining: 1.71s\n",
      "216:\tlearn: 0.0245535\ttest: 0.5286374\tbest: 0.3899986 (23)\ttotal: 474ms\tremaining: 1.71s\n",
      "217:\tlearn: 0.0245186\ttest: 0.5287121\tbest: 0.3899986 (23)\ttotal: 475ms\tremaining: 1.71s\n",
      "218:\tlearn: 0.0242793\ttest: 0.5279561\tbest: 0.3899986 (23)\ttotal: 477ms\tremaining: 1.7s\n",
      "219:\tlearn: 0.0239826\ttest: 0.5283195\tbest: 0.3899986 (23)\ttotal: 478ms\tremaining: 1.7s\n",
      "220:\tlearn: 0.0239663\ttest: 0.5282853\tbest: 0.3899986 (23)\ttotal: 480ms\tremaining: 1.69s\n",
      "221:\tlearn: 0.0238135\ttest: 0.5297686\tbest: 0.3899986 (23)\ttotal: 482ms\tremaining: 1.69s\n",
      "222:\tlearn: 0.0237028\ttest: 0.5290417\tbest: 0.3899986 (23)\ttotal: 484ms\tremaining: 1.69s\n",
      "223:\tlearn: 0.0236065\ttest: 0.5297204\tbest: 0.3899986 (23)\ttotal: 485ms\tremaining: 1.68s\n",
      "224:\tlearn: 0.0233408\ttest: 0.5297994\tbest: 0.3899986 (23)\ttotal: 487ms\tremaining: 1.68s\n",
      "225:\tlearn: 0.0231504\ttest: 0.5312074\tbest: 0.3899986 (23)\ttotal: 489ms\tremaining: 1.67s\n",
      "226:\tlearn: 0.0230967\ttest: 0.5315067\tbest: 0.3899986 (23)\ttotal: 490ms\tremaining: 1.67s\n",
      "227:\tlearn: 0.0229202\ttest: 0.5317682\tbest: 0.3899986 (23)\ttotal: 492ms\tremaining: 1.67s\n",
      "228:\tlearn: 0.0227696\ttest: 0.5317102\tbest: 0.3899986 (23)\ttotal: 494ms\tremaining: 1.66s\n",
      "229:\tlearn: 0.0224942\ttest: 0.5347490\tbest: 0.3899986 (23)\ttotal: 496ms\tremaining: 1.66s\n",
      "230:\tlearn: 0.0221536\ttest: 0.5353420\tbest: 0.3899986 (23)\ttotal: 497ms\tremaining: 1.66s\n",
      "231:\tlearn: 0.0219779\ttest: 0.5346170\tbest: 0.3899986 (23)\ttotal: 499ms\tremaining: 1.65s\n",
      "232:\tlearn: 0.0219259\ttest: 0.5355841\tbest: 0.3899986 (23)\ttotal: 501ms\tremaining: 1.65s\n",
      "233:\tlearn: 0.0217673\ttest: 0.5357506\tbest: 0.3899986 (23)\ttotal: 502ms\tremaining: 1.64s\n",
      "234:\tlearn: 0.0216652\ttest: 0.5364984\tbest: 0.3899986 (23)\ttotal: 504ms\tremaining: 1.64s\n",
      "235:\tlearn: 0.0214654\ttest: 0.5377551\tbest: 0.3899986 (23)\ttotal: 505ms\tremaining: 1.64s\n",
      "236:\tlearn: 0.0213055\ttest: 0.5391733\tbest: 0.3899986 (23)\ttotal: 507ms\tremaining: 1.63s\n",
      "237:\tlearn: 0.0212003\ttest: 0.5409998\tbest: 0.3899986 (23)\ttotal: 509ms\tremaining: 1.63s\n",
      "238:\tlearn: 0.0210377\ttest: 0.5432922\tbest: 0.3899986 (23)\ttotal: 510ms\tremaining: 1.62s\n",
      "239:\tlearn: 0.0208128\ttest: 0.5423214\tbest: 0.3899986 (23)\ttotal: 512ms\tremaining: 1.62s\n",
      "240:\tlearn: 0.0207471\ttest: 0.5419444\tbest: 0.3899986 (23)\ttotal: 514ms\tremaining: 1.62s\n",
      "241:\tlearn: 0.0205388\ttest: 0.5414050\tbest: 0.3899986 (23)\ttotal: 515ms\tremaining: 1.61s\n",
      "242:\tlearn: 0.0203462\ttest: 0.5379630\tbest: 0.3899986 (23)\ttotal: 517ms\tremaining: 1.61s\n",
      "243:\tlearn: 0.0203364\ttest: 0.5380068\tbest: 0.3899986 (23)\ttotal: 519ms\tremaining: 1.61s\n",
      "244:\tlearn: 0.0201386\ttest: 0.5375856\tbest: 0.3899986 (23)\ttotal: 520ms\tremaining: 1.6s\n",
      "245:\tlearn: 0.0200249\ttest: 0.5375758\tbest: 0.3899986 (23)\ttotal: 522ms\tremaining: 1.6s\n",
      "246:\tlearn: 0.0196948\ttest: 0.5377561\tbest: 0.3899986 (23)\ttotal: 524ms\tremaining: 1.6s\n",
      "247:\tlearn: 0.0194714\ttest: 0.5371755\tbest: 0.3899986 (23)\ttotal: 525ms\tremaining: 1.59s\n",
      "248:\tlearn: 0.0192343\ttest: 0.5385295\tbest: 0.3899986 (23)\ttotal: 527ms\tremaining: 1.59s\n",
      "249:\tlearn: 0.0191697\ttest: 0.5390776\tbest: 0.3899986 (23)\ttotal: 529ms\tremaining: 1.59s\n",
      "250:\tlearn: 0.0191242\ttest: 0.5398987\tbest: 0.3899986 (23)\ttotal: 530ms\tremaining: 1.58s\n",
      "251:\tlearn: 0.0190088\ttest: 0.5394724\tbest: 0.3899986 (23)\ttotal: 532ms\tremaining: 1.58s\n",
      "252:\tlearn: 0.0188498\ttest: 0.5392669\tbest: 0.3899986 (23)\ttotal: 534ms\tremaining: 1.57s\n",
      "253:\tlearn: 0.0187070\ttest: 0.5387706\tbest: 0.3899986 (23)\ttotal: 535ms\tremaining: 1.57s\n",
      "254:\tlearn: 0.0186576\ttest: 0.5386384\tbest: 0.3899986 (23)\ttotal: 537ms\tremaining: 1.57s\n",
      "255:\tlearn: 0.0185093\ttest: 0.5415268\tbest: 0.3899986 (23)\ttotal: 538ms\tremaining: 1.56s\n",
      "256:\tlearn: 0.0182921\ttest: 0.5420798\tbest: 0.3899986 (23)\ttotal: 540ms\tremaining: 1.56s\n",
      "257:\tlearn: 0.0180394\ttest: 0.5421832\tbest: 0.3899986 (23)\ttotal: 542ms\tremaining: 1.56s\n",
      "258:\tlearn: 0.0179817\ttest: 0.5428393\tbest: 0.3899986 (23)\ttotal: 543ms\tremaining: 1.55s\n",
      "259:\tlearn: 0.0179224\ttest: 0.5427458\tbest: 0.3899986 (23)\ttotal: 545ms\tremaining: 1.55s\n",
      "260:\tlearn: 0.0178140\ttest: 0.5417042\tbest: 0.3899986 (23)\ttotal: 547ms\tremaining: 1.55s\n",
      "261:\tlearn: 0.0175937\ttest: 0.5437246\tbest: 0.3899986 (23)\ttotal: 548ms\tremaining: 1.54s\n",
      "262:\tlearn: 0.0175393\ttest: 0.5448361\tbest: 0.3899986 (23)\ttotal: 550ms\tremaining: 1.54s\n",
      "263:\tlearn: 0.0173102\ttest: 0.5468316\tbest: 0.3899986 (23)\ttotal: 552ms\tremaining: 1.54s\n",
      "264:\tlearn: 0.0172808\ttest: 0.5471852\tbest: 0.3899986 (23)\ttotal: 553ms\tremaining: 1.53s\n",
      "265:\tlearn: 0.0172718\ttest: 0.5471971\tbest: 0.3899986 (23)\ttotal: 555ms\tremaining: 1.53s\n",
      "266:\tlearn: 0.0172642\ttest: 0.5471923\tbest: 0.3899986 (23)\ttotal: 557ms\tremaining: 1.53s\n",
      "267:\tlearn: 0.0172643\ttest: 0.5471924\tbest: 0.3899986 (23)\ttotal: 558ms\tremaining: 1.52s\n",
      "268:\tlearn: 0.0172514\ttest: 0.5471524\tbest: 0.3899986 (23)\ttotal: 560ms\tremaining: 1.52s\n",
      "269:\tlearn: 0.0172288\ttest: 0.5474771\tbest: 0.3899986 (23)\ttotal: 562ms\tremaining: 1.52s\n",
      "270:\tlearn: 0.0171145\ttest: 0.5472514\tbest: 0.3899986 (23)\ttotal: 564ms\tremaining: 1.51s\n",
      "271:\tlearn: 0.0170738\ttest: 0.5475952\tbest: 0.3899986 (23)\ttotal: 565ms\tremaining: 1.51s\n",
      "272:\tlearn: 0.0168980\ttest: 0.5505470\tbest: 0.3899986 (23)\ttotal: 567ms\tremaining: 1.51s\n",
      "273:\tlearn: 0.0168977\ttest: 0.5505492\tbest: 0.3899986 (23)\ttotal: 569ms\tremaining: 1.51s\n",
      "274:\tlearn: 0.0167764\ttest: 0.5522149\tbest: 0.3899986 (23)\ttotal: 571ms\tremaining: 1.5s\n",
      "275:\tlearn: 0.0167266\ttest: 0.5506221\tbest: 0.3899986 (23)\ttotal: 573ms\tremaining: 1.5s\n",
      "276:\tlearn: 0.0166840\ttest: 0.5507564\tbest: 0.3899986 (23)\ttotal: 575ms\tremaining: 1.5s\n",
      "277:\tlearn: 0.0166159\ttest: 0.5519193\tbest: 0.3899986 (23)\ttotal: 577ms\tremaining: 1.5s\n",
      "278:\tlearn: 0.0165629\ttest: 0.5525412\tbest: 0.3899986 (23)\ttotal: 579ms\tremaining: 1.5s\n",
      "279:\tlearn: 0.0164298\ttest: 0.5506457\tbest: 0.3899986 (23)\ttotal: 581ms\tremaining: 1.49s\n",
      "280:\tlearn: 0.0162297\ttest: 0.5502306\tbest: 0.3899986 (23)\ttotal: 582ms\tremaining: 1.49s\n",
      "281:\tlearn: 0.0161917\ttest: 0.5507540\tbest: 0.3899986 (23)\ttotal: 584ms\tremaining: 1.49s\n",
      "282:\tlearn: 0.0161000\ttest: 0.5530847\tbest: 0.3899986 (23)\ttotal: 586ms\tremaining: 1.48s\n",
      "283:\tlearn: 0.0160992\ttest: 0.5531116\tbest: 0.3899986 (23)\ttotal: 587ms\tremaining: 1.48s\n",
      "284:\tlearn: 0.0160992\ttest: 0.5531121\tbest: 0.3899986 (23)\ttotal: 589ms\tremaining: 1.48s\n",
      "285:\tlearn: 0.0160990\ttest: 0.5531130\tbest: 0.3899986 (23)\ttotal: 591ms\tremaining: 1.47s\n",
      "286:\tlearn: 0.0159660\ttest: 0.5545575\tbest: 0.3899986 (23)\ttotal: 592ms\tremaining: 1.47s\n",
      "287:\tlearn: 0.0158004\ttest: 0.5553605\tbest: 0.3899986 (23)\ttotal: 594ms\tremaining: 1.47s\n",
      "288:\tlearn: 0.0157928\ttest: 0.5553432\tbest: 0.3899986 (23)\ttotal: 596ms\tremaining: 1.47s\n",
      "289:\tlearn: 0.0157448\ttest: 0.5551131\tbest: 0.3899986 (23)\ttotal: 597ms\tremaining: 1.46s\n",
      "290:\tlearn: 0.0157108\ttest: 0.5555101\tbest: 0.3899986 (23)\ttotal: 599ms\tremaining: 1.46s\n",
      "291:\tlearn: 0.0156781\ttest: 0.5558017\tbest: 0.3899986 (23)\ttotal: 601ms\tremaining: 1.46s\n",
      "292:\tlearn: 0.0156251\ttest: 0.5558606\tbest: 0.3899986 (23)\ttotal: 602ms\tremaining: 1.45s\n",
      "293:\tlearn: 0.0156003\ttest: 0.5552248\tbest: 0.3899986 (23)\ttotal: 604ms\tremaining: 1.45s\n",
      "294:\tlearn: 0.0155535\ttest: 0.5561293\tbest: 0.3899986 (23)\ttotal: 606ms\tremaining: 1.45s\n",
      "295:\tlearn: 0.0155534\ttest: 0.5561312\tbest: 0.3899986 (23)\ttotal: 607ms\tremaining: 1.44s\n"
     ]
    },
    {
     "name": "stdout",
     "output_type": "stream",
     "text": [
      "296:\tlearn: 0.0155458\ttest: 0.5561310\tbest: 0.3899986 (23)\ttotal: 609ms\tremaining: 1.44s\n",
      "297:\tlearn: 0.0154593\ttest: 0.5569100\tbest: 0.3899986 (23)\ttotal: 611ms\tremaining: 1.44s\n",
      "298:\tlearn: 0.0152750\ttest: 0.5569241\tbest: 0.3899986 (23)\ttotal: 613ms\tremaining: 1.44s\n",
      "299:\tlearn: 0.0150555\ttest: 0.5611300\tbest: 0.3899986 (23)\ttotal: 615ms\tremaining: 1.43s\n",
      "300:\tlearn: 0.0149536\ttest: 0.5619540\tbest: 0.3899986 (23)\ttotal: 616ms\tremaining: 1.43s\n",
      "301:\tlearn: 0.0148744\ttest: 0.5620816\tbest: 0.3899986 (23)\ttotal: 618ms\tremaining: 1.43s\n",
      "302:\tlearn: 0.0147211\ttest: 0.5628501\tbest: 0.3899986 (23)\ttotal: 620ms\tremaining: 1.43s\n",
      "303:\tlearn: 0.0146162\ttest: 0.5629298\tbest: 0.3899986 (23)\ttotal: 622ms\tremaining: 1.42s\n",
      "304:\tlearn: 0.0146040\ttest: 0.5631181\tbest: 0.3899986 (23)\ttotal: 623ms\tremaining: 1.42s\n",
      "305:\tlearn: 0.0145164\ttest: 0.5630477\tbest: 0.3899986 (23)\ttotal: 625ms\tremaining: 1.42s\n",
      "306:\tlearn: 0.0144903\ttest: 0.5625304\tbest: 0.3899986 (23)\ttotal: 626ms\tremaining: 1.41s\n",
      "307:\tlearn: 0.0143415\ttest: 0.5619149\tbest: 0.3899986 (23)\ttotal: 628ms\tremaining: 1.41s\n",
      "308:\tlearn: 0.0143389\ttest: 0.5619399\tbest: 0.3899986 (23)\ttotal: 629ms\tremaining: 1.41s\n",
      "309:\tlearn: 0.0143017\ttest: 0.5622348\tbest: 0.3899986 (23)\ttotal: 631ms\tremaining: 1.4s\n",
      "310:\tlearn: 0.0142819\ttest: 0.5619090\tbest: 0.3899986 (23)\ttotal: 632ms\tremaining: 1.4s\n",
      "311:\tlearn: 0.0142506\ttest: 0.5620974\tbest: 0.3899986 (23)\ttotal: 634ms\tremaining: 1.4s\n",
      "312:\tlearn: 0.0140974\ttest: 0.5619614\tbest: 0.3899986 (23)\ttotal: 635ms\tremaining: 1.39s\n",
      "313:\tlearn: 0.0139219\ttest: 0.5632632\tbest: 0.3899986 (23)\ttotal: 637ms\tremaining: 1.39s\n",
      "314:\tlearn: 0.0138820\ttest: 0.5641087\tbest: 0.3899986 (23)\ttotal: 638ms\tremaining: 1.39s\n",
      "315:\tlearn: 0.0138285\ttest: 0.5638776\tbest: 0.3899986 (23)\ttotal: 640ms\tremaining: 1.39s\n",
      "316:\tlearn: 0.0137145\ttest: 0.5649644\tbest: 0.3899986 (23)\ttotal: 642ms\tremaining: 1.38s\n",
      "317:\tlearn: 0.0136798\ttest: 0.5648706\tbest: 0.3899986 (23)\ttotal: 643ms\tremaining: 1.38s\n",
      "318:\tlearn: 0.0135649\ttest: 0.5651049\tbest: 0.3899986 (23)\ttotal: 645ms\tremaining: 1.38s\n",
      "319:\tlearn: 0.0135279\ttest: 0.5654387\tbest: 0.3899986 (23)\ttotal: 646ms\tremaining: 1.37s\n",
      "320:\tlearn: 0.0135279\ttest: 0.5654394\tbest: 0.3899986 (23)\ttotal: 647ms\tremaining: 1.37s\n",
      "321:\tlearn: 0.0134599\ttest: 0.5681296\tbest: 0.3899986 (23)\ttotal: 649ms\tremaining: 1.37s\n",
      "322:\tlearn: 0.0134454\ttest: 0.5679156\tbest: 0.3899986 (23)\ttotal: 651ms\tremaining: 1.36s\n",
      "323:\tlearn: 0.0133923\ttest: 0.5673686\tbest: 0.3899986 (23)\ttotal: 653ms\tremaining: 1.36s\n",
      "324:\tlearn: 0.0133922\ttest: 0.5673684\tbest: 0.3899986 (23)\ttotal: 654ms\tremaining: 1.36s\n",
      "325:\tlearn: 0.0133869\ttest: 0.5673487\tbest: 0.3899986 (23)\ttotal: 656ms\tremaining: 1.35s\n",
      "326:\tlearn: 0.0133704\ttest: 0.5678609\tbest: 0.3899986 (23)\ttotal: 657ms\tremaining: 1.35s\n",
      "327:\tlearn: 0.0133377\ttest: 0.5672699\tbest: 0.3899986 (23)\ttotal: 659ms\tremaining: 1.35s\n",
      "328:\tlearn: 0.0132931\ttest: 0.5672879\tbest: 0.3899986 (23)\ttotal: 661ms\tremaining: 1.35s\n",
      "329:\tlearn: 0.0131656\ttest: 0.5694958\tbest: 0.3899986 (23)\ttotal: 662ms\tremaining: 1.34s\n",
      "330:\tlearn: 0.0131002\ttest: 0.5723095\tbest: 0.3899986 (23)\ttotal: 664ms\tremaining: 1.34s\n",
      "331:\tlearn: 0.0130732\ttest: 0.5729107\tbest: 0.3899986 (23)\ttotal: 666ms\tremaining: 1.34s\n",
      "332:\tlearn: 0.0130019\ttest: 0.5753133\tbest: 0.3899986 (23)\ttotal: 667ms\tremaining: 1.34s\n",
      "333:\tlearn: 0.0129126\ttest: 0.5738155\tbest: 0.3899986 (23)\ttotal: 669ms\tremaining: 1.33s\n",
      "334:\tlearn: 0.0128968\ttest: 0.5737430\tbest: 0.3899986 (23)\ttotal: 671ms\tremaining: 1.33s\n",
      "335:\tlearn: 0.0127870\ttest: 0.5732158\tbest: 0.3899986 (23)\ttotal: 672ms\tremaining: 1.33s\n",
      "336:\tlearn: 0.0127261\ttest: 0.5739396\tbest: 0.3899986 (23)\ttotal: 674ms\tremaining: 1.33s\n",
      "337:\tlearn: 0.0126319\ttest: 0.5754881\tbest: 0.3899986 (23)\ttotal: 676ms\tremaining: 1.32s\n",
      "338:\tlearn: 0.0126208\ttest: 0.5754164\tbest: 0.3899986 (23)\ttotal: 677ms\tremaining: 1.32s\n",
      "339:\tlearn: 0.0126106\ttest: 0.5754482\tbest: 0.3899986 (23)\ttotal: 679ms\tremaining: 1.32s\n",
      "340:\tlearn: 0.0124532\ttest: 0.5747632\tbest: 0.3899986 (23)\ttotal: 681ms\tremaining: 1.31s\n",
      "341:\tlearn: 0.0123962\ttest: 0.5736499\tbest: 0.3899986 (23)\ttotal: 682ms\tremaining: 1.31s\n",
      "342:\tlearn: 0.0123658\ttest: 0.5731269\tbest: 0.3899986 (23)\ttotal: 684ms\tremaining: 1.31s\n",
      "343:\tlearn: 0.0123371\ttest: 0.5725723\tbest: 0.3899986 (23)\ttotal: 686ms\tremaining: 1.31s\n",
      "344:\tlearn: 0.0123042\ttest: 0.5726917\tbest: 0.3899986 (23)\ttotal: 687ms\tremaining: 1.3s\n",
      "345:\tlearn: 0.0122621\ttest: 0.5725110\tbest: 0.3899986 (23)\ttotal: 689ms\tremaining: 1.3s\n",
      "346:\tlearn: 0.0122575\ttest: 0.5724704\tbest: 0.3899986 (23)\ttotal: 691ms\tremaining: 1.3s\n",
      "347:\tlearn: 0.0122522\ttest: 0.5724997\tbest: 0.3899986 (23)\ttotal: 692ms\tremaining: 1.3s\n",
      "348:\tlearn: 0.0122193\ttest: 0.5729940\tbest: 0.3899986 (23)\ttotal: 694ms\tremaining: 1.29s\n",
      "349:\tlearn: 0.0122191\ttest: 0.5729913\tbest: 0.3899986 (23)\ttotal: 695ms\tremaining: 1.29s\n",
      "350:\tlearn: 0.0121786\ttest: 0.5735207\tbest: 0.3899986 (23)\ttotal: 697ms\tremaining: 1.29s\n",
      "351:\tlearn: 0.0121163\ttest: 0.5744211\tbest: 0.3899986 (23)\ttotal: 699ms\tremaining: 1.29s\n",
      "352:\tlearn: 0.0120495\ttest: 0.5737064\tbest: 0.3899986 (23)\ttotal: 700ms\tremaining: 1.28s\n",
      "353:\tlearn: 0.0119736\ttest: 0.5748061\tbest: 0.3899986 (23)\ttotal: 702ms\tremaining: 1.28s\n",
      "354:\tlearn: 0.0118665\ttest: 0.5740718\tbest: 0.3899986 (23)\ttotal: 703ms\tremaining: 1.28s\n",
      "355:\tlearn: 0.0117552\ttest: 0.5763363\tbest: 0.3899986 (23)\ttotal: 705ms\tremaining: 1.27s\n",
      "356:\tlearn: 0.0117028\ttest: 0.5759942\tbest: 0.3899986 (23)\ttotal: 707ms\tremaining: 1.27s\n",
      "357:\tlearn: 0.0116050\ttest: 0.5794468\tbest: 0.3899986 (23)\ttotal: 709ms\tremaining: 1.27s\n",
      "358:\tlearn: 0.0116049\ttest: 0.5794473\tbest: 0.3899986 (23)\ttotal: 710ms\tremaining: 1.27s\n",
      "359:\tlearn: 0.0115642\ttest: 0.5798362\tbest: 0.3899986 (23)\ttotal: 712ms\tremaining: 1.27s\n",
      "360:\tlearn: 0.0114414\ttest: 0.5820463\tbest: 0.3899986 (23)\ttotal: 714ms\tremaining: 1.26s\n",
      "361:\tlearn: 0.0113695\ttest: 0.5812376\tbest: 0.3899986 (23)\ttotal: 716ms\tremaining: 1.26s\n",
      "362:\tlearn: 0.0113464\ttest: 0.5816857\tbest: 0.3899986 (23)\ttotal: 717ms\tremaining: 1.26s\n",
      "363:\tlearn: 0.0112284\ttest: 0.5836007\tbest: 0.3899986 (23)\ttotal: 719ms\tremaining: 1.26s\n",
      "364:\tlearn: 0.0111611\ttest: 0.5842957\tbest: 0.3899986 (23)\ttotal: 721ms\tremaining: 1.25s\n",
      "365:\tlearn: 0.0111061\ttest: 0.5849174\tbest: 0.3899986 (23)\ttotal: 723ms\tremaining: 1.25s\n",
      "366:\tlearn: 0.0110563\ttest: 0.5849774\tbest: 0.3899986 (23)\ttotal: 725ms\tremaining: 1.25s\n",
      "367:\tlearn: 0.0109178\ttest: 0.5854089\tbest: 0.3899986 (23)\ttotal: 726ms\tremaining: 1.25s\n",
      "368:\tlearn: 0.0109137\ttest: 0.5853646\tbest: 0.3899986 (23)\ttotal: 728ms\tremaining: 1.24s\n",
      "369:\tlearn: 0.0108812\ttest: 0.5858797\tbest: 0.3899986 (23)\ttotal: 730ms\tremaining: 1.24s\n",
      "370:\tlearn: 0.0108671\ttest: 0.5857776\tbest: 0.3899986 (23)\ttotal: 732ms\tremaining: 1.24s\n",
      "371:\tlearn: 0.0108352\ttest: 0.5858059\tbest: 0.3899986 (23)\ttotal: 733ms\tremaining: 1.24s\n",
      "372:\tlearn: 0.0108258\ttest: 0.5857182\tbest: 0.3899986 (23)\ttotal: 735ms\tremaining: 1.24s\n",
      "373:\tlearn: 0.0107832\ttest: 0.5854039\tbest: 0.3899986 (23)\ttotal: 737ms\tremaining: 1.23s\n",
      "374:\tlearn: 0.0107831\ttest: 0.5854094\tbest: 0.3899986 (23)\ttotal: 738ms\tremaining: 1.23s\n",
      "375:\tlearn: 0.0107187\ttest: 0.5865891\tbest: 0.3899986 (23)\ttotal: 740ms\tremaining: 1.23s\n",
      "376:\tlearn: 0.0106940\ttest: 0.5870877\tbest: 0.3899986 (23)\ttotal: 742ms\tremaining: 1.23s\n",
      "377:\tlearn: 0.0106485\ttest: 0.5881553\tbest: 0.3899986 (23)\ttotal: 744ms\tremaining: 1.22s\n",
      "378:\tlearn: 0.0106117\ttest: 0.5907478\tbest: 0.3899986 (23)\ttotal: 746ms\tremaining: 1.22s\n",
      "379:\tlearn: 0.0105172\ttest: 0.5926512\tbest: 0.3899986 (23)\ttotal: 747ms\tremaining: 1.22s\n",
      "380:\tlearn: 0.0104918\ttest: 0.5929424\tbest: 0.3899986 (23)\ttotal: 749ms\tremaining: 1.22s\n",
      "381:\tlearn: 0.0104917\ttest: 0.5929290\tbest: 0.3899986 (23)\ttotal: 751ms\tremaining: 1.21s\n",
      "382:\tlearn: 0.0104916\ttest: 0.5929291\tbest: 0.3899986 (23)\ttotal: 752ms\tremaining: 1.21s\n",
      "383:\tlearn: 0.0104916\ttest: 0.5929291\tbest: 0.3899986 (23)\ttotal: 754ms\tremaining: 1.21s\n",
      "384:\tlearn: 0.0104913\ttest: 0.5929302\tbest: 0.3899986 (23)\ttotal: 755ms\tremaining: 1.21s\n",
      "385:\tlearn: 0.0104772\ttest: 0.5927080\tbest: 0.3899986 (23)\ttotal: 757ms\tremaining: 1.2s\n",
      "386:\tlearn: 0.0104158\ttest: 0.5925199\tbest: 0.3899986 (23)\ttotal: 759ms\tremaining: 1.2s\n",
      "387:\tlearn: 0.0103787\ttest: 0.5912368\tbest: 0.3899986 (23)\ttotal: 760ms\tremaining: 1.2s\n",
      "388:\tlearn: 0.0103254\ttest: 0.5915702\tbest: 0.3899986 (23)\ttotal: 762ms\tremaining: 1.2s\n",
      "389:\tlearn: 0.0103222\ttest: 0.5914995\tbest: 0.3899986 (23)\ttotal: 764ms\tremaining: 1.19s\n",
      "390:\tlearn: 0.0103223\ttest: 0.5915004\tbest: 0.3899986 (23)\ttotal: 765ms\tremaining: 1.19s\n",
      "391:\tlearn: 0.0103115\ttest: 0.5912911\tbest: 0.3899986 (23)\ttotal: 767ms\tremaining: 1.19s\n",
      "392:\tlearn: 0.0103075\ttest: 0.5911617\tbest: 0.3899986 (23)\ttotal: 769ms\tremaining: 1.19s\n",
      "393:\tlearn: 0.0103068\ttest: 0.5911749\tbest: 0.3899986 (23)\ttotal: 770ms\tremaining: 1.18s\n",
      "394:\tlearn: 0.0103066\ttest: 0.5911769\tbest: 0.3899986 (23)\ttotal: 772ms\tremaining: 1.18s\n",
      "395:\tlearn: 0.0103065\ttest: 0.5911773\tbest: 0.3899986 (23)\ttotal: 773ms\tremaining: 1.18s\n",
      "396:\tlearn: 0.0103064\ttest: 0.5911777\tbest: 0.3899986 (23)\ttotal: 775ms\tremaining: 1.18s\n",
      "397:\tlearn: 0.0103064\ttest: 0.5911779\tbest: 0.3899986 (23)\ttotal: 776ms\tremaining: 1.17s\n",
      "398:\tlearn: 0.0102964\ttest: 0.5912154\tbest: 0.3899986 (23)\ttotal: 778ms\tremaining: 1.17s\n",
      "399:\tlearn: 0.0102828\ttest: 0.5916569\tbest: 0.3899986 (23)\ttotal: 779ms\tremaining: 1.17s\n",
      "400:\tlearn: 0.0102073\ttest: 0.5913508\tbest: 0.3899986 (23)\ttotal: 781ms\tremaining: 1.17s\n"
     ]
    },
    {
     "name": "stdout",
     "output_type": "stream",
     "text": [
      "401:\tlearn: 0.0101670\ttest: 0.5915688\tbest: 0.3899986 (23)\ttotal: 783ms\tremaining: 1.17s\n",
      "402:\tlearn: 0.0101670\ttest: 0.5915693\tbest: 0.3899986 (23)\ttotal: 785ms\tremaining: 1.16s\n",
      "403:\tlearn: 0.0101670\ttest: 0.5915694\tbest: 0.3899986 (23)\ttotal: 786ms\tremaining: 1.16s\n",
      "404:\tlearn: 0.0101220\ttest: 0.5929461\tbest: 0.3899986 (23)\ttotal: 788ms\tremaining: 1.16s\n",
      "405:\tlearn: 0.0101220\ttest: 0.5929461\tbest: 0.3899986 (23)\ttotal: 790ms\tremaining: 1.16s\n",
      "406:\tlearn: 0.0101199\ttest: 0.5929309\tbest: 0.3899986 (23)\ttotal: 791ms\tremaining: 1.15s\n",
      "407:\tlearn: 0.0101081\ttest: 0.5927360\tbest: 0.3899986 (23)\ttotal: 793ms\tremaining: 1.15s\n",
      "408:\tlearn: 0.0100410\ttest: 0.5935870\tbest: 0.3899986 (23)\ttotal: 795ms\tremaining: 1.15s\n",
      "409:\tlearn: 0.0100070\ttest: 0.5935778\tbest: 0.3899986 (23)\ttotal: 796ms\tremaining: 1.15s\n",
      "410:\tlearn: 0.0099792\ttest: 0.5943687\tbest: 0.3899986 (23)\ttotal: 798ms\tremaining: 1.14s\n",
      "411:\tlearn: 0.0099520\ttest: 0.5943121\tbest: 0.3899986 (23)\ttotal: 800ms\tremaining: 1.14s\n",
      "412:\tlearn: 0.0099520\ttest: 0.5943156\tbest: 0.3899986 (23)\ttotal: 801ms\tremaining: 1.14s\n",
      "413:\tlearn: 0.0099519\ttest: 0.5943157\tbest: 0.3899986 (23)\ttotal: 802ms\tremaining: 1.14s\n",
      "414:\tlearn: 0.0099519\ttest: 0.5943159\tbest: 0.3899986 (23)\ttotal: 804ms\tremaining: 1.13s\n",
      "415:\tlearn: 0.0099517\ttest: 0.5943165\tbest: 0.3899986 (23)\ttotal: 805ms\tremaining: 1.13s\n",
      "416:\tlearn: 0.0099510\ttest: 0.5943230\tbest: 0.3899986 (23)\ttotal: 807ms\tremaining: 1.13s\n",
      "417:\tlearn: 0.0099509\ttest: 0.5943233\tbest: 0.3899986 (23)\ttotal: 808ms\tremaining: 1.13s\n",
      "418:\tlearn: 0.0099506\ttest: 0.5943237\tbest: 0.3899986 (23)\ttotal: 810ms\tremaining: 1.12s\n",
      "419:\tlearn: 0.0099506\ttest: 0.5943239\tbest: 0.3899986 (23)\ttotal: 812ms\tremaining: 1.12s\n",
      "420:\tlearn: 0.0099147\ttest: 0.5943825\tbest: 0.3899986 (23)\ttotal: 813ms\tremaining: 1.12s\n",
      "421:\tlearn: 0.0098833\ttest: 0.5944117\tbest: 0.3899986 (23)\ttotal: 815ms\tremaining: 1.12s\n",
      "422:\tlearn: 0.0098794\ttest: 0.5944290\tbest: 0.3899986 (23)\ttotal: 817ms\tremaining: 1.11s\n",
      "423:\tlearn: 0.0098364\ttest: 0.5946142\tbest: 0.3899986 (23)\ttotal: 819ms\tremaining: 1.11s\n",
      "424:\tlearn: 0.0098155\ttest: 0.5943188\tbest: 0.3899986 (23)\ttotal: 820ms\tremaining: 1.11s\n",
      "425:\tlearn: 0.0097237\ttest: 0.5944509\tbest: 0.3899986 (23)\ttotal: 822ms\tremaining: 1.11s\n",
      "426:\tlearn: 0.0096736\ttest: 0.5940335\tbest: 0.3899986 (23)\ttotal: 824ms\tremaining: 1.1s\n",
      "427:\tlearn: 0.0096404\ttest: 0.5954929\tbest: 0.3899986 (23)\ttotal: 826ms\tremaining: 1.1s\n",
      "428:\tlearn: 0.0095984\ttest: 0.5952462\tbest: 0.3899986 (23)\ttotal: 827ms\tremaining: 1.1s\n",
      "429:\tlearn: 0.0095982\ttest: 0.5952523\tbest: 0.3899986 (23)\ttotal: 829ms\tremaining: 1.1s\n",
      "430:\tlearn: 0.0095173\ttest: 0.5946044\tbest: 0.3899986 (23)\ttotal: 831ms\tremaining: 1.1s\n",
      "431:\tlearn: 0.0095048\ttest: 0.5948035\tbest: 0.3899986 (23)\ttotal: 833ms\tremaining: 1.09s\n",
      "432:\tlearn: 0.0095049\ttest: 0.5948032\tbest: 0.3899986 (23)\ttotal: 834ms\tremaining: 1.09s\n",
      "433:\tlearn: 0.0094672\ttest: 0.5940985\tbest: 0.3899986 (23)\ttotal: 836ms\tremaining: 1.09s\n",
      "434:\tlearn: 0.0094672\ttest: 0.5940953\tbest: 0.3899986 (23)\ttotal: 837ms\tremaining: 1.09s\n",
      "435:\tlearn: 0.0094582\ttest: 0.5940297\tbest: 0.3899986 (23)\ttotal: 839ms\tremaining: 1.08s\n",
      "436:\tlearn: 0.0094463\ttest: 0.5944848\tbest: 0.3899986 (23)\ttotal: 841ms\tremaining: 1.08s\n",
      "437:\tlearn: 0.0093859\ttest: 0.5950575\tbest: 0.3899986 (23)\ttotal: 843ms\tremaining: 1.08s\n",
      "438:\tlearn: 0.0093859\ttest: 0.5950573\tbest: 0.3899986 (23)\ttotal: 844ms\tremaining: 1.08s\n",
      "439:\tlearn: 0.0093859\ttest: 0.5950576\tbest: 0.3899986 (23)\ttotal: 846ms\tremaining: 1.08s\n",
      "440:\tlearn: 0.0093856\ttest: 0.5950600\tbest: 0.3899986 (23)\ttotal: 847ms\tremaining: 1.07s\n",
      "441:\tlearn: 0.0093798\ttest: 0.5950085\tbest: 0.3899986 (23)\ttotal: 849ms\tremaining: 1.07s\n",
      "442:\tlearn: 0.0093793\ttest: 0.5950264\tbest: 0.3899986 (23)\ttotal: 850ms\tremaining: 1.07s\n",
      "443:\tlearn: 0.0093793\ttest: 0.5950272\tbest: 0.3899986 (23)\ttotal: 852ms\tremaining: 1.07s\n",
      "444:\tlearn: 0.0093745\ttest: 0.5951960\tbest: 0.3899986 (23)\ttotal: 854ms\tremaining: 1.06s\n",
      "445:\tlearn: 0.0093746\ttest: 0.5951976\tbest: 0.3899986 (23)\ttotal: 855ms\tremaining: 1.06s\n",
      "446:\tlearn: 0.0093745\ttest: 0.5951983\tbest: 0.3899986 (23)\ttotal: 857ms\tremaining: 1.06s\n",
      "447:\tlearn: 0.0093269\ttest: 0.5955934\tbest: 0.3899986 (23)\ttotal: 858ms\tremaining: 1.06s\n",
      "448:\tlearn: 0.0093267\ttest: 0.5955895\tbest: 0.3899986 (23)\ttotal: 860ms\tremaining: 1.05s\n",
      "449:\tlearn: 0.0093269\ttest: 0.5955895\tbest: 0.3899986 (23)\ttotal: 862ms\tremaining: 1.05s\n",
      "450:\tlearn: 0.0093268\ttest: 0.5955896\tbest: 0.3899986 (23)\ttotal: 863ms\tremaining: 1.05s\n",
      "451:\tlearn: 0.0093268\ttest: 0.5955904\tbest: 0.3899986 (23)\ttotal: 865ms\tremaining: 1.05s\n",
      "452:\tlearn: 0.0092959\ttest: 0.5958801\tbest: 0.3899986 (23)\ttotal: 867ms\tremaining: 1.05s\n",
      "453:\tlearn: 0.0092958\ttest: 0.5958652\tbest: 0.3899986 (23)\ttotal: 868ms\tremaining: 1.04s\n",
      "454:\tlearn: 0.0092957\ttest: 0.5958662\tbest: 0.3899986 (23)\ttotal: 870ms\tremaining: 1.04s\n",
      "455:\tlearn: 0.0092956\ttest: 0.5958672\tbest: 0.3899986 (23)\ttotal: 871ms\tremaining: 1.04s\n",
      "456:\tlearn: 0.0092946\ttest: 0.5958918\tbest: 0.3899986 (23)\ttotal: 873ms\tremaining: 1.04s\n",
      "457:\tlearn: 0.0092606\ttest: 0.5965280\tbest: 0.3899986 (23)\ttotal: 874ms\tremaining: 1.03s\n",
      "458:\tlearn: 0.0092263\ttest: 0.5963557\tbest: 0.3899986 (23)\ttotal: 876ms\tremaining: 1.03s\n",
      "459:\tlearn: 0.0092153\ttest: 0.5967638\tbest: 0.3899986 (23)\ttotal: 878ms\tremaining: 1.03s\n",
      "460:\tlearn: 0.0092091\ttest: 0.5966343\tbest: 0.3899986 (23)\ttotal: 879ms\tremaining: 1.03s\n",
      "461:\tlearn: 0.0092090\ttest: 0.5966351\tbest: 0.3899986 (23)\ttotal: 881ms\tremaining: 1.02s\n",
      "462:\tlearn: 0.0092090\ttest: 0.5966353\tbest: 0.3899986 (23)\ttotal: 882ms\tremaining: 1.02s\n",
      "463:\tlearn: 0.0092090\ttest: 0.5966356\tbest: 0.3899986 (23)\ttotal: 884ms\tremaining: 1.02s\n",
      "464:\tlearn: 0.0092090\ttest: 0.5966361\tbest: 0.3899986 (23)\ttotal: 885ms\tremaining: 1.02s\n",
      "465:\tlearn: 0.0092090\ttest: 0.5966362\tbest: 0.3899986 (23)\ttotal: 887ms\tremaining: 1.02s\n",
      "466:\tlearn: 0.0092089\ttest: 0.5966367\tbest: 0.3899986 (23)\ttotal: 888ms\tremaining: 1.01s\n",
      "467:\tlearn: 0.0092090\ttest: 0.5966370\tbest: 0.3899986 (23)\ttotal: 890ms\tremaining: 1.01s\n",
      "468:\tlearn: 0.0092088\ttest: 0.5966384\tbest: 0.3899986 (23)\ttotal: 892ms\tremaining: 1.01s\n",
      "469:\tlearn: 0.0092087\ttest: 0.5966399\tbest: 0.3899986 (23)\ttotal: 893ms\tremaining: 1.01s\n",
      "470:\tlearn: 0.0092087\ttest: 0.5966399\tbest: 0.3899986 (23)\ttotal: 895ms\tremaining: 1s\n",
      "471:\tlearn: 0.0092086\ttest: 0.5966404\tbest: 0.3899986 (23)\ttotal: 896ms\tremaining: 1s\n",
      "472:\tlearn: 0.0092086\ttest: 0.5966404\tbest: 0.3899986 (23)\ttotal: 898ms\tremaining: 1s\n",
      "473:\tlearn: 0.0092086\ttest: 0.5966404\tbest: 0.3899986 (23)\ttotal: 899ms\tremaining: 998ms\n",
      "474:\tlearn: 0.0092085\ttest: 0.5966404\tbest: 0.3899986 (23)\ttotal: 901ms\tremaining: 995ms\n",
      "475:\tlearn: 0.0092085\ttest: 0.5966405\tbest: 0.3899986 (23)\ttotal: 902ms\tremaining: 993ms\n",
      "476:\tlearn: 0.0092022\ttest: 0.5965586\tbest: 0.3899986 (23)\ttotal: 904ms\tremaining: 991ms\n",
      "477:\tlearn: 0.0091961\ttest: 0.5966508\tbest: 0.3899986 (23)\ttotal: 905ms\tremaining: 989ms\n",
      "478:\tlearn: 0.0091589\ttest: 0.5965429\tbest: 0.3899986 (23)\ttotal: 907ms\tremaining: 987ms\n",
      "479:\tlearn: 0.0091590\ttest: 0.5965427\tbest: 0.3899986 (23)\ttotal: 909ms\tremaining: 984ms\n",
      "480:\tlearn: 0.0091588\ttest: 0.5965438\tbest: 0.3899986 (23)\ttotal: 911ms\tremaining: 983ms\n",
      "481:\tlearn: 0.0091519\ttest: 0.5966129\tbest: 0.3899986 (23)\ttotal: 912ms\tremaining: 981ms\n",
      "482:\tlearn: 0.0091518\ttest: 0.5966154\tbest: 0.3899986 (23)\ttotal: 914ms\tremaining: 978ms\n",
      "483:\tlearn: 0.0091236\ttest: 0.5975358\tbest: 0.3899986 (23)\ttotal: 916ms\tremaining: 976ms\n",
      "484:\tlearn: 0.0091236\ttest: 0.5975361\tbest: 0.3899986 (23)\ttotal: 917ms\tremaining: 974ms\n",
      "485:\tlearn: 0.0091236\ttest: 0.5975362\tbest: 0.3899986 (23)\ttotal: 919ms\tremaining: 972ms\n",
      "486:\tlearn: 0.0091235\ttest: 0.5975375\tbest: 0.3899986 (23)\ttotal: 920ms\tremaining: 970ms\n",
      "487:\tlearn: 0.0091234\ttest: 0.5975392\tbest: 0.3899986 (23)\ttotal: 922ms\tremaining: 967ms\n",
      "488:\tlearn: 0.0091149\ttest: 0.5978919\tbest: 0.3899986 (23)\ttotal: 924ms\tremaining: 965ms\n",
      "489:\tlearn: 0.0090808\ttest: 0.5983760\tbest: 0.3899986 (23)\ttotal: 925ms\tremaining: 963ms\n",
      "490:\tlearn: 0.0090143\ttest: 0.6003307\tbest: 0.3899986 (23)\ttotal: 927ms\tremaining: 961ms\n",
      "491:\tlearn: 0.0089760\ttest: 0.6008609\tbest: 0.3899986 (23)\ttotal: 929ms\tremaining: 959ms\n",
      "492:\tlearn: 0.0089759\ttest: 0.6008578\tbest: 0.3899986 (23)\ttotal: 930ms\tremaining: 957ms\n",
      "493:\tlearn: 0.0089746\ttest: 0.6008579\tbest: 0.3899986 (23)\ttotal: 932ms\tremaining: 955ms\n",
      "494:\tlearn: 0.0089748\ttest: 0.6008578\tbest: 0.3899986 (23)\ttotal: 934ms\tremaining: 952ms\n",
      "495:\tlearn: 0.0089742\ttest: 0.6008573\tbest: 0.3899986 (23)\ttotal: 935ms\tremaining: 950ms\n",
      "496:\tlearn: 0.0089737\ttest: 0.6008551\tbest: 0.3899986 (23)\ttotal: 937ms\tremaining: 948ms\n",
      "497:\tlearn: 0.0089710\ttest: 0.6009712\tbest: 0.3899986 (23)\ttotal: 938ms\tremaining: 946ms\n",
      "498:\tlearn: 0.0089710\ttest: 0.6009712\tbest: 0.3899986 (23)\ttotal: 940ms\tremaining: 943ms\n",
      "499:\tlearn: 0.0089710\ttest: 0.6009712\tbest: 0.3899986 (23)\ttotal: 941ms\tremaining: 941ms\n",
      "500:\tlearn: 0.0089513\ttest: 0.6010499\tbest: 0.3899986 (23)\ttotal: 943ms\tremaining: 939ms\n",
      "501:\tlearn: 0.0089503\ttest: 0.6010483\tbest: 0.3899986 (23)\ttotal: 944ms\tremaining: 937ms\n",
      "502:\tlearn: 0.0089272\ttest: 0.6015255\tbest: 0.3899986 (23)\ttotal: 946ms\tremaining: 935ms\n",
      "503:\tlearn: 0.0088741\ttest: 0.6014612\tbest: 0.3899986 (23)\ttotal: 948ms\tremaining: 933ms\n",
      "504:\tlearn: 0.0088737\ttest: 0.6014739\tbest: 0.3899986 (23)\ttotal: 949ms\tremaining: 930ms\n",
      "505:\tlearn: 0.0088732\ttest: 0.6014711\tbest: 0.3899986 (23)\ttotal: 950ms\tremaining: 928ms\n"
     ]
    },
    {
     "name": "stdout",
     "output_type": "stream",
     "text": [
      "506:\tlearn: 0.0088715\ttest: 0.6014690\tbest: 0.3899986 (23)\ttotal: 952ms\tremaining: 926ms\n",
      "507:\tlearn: 0.0088716\ttest: 0.6014692\tbest: 0.3899986 (23)\ttotal: 954ms\tremaining: 924ms\n",
      "508:\tlearn: 0.0088703\ttest: 0.6014673\tbest: 0.3899986 (23)\ttotal: 955ms\tremaining: 922ms\n",
      "509:\tlearn: 0.0088700\ttest: 0.6014675\tbest: 0.3899986 (23)\ttotal: 957ms\tremaining: 919ms\n",
      "510:\tlearn: 0.0088700\ttest: 0.6014675\tbest: 0.3899986 (23)\ttotal: 958ms\tremaining: 917ms\n",
      "511:\tlearn: 0.0088698\ttest: 0.6014669\tbest: 0.3899986 (23)\ttotal: 960ms\tremaining: 915ms\n",
      "512:\tlearn: 0.0088698\ttest: 0.6014670\tbest: 0.3899986 (23)\ttotal: 962ms\tremaining: 913ms\n",
      "513:\tlearn: 0.0088695\ttest: 0.6014663\tbest: 0.3899986 (23)\ttotal: 963ms\tremaining: 911ms\n",
      "514:\tlearn: 0.0088692\ttest: 0.6014632\tbest: 0.3899986 (23)\ttotal: 964ms\tremaining: 908ms\n",
      "515:\tlearn: 0.0088689\ttest: 0.6014746\tbest: 0.3899986 (23)\ttotal: 966ms\tremaining: 906ms\n",
      "516:\tlearn: 0.0088219\ttest: 0.6021581\tbest: 0.3899986 (23)\ttotal: 967ms\tremaining: 904ms\n",
      "517:\tlearn: 0.0087933\ttest: 0.6034473\tbest: 0.3899986 (23)\ttotal: 969ms\tremaining: 902ms\n",
      "518:\tlearn: 0.0087065\ttest: 0.6031075\tbest: 0.3899986 (23)\ttotal: 971ms\tremaining: 900ms\n",
      "519:\tlearn: 0.0087044\ttest: 0.6031834\tbest: 0.3899986 (23)\ttotal: 972ms\tremaining: 897ms\n",
      "520:\tlearn: 0.0086955\ttest: 0.6034489\tbest: 0.3899986 (23)\ttotal: 974ms\tremaining: 895ms\n",
      "521:\tlearn: 0.0086956\ttest: 0.6034491\tbest: 0.3899986 (23)\ttotal: 975ms\tremaining: 893ms\n",
      "522:\tlearn: 0.0086906\ttest: 0.6034754\tbest: 0.3899986 (23)\ttotal: 977ms\tremaining: 891ms\n",
      "523:\tlearn: 0.0086906\ttest: 0.6034750\tbest: 0.3899986 (23)\ttotal: 978ms\tremaining: 888ms\n",
      "524:\tlearn: 0.0086906\ttest: 0.6034752\tbest: 0.3899986 (23)\ttotal: 979ms\tremaining: 886ms\n",
      "525:\tlearn: 0.0086906\ttest: 0.6034755\tbest: 0.3899986 (23)\ttotal: 981ms\tremaining: 884ms\n",
      "526:\tlearn: 0.0086905\ttest: 0.6034762\tbest: 0.3899986 (23)\ttotal: 982ms\tremaining: 882ms\n",
      "527:\tlearn: 0.0086851\ttest: 0.6035022\tbest: 0.3899986 (23)\ttotal: 984ms\tremaining: 879ms\n",
      "528:\tlearn: 0.0086839\ttest: 0.6035336\tbest: 0.3899986 (23)\ttotal: 985ms\tremaining: 877ms\n",
      "529:\tlearn: 0.0086803\ttest: 0.6036856\tbest: 0.3899986 (23)\ttotal: 986ms\tremaining: 875ms\n",
      "530:\tlearn: 0.0086745\ttest: 0.6037547\tbest: 0.3899986 (23)\ttotal: 988ms\tremaining: 873ms\n",
      "531:\tlearn: 0.0086677\ttest: 0.6039824\tbest: 0.3899986 (23)\ttotal: 990ms\tremaining: 871ms\n",
      "532:\tlearn: 0.0086428\ttest: 0.6048854\tbest: 0.3899986 (23)\ttotal: 991ms\tremaining: 868ms\n",
      "533:\tlearn: 0.0086428\ttest: 0.6048886\tbest: 0.3899986 (23)\ttotal: 992ms\tremaining: 866ms\n",
      "534:\tlearn: 0.0086427\ttest: 0.6048887\tbest: 0.3899986 (23)\ttotal: 994ms\tremaining: 864ms\n",
      "535:\tlearn: 0.0086427\ttest: 0.6048891\tbest: 0.3899986 (23)\ttotal: 995ms\tremaining: 862ms\n",
      "536:\tlearn: 0.0086428\ttest: 0.6048891\tbest: 0.3899986 (23)\ttotal: 997ms\tremaining: 859ms\n",
      "537:\tlearn: 0.0086387\ttest: 0.6048954\tbest: 0.3899986 (23)\ttotal: 998ms\tremaining: 857ms\n",
      "538:\tlearn: 0.0086386\ttest: 0.6048994\tbest: 0.3899986 (23)\ttotal: 1000ms\tremaining: 855ms\n",
      "539:\tlearn: 0.0086385\ttest: 0.6048995\tbest: 0.3899986 (23)\ttotal: 1s\tremaining: 853ms\n",
      "540:\tlearn: 0.0086385\ttest: 0.6049004\tbest: 0.3899986 (23)\ttotal: 1s\tremaining: 851ms\n",
      "541:\tlearn: 0.0086383\ttest: 0.6049009\tbest: 0.3899986 (23)\ttotal: 1s\tremaining: 848ms\n",
      "542:\tlearn: 0.0086384\ttest: 0.6049012\tbest: 0.3899986 (23)\ttotal: 1s\tremaining: 846ms\n",
      "543:\tlearn: 0.0086382\ttest: 0.6049019\tbest: 0.3899986 (23)\ttotal: 1.01s\tremaining: 844ms\n",
      "544:\tlearn: 0.0086383\ttest: 0.6049022\tbest: 0.3899986 (23)\ttotal: 1.01s\tremaining: 842ms\n",
      "545:\tlearn: 0.0086382\ttest: 0.6049041\tbest: 0.3899986 (23)\ttotal: 1.01s\tremaining: 840ms\n",
      "546:\tlearn: 0.0086382\ttest: 0.6049040\tbest: 0.3899986 (23)\ttotal: 1.01s\tremaining: 837ms\n",
      "547:\tlearn: 0.0086380\ttest: 0.6049048\tbest: 0.3899986 (23)\ttotal: 1.01s\tremaining: 835ms\n",
      "548:\tlearn: 0.0086380\ttest: 0.6049048\tbest: 0.3899986 (23)\ttotal: 1.01s\tremaining: 833ms\n",
      "549:\tlearn: 0.0086380\ttest: 0.6049049\tbest: 0.3899986 (23)\ttotal: 1.01s\tremaining: 831ms\n",
      "550:\tlearn: 0.0086379\ttest: 0.6049049\tbest: 0.3899986 (23)\ttotal: 1.02s\tremaining: 829ms\n",
      "551:\tlearn: 0.0086381\ttest: 0.6049053\tbest: 0.3899986 (23)\ttotal: 1.02s\tremaining: 827ms\n",
      "552:\tlearn: 0.0086373\ttest: 0.6049056\tbest: 0.3899986 (23)\ttotal: 1.02s\tremaining: 825ms\n",
      "553:\tlearn: 0.0086373\ttest: 0.6049072\tbest: 0.3899986 (23)\ttotal: 1.02s\tremaining: 823ms\n",
      "554:\tlearn: 0.0086372\ttest: 0.6049085\tbest: 0.3899986 (23)\ttotal: 1.02s\tremaining: 821ms\n",
      "555:\tlearn: 0.0086370\ttest: 0.6049091\tbest: 0.3899986 (23)\ttotal: 1.02s\tremaining: 818ms\n",
      "556:\tlearn: 0.0086366\ttest: 0.6049112\tbest: 0.3899986 (23)\ttotal: 1.03s\tremaining: 816ms\n",
      "557:\tlearn: 0.0086324\ttest: 0.6049221\tbest: 0.3899986 (23)\ttotal: 1.03s\tremaining: 814ms\n",
      "558:\tlearn: 0.0086323\ttest: 0.6049229\tbest: 0.3899986 (23)\ttotal: 1.03s\tremaining: 812ms\n",
      "559:\tlearn: 0.0086211\ttest: 0.6051842\tbest: 0.3899986 (23)\ttotal: 1.03s\tremaining: 810ms\n",
      "560:\tlearn: 0.0086086\ttest: 0.6047762\tbest: 0.3899986 (23)\ttotal: 1.03s\tremaining: 808ms\n",
      "561:\tlearn: 0.0086009\ttest: 0.6047104\tbest: 0.3899986 (23)\ttotal: 1.03s\tremaining: 806ms\n",
      "562:\tlearn: 0.0086007\ttest: 0.6046966\tbest: 0.3899986 (23)\ttotal: 1.03s\tremaining: 804ms\n",
      "563:\tlearn: 0.0086007\ttest: 0.6046978\tbest: 0.3899986 (23)\ttotal: 1.04s\tremaining: 802ms\n",
      "564:\tlearn: 0.0086007\ttest: 0.6046980\tbest: 0.3899986 (23)\ttotal: 1.04s\tremaining: 800ms\n",
      "565:\tlearn: 0.0086006\ttest: 0.6046982\tbest: 0.3899986 (23)\ttotal: 1.04s\tremaining: 797ms\n",
      "566:\tlearn: 0.0086006\ttest: 0.6046984\tbest: 0.3899986 (23)\ttotal: 1.04s\tremaining: 795ms\n",
      "567:\tlearn: 0.0086007\ttest: 0.6046996\tbest: 0.3899986 (23)\ttotal: 1.04s\tremaining: 793ms\n",
      "568:\tlearn: 0.0086005\ttest: 0.6047001\tbest: 0.3899986 (23)\ttotal: 1.04s\tremaining: 791ms\n",
      "569:\tlearn: 0.0085839\ttest: 0.6062882\tbest: 0.3899986 (23)\ttotal: 1.04s\tremaining: 789ms\n",
      "570:\tlearn: 0.0085838\ttest: 0.6062897\tbest: 0.3899986 (23)\ttotal: 1.05s\tremaining: 787ms\n",
      "571:\tlearn: 0.0085839\ttest: 0.6062901\tbest: 0.3899986 (23)\ttotal: 1.05s\tremaining: 785ms\n",
      "572:\tlearn: 0.0085839\ttest: 0.6062901\tbest: 0.3899986 (23)\ttotal: 1.05s\tremaining: 783ms\n",
      "573:\tlearn: 0.0085837\ttest: 0.6062906\tbest: 0.3899986 (23)\ttotal: 1.05s\tremaining: 781ms\n",
      "574:\tlearn: 0.0085838\ttest: 0.6062907\tbest: 0.3899986 (23)\ttotal: 1.05s\tremaining: 779ms\n",
      "575:\tlearn: 0.0085837\ttest: 0.6062918\tbest: 0.3899986 (23)\ttotal: 1.05s\tremaining: 776ms\n",
      "576:\tlearn: 0.0085838\ttest: 0.6062920\tbest: 0.3899986 (23)\ttotal: 1.06s\tremaining: 774ms\n",
      "577:\tlearn: 0.0085836\ttest: 0.6062960\tbest: 0.3899986 (23)\ttotal: 1.06s\tremaining: 772ms\n",
      "578:\tlearn: 0.0085478\ttest: 0.6067195\tbest: 0.3899986 (23)\ttotal: 1.06s\tremaining: 770ms\n",
      "579:\tlearn: 0.0085372\ttest: 0.6058048\tbest: 0.3899986 (23)\ttotal: 1.06s\tremaining: 768ms\n",
      "580:\tlearn: 0.0085369\ttest: 0.6058069\tbest: 0.3899986 (23)\ttotal: 1.06s\tremaining: 766ms\n",
      "581:\tlearn: 0.0085369\ttest: 0.6058069\tbest: 0.3899986 (23)\ttotal: 1.06s\tremaining: 764ms\n",
      "582:\tlearn: 0.0085369\ttest: 0.6058069\tbest: 0.3899986 (23)\ttotal: 1.06s\tremaining: 761ms\n",
      "583:\tlearn: 0.0085369\ttest: 0.6058069\tbest: 0.3899986 (23)\ttotal: 1.06s\tremaining: 759ms\n",
      "584:\tlearn: 0.0085369\ttest: 0.6058069\tbest: 0.3899986 (23)\ttotal: 1.07s\tremaining: 757ms\n",
      "585:\tlearn: 0.0085365\ttest: 0.6058079\tbest: 0.3899986 (23)\ttotal: 1.07s\tremaining: 755ms\n",
      "586:\tlearn: 0.0085364\ttest: 0.6058084\tbest: 0.3899986 (23)\ttotal: 1.07s\tremaining: 753ms\n",
      "587:\tlearn: 0.0085364\ttest: 0.6058087\tbest: 0.3899986 (23)\ttotal: 1.07s\tremaining: 751ms\n",
      "588:\tlearn: 0.0085292\ttest: 0.6059475\tbest: 0.3899986 (23)\ttotal: 1.07s\tremaining: 749ms\n",
      "589:\tlearn: 0.0085288\ttest: 0.6059646\tbest: 0.3899986 (23)\ttotal: 1.07s\tremaining: 747ms\n",
      "590:\tlearn: 0.0085287\ttest: 0.6059642\tbest: 0.3899986 (23)\ttotal: 1.07s\tremaining: 745ms\n",
      "591:\tlearn: 0.0085286\ttest: 0.6059645\tbest: 0.3899986 (23)\ttotal: 1.08s\tremaining: 743ms\n",
      "592:\tlearn: 0.0085022\ttest: 0.6063890\tbest: 0.3899986 (23)\ttotal: 1.08s\tremaining: 741ms\n",
      "593:\tlearn: 0.0084857\ttest: 0.6067569\tbest: 0.3899986 (23)\ttotal: 1.08s\tremaining: 739ms\n",
      "594:\tlearn: 0.0084804\ttest: 0.6068442\tbest: 0.3899986 (23)\ttotal: 1.08s\tremaining: 737ms\n",
      "595:\tlearn: 0.0084431\ttest: 0.6074960\tbest: 0.3899986 (23)\ttotal: 1.08s\tremaining: 735ms\n",
      "596:\tlearn: 0.0084430\ttest: 0.6074970\tbest: 0.3899986 (23)\ttotal: 1.08s\tremaining: 733ms\n",
      "597:\tlearn: 0.0084430\ttest: 0.6074971\tbest: 0.3899986 (23)\ttotal: 1.09s\tremaining: 731ms\n",
      "598:\tlearn: 0.0084430\ttest: 0.6074972\tbest: 0.3899986 (23)\ttotal: 1.09s\tremaining: 729ms\n",
      "599:\tlearn: 0.0084429\ttest: 0.6074973\tbest: 0.3899986 (23)\ttotal: 1.09s\tremaining: 727ms\n",
      "600:\tlearn: 0.0084428\ttest: 0.6074993\tbest: 0.3899986 (23)\ttotal: 1.09s\tremaining: 725ms\n",
      "601:\tlearn: 0.0084427\ttest: 0.6074999\tbest: 0.3899986 (23)\ttotal: 1.09s\tremaining: 723ms\n",
      "602:\tlearn: 0.0084426\ttest: 0.6075004\tbest: 0.3899986 (23)\ttotal: 1.09s\tremaining: 720ms\n",
      "603:\tlearn: 0.0084426\ttest: 0.6075003\tbest: 0.3899986 (23)\ttotal: 1.09s\tremaining: 718ms\n",
      "604:\tlearn: 0.0084425\ttest: 0.6075018\tbest: 0.3899986 (23)\ttotal: 1.1s\tremaining: 716ms\n",
      "605:\tlearn: 0.0084425\ttest: 0.6075019\tbest: 0.3899986 (23)\ttotal: 1.1s\tremaining: 714ms\n",
      "606:\tlearn: 0.0084424\ttest: 0.6075020\tbest: 0.3899986 (23)\ttotal: 1.1s\tremaining: 712ms\n",
      "607:\tlearn: 0.0084354\ttest: 0.6077871\tbest: 0.3899986 (23)\ttotal: 1.1s\tremaining: 710ms\n",
      "608:\tlearn: 0.0084251\ttest: 0.6081100\tbest: 0.3899986 (23)\ttotal: 1.1s\tremaining: 708ms\n",
      "609:\tlearn: 0.0083657\ttest: 0.6088331\tbest: 0.3899986 (23)\ttotal: 1.1s\tremaining: 706ms\n",
      "610:\tlearn: 0.0083654\ttest: 0.6088317\tbest: 0.3899986 (23)\ttotal: 1.1s\tremaining: 704ms\n",
      "611:\tlearn: 0.0083653\ttest: 0.6088318\tbest: 0.3899986 (23)\ttotal: 1.11s\tremaining: 702ms\n",
      "612:\tlearn: 0.0083652\ttest: 0.6088335\tbest: 0.3899986 (23)\ttotal: 1.11s\tremaining: 700ms\n",
      "613:\tlearn: 0.0083652\ttest: 0.6088336\tbest: 0.3899986 (23)\ttotal: 1.11s\tremaining: 698ms\n",
      "614:\tlearn: 0.0083652\ttest: 0.6088336\tbest: 0.3899986 (23)\ttotal: 1.11s\tremaining: 696ms\n",
      "615:\tlearn: 0.0083652\ttest: 0.6088336\tbest: 0.3899986 (23)\ttotal: 1.11s\tremaining: 694ms\n",
      "616:\tlearn: 0.0083652\ttest: 0.6088336\tbest: 0.3899986 (23)\ttotal: 1.11s\tremaining: 692ms\n",
      "617:\tlearn: 0.0083626\ttest: 0.6088565\tbest: 0.3899986 (23)\ttotal: 1.11s\tremaining: 690ms\n",
      "618:\tlearn: 0.0083624\ttest: 0.6088558\tbest: 0.3899986 (23)\ttotal: 1.12s\tremaining: 688ms\n",
      "619:\tlearn: 0.0083620\ttest: 0.6088427\tbest: 0.3899986 (23)\ttotal: 1.12s\tremaining: 686ms\n",
      "620:\tlearn: 0.0083226\ttest: 0.6088529\tbest: 0.3899986 (23)\ttotal: 1.12s\tremaining: 684ms\n",
      "621:\tlearn: 0.0083225\ttest: 0.6088505\tbest: 0.3899986 (23)\ttotal: 1.12s\tremaining: 682ms\n"
     ]
    },
    {
     "name": "stdout",
     "output_type": "stream",
     "text": [
      "622:\tlearn: 0.0083224\ttest: 0.6088513\tbest: 0.3899986 (23)\ttotal: 1.12s\tremaining: 680ms\n",
      "623:\tlearn: 0.0082965\ttest: 0.6091137\tbest: 0.3899986 (23)\ttotal: 1.13s\tremaining: 678ms\n",
      "624:\tlearn: 0.0082635\ttest: 0.6085054\tbest: 0.3899986 (23)\ttotal: 1.13s\tremaining: 676ms\n",
      "625:\tlearn: 0.0081895\ttest: 0.6096059\tbest: 0.3899986 (23)\ttotal: 1.13s\tremaining: 675ms\n",
      "626:\tlearn: 0.0081895\ttest: 0.6096053\tbest: 0.3899986 (23)\ttotal: 1.13s\tremaining: 673ms\n",
      "627:\tlearn: 0.0081894\ttest: 0.6096072\tbest: 0.3899986 (23)\ttotal: 1.13s\tremaining: 671ms\n",
      "628:\tlearn: 0.0081894\ttest: 0.6096073\tbest: 0.3899986 (23)\ttotal: 1.13s\tremaining: 669ms\n",
      "629:\tlearn: 0.0081893\ttest: 0.6096077\tbest: 0.3899986 (23)\ttotal: 1.14s\tremaining: 667ms\n",
      "630:\tlearn: 0.0081894\ttest: 0.6096078\tbest: 0.3899986 (23)\ttotal: 1.14s\tremaining: 665ms\n",
      "631:\tlearn: 0.0081893\ttest: 0.6096088\tbest: 0.3899986 (23)\ttotal: 1.14s\tremaining: 663ms\n",
      "632:\tlearn: 0.0081893\ttest: 0.6096095\tbest: 0.3899986 (23)\ttotal: 1.14s\tremaining: 661ms\n",
      "633:\tlearn: 0.0081893\ttest: 0.6096095\tbest: 0.3899986 (23)\ttotal: 1.14s\tremaining: 659ms\n",
      "634:\tlearn: 0.0081892\ttest: 0.6096095\tbest: 0.3899986 (23)\ttotal: 1.14s\tremaining: 657ms\n",
      "635:\tlearn: 0.0081730\ttest: 0.6096357\tbest: 0.3899986 (23)\ttotal: 1.15s\tremaining: 655ms\n",
      "636:\tlearn: 0.0081478\ttest: 0.6099572\tbest: 0.3899986 (23)\ttotal: 1.15s\tremaining: 654ms\n",
      "637:\tlearn: 0.0081461\ttest: 0.6098917\tbest: 0.3899986 (23)\ttotal: 1.15s\tremaining: 652ms\n",
      "638:\tlearn: 0.0081460\ttest: 0.6099057\tbest: 0.3899986 (23)\ttotal: 1.15s\tremaining: 650ms\n",
      "639:\tlearn: 0.0081007\ttest: 0.6101431\tbest: 0.3899986 (23)\ttotal: 1.15s\tremaining: 648ms\n",
      "640:\tlearn: 0.0081000\ttest: 0.6102080\tbest: 0.3899986 (23)\ttotal: 1.15s\tremaining: 646ms\n",
      "641:\tlearn: 0.0080628\ttest: 0.6106193\tbest: 0.3899986 (23)\ttotal: 1.16s\tremaining: 644ms\n",
      "642:\tlearn: 0.0080442\ttest: 0.6108308\tbest: 0.3899986 (23)\ttotal: 1.16s\tremaining: 642ms\n",
      "643:\tlearn: 0.0080124\ttest: 0.6109761\tbest: 0.3899986 (23)\ttotal: 1.16s\tremaining: 641ms\n",
      "644:\tlearn: 0.0079915\ttest: 0.6107901\tbest: 0.3899986 (23)\ttotal: 1.16s\tremaining: 639ms\n",
      "645:\tlearn: 0.0079635\ttest: 0.6099691\tbest: 0.3899986 (23)\ttotal: 1.16s\tremaining: 637ms\n",
      "646:\tlearn: 0.0079363\ttest: 0.6110795\tbest: 0.3899986 (23)\ttotal: 1.16s\tremaining: 635ms\n",
      "647:\tlearn: 0.0079215\ttest: 0.6110788\tbest: 0.3899986 (23)\ttotal: 1.17s\tremaining: 633ms\n",
      "648:\tlearn: 0.0078962\ttest: 0.6120415\tbest: 0.3899986 (23)\ttotal: 1.17s\tremaining: 631ms\n",
      "649:\tlearn: 0.0078877\ttest: 0.6122853\tbest: 0.3899986 (23)\ttotal: 1.17s\tremaining: 630ms\n",
      "650:\tlearn: 0.0078810\ttest: 0.6123093\tbest: 0.3899986 (23)\ttotal: 1.17s\tremaining: 628ms\n",
      "651:\tlearn: 0.0078578\ttest: 0.6113733\tbest: 0.3899986 (23)\ttotal: 1.17s\tremaining: 626ms\n",
      "652:\tlearn: 0.0078261\ttest: 0.6118415\tbest: 0.3899986 (23)\ttotal: 1.17s\tremaining: 624ms\n",
      "653:\tlearn: 0.0077758\ttest: 0.6111967\tbest: 0.3899986 (23)\ttotal: 1.18s\tremaining: 622ms\n",
      "654:\tlearn: 0.0077247\ttest: 0.6120790\tbest: 0.3899986 (23)\ttotal: 1.18s\tremaining: 620ms\n",
      "655:\tlearn: 0.0077246\ttest: 0.6120784\tbest: 0.3899986 (23)\ttotal: 1.18s\tremaining: 618ms\n",
      "656:\tlearn: 0.0077245\ttest: 0.6120797\tbest: 0.3899986 (23)\ttotal: 1.18s\tremaining: 617ms\n",
      "657:\tlearn: 0.0077246\ttest: 0.6120799\tbest: 0.3899986 (23)\ttotal: 1.18s\tremaining: 615ms\n",
      "658:\tlearn: 0.0077247\ttest: 0.6120800\tbest: 0.3899986 (23)\ttotal: 1.18s\tremaining: 613ms\n",
      "659:\tlearn: 0.0076815\ttest: 0.6126158\tbest: 0.3899986 (23)\ttotal: 1.19s\tremaining: 611ms\n",
      "660:\tlearn: 0.0076781\ttest: 0.6125274\tbest: 0.3899986 (23)\ttotal: 1.19s\tremaining: 609ms\n",
      "661:\tlearn: 0.0076418\ttest: 0.6146121\tbest: 0.3899986 (23)\ttotal: 1.19s\tremaining: 607ms\n",
      "662:\tlearn: 0.0076410\ttest: 0.6145899\tbest: 0.3899986 (23)\ttotal: 1.19s\tremaining: 605ms\n",
      "663:\tlearn: 0.0076336\ttest: 0.6147621\tbest: 0.3899986 (23)\ttotal: 1.19s\tremaining: 603ms\n",
      "664:\tlearn: 0.0075852\ttest: 0.6152803\tbest: 0.3899986 (23)\ttotal: 1.19s\tremaining: 601ms\n",
      "665:\tlearn: 0.0075850\ttest: 0.6152761\tbest: 0.3899986 (23)\ttotal: 1.2s\tremaining: 600ms\n",
      "666:\tlearn: 0.0075691\ttest: 0.6150992\tbest: 0.3899986 (23)\ttotal: 1.2s\tremaining: 598ms\n",
      "667:\tlearn: 0.0075690\ttest: 0.6151004\tbest: 0.3899986 (23)\ttotal: 1.2s\tremaining: 596ms\n",
      "668:\tlearn: 0.0075502\ttest: 0.6153128\tbest: 0.3899986 (23)\ttotal: 1.2s\tremaining: 594ms\n",
      "669:\tlearn: 0.0075175\ttest: 0.6159548\tbest: 0.3899986 (23)\ttotal: 1.2s\tremaining: 592ms\n",
      "670:\tlearn: 0.0075174\ttest: 0.6159475\tbest: 0.3899986 (23)\ttotal: 1.2s\tremaining: 590ms\n",
      "671:\tlearn: 0.0075175\ttest: 0.6159486\tbest: 0.3899986 (23)\ttotal: 1.21s\tremaining: 588ms\n",
      "672:\tlearn: 0.0075172\ttest: 0.6159493\tbest: 0.3899986 (23)\ttotal: 1.21s\tremaining: 586ms\n",
      "673:\tlearn: 0.0075170\ttest: 0.6159464\tbest: 0.3899986 (23)\ttotal: 1.21s\tremaining: 584ms\n",
      "674:\tlearn: 0.0075170\ttest: 0.6159464\tbest: 0.3899986 (23)\ttotal: 1.21s\tremaining: 582ms\n",
      "675:\tlearn: 0.0075169\ttest: 0.6159469\tbest: 0.3899986 (23)\ttotal: 1.21s\tremaining: 581ms\n",
      "676:\tlearn: 0.0075168\ttest: 0.6159464\tbest: 0.3899986 (23)\ttotal: 1.21s\tremaining: 579ms\n",
      "677:\tlearn: 0.0075161\ttest: 0.6159424\tbest: 0.3899986 (23)\ttotal: 1.21s\tremaining: 577ms\n",
      "678:\tlearn: 0.0075159\ttest: 0.6159395\tbest: 0.3899986 (23)\ttotal: 1.22s\tremaining: 575ms\n",
      "679:\tlearn: 0.0075157\ttest: 0.6159399\tbest: 0.3899986 (23)\ttotal: 1.22s\tremaining: 573ms\n",
      "680:\tlearn: 0.0075157\ttest: 0.6159399\tbest: 0.3899986 (23)\ttotal: 1.22s\tremaining: 571ms\n",
      "681:\tlearn: 0.0075151\ttest: 0.6159333\tbest: 0.3899986 (23)\ttotal: 1.22s\tremaining: 569ms\n",
      "682:\tlearn: 0.0075096\ttest: 0.6160335\tbest: 0.3899986 (23)\ttotal: 1.22s\tremaining: 567ms\n",
      "683:\tlearn: 0.0074775\ttest: 0.6158402\tbest: 0.3899986 (23)\ttotal: 1.22s\tremaining: 565ms\n",
      "684:\tlearn: 0.0074676\ttest: 0.6151225\tbest: 0.3899986 (23)\ttotal: 1.23s\tremaining: 564ms\n",
      "685:\tlearn: 0.0074652\ttest: 0.6151303\tbest: 0.3899986 (23)\ttotal: 1.23s\tremaining: 562ms\n",
      "686:\tlearn: 0.0074574\ttest: 0.6155349\tbest: 0.3899986 (23)\ttotal: 1.23s\tremaining: 560ms\n",
      "687:\tlearn: 0.0074570\ttest: 0.6155357\tbest: 0.3899986 (23)\ttotal: 1.23s\tremaining: 558ms\n",
      "688:\tlearn: 0.0074570\ttest: 0.6155357\tbest: 0.3899986 (23)\ttotal: 1.23s\tremaining: 556ms\n",
      "689:\tlearn: 0.0074446\ttest: 0.6159054\tbest: 0.3899986 (23)\ttotal: 1.23s\tremaining: 554ms\n",
      "690:\tlearn: 0.0074269\ttest: 0.6153188\tbest: 0.3899986 (23)\ttotal: 1.24s\tremaining: 552ms\n",
      "691:\tlearn: 0.0073223\ttest: 0.6201780\tbest: 0.3899986 (23)\ttotal: 1.24s\tremaining: 551ms\n",
      "692:\tlearn: 0.0073222\ttest: 0.6201775\tbest: 0.3899986 (23)\ttotal: 1.24s\tremaining: 549ms\n",
      "693:\tlearn: 0.0073220\ttest: 0.6201782\tbest: 0.3899986 (23)\ttotal: 1.24s\tremaining: 547ms\n",
      "694:\tlearn: 0.0073218\ttest: 0.6201655\tbest: 0.3899986 (23)\ttotal: 1.24s\tremaining: 545ms\n",
      "695:\tlearn: 0.0073218\ttest: 0.6201652\tbest: 0.3899986 (23)\ttotal: 1.24s\tremaining: 543ms\n",
      "696:\tlearn: 0.0073218\ttest: 0.6201652\tbest: 0.3899986 (23)\ttotal: 1.24s\tremaining: 541ms\n",
      "697:\tlearn: 0.0073217\ttest: 0.6201653\tbest: 0.3899986 (23)\ttotal: 1.25s\tremaining: 539ms\n",
      "698:\tlearn: 0.0073214\ttest: 0.6201657\tbest: 0.3899986 (23)\ttotal: 1.25s\tremaining: 537ms\n",
      "699:\tlearn: 0.0073206\ttest: 0.6201640\tbest: 0.3899986 (23)\ttotal: 1.25s\tremaining: 535ms\n",
      "700:\tlearn: 0.0073206\ttest: 0.6201640\tbest: 0.3899986 (23)\ttotal: 1.25s\tremaining: 534ms\n",
      "701:\tlearn: 0.0073207\ttest: 0.6201631\tbest: 0.3899986 (23)\ttotal: 1.25s\tremaining: 532ms\n",
      "702:\tlearn: 0.0073201\ttest: 0.6201569\tbest: 0.3899986 (23)\ttotal: 1.25s\tremaining: 530ms\n",
      "703:\tlearn: 0.0073200\ttest: 0.6201584\tbest: 0.3899986 (23)\ttotal: 1.26s\tremaining: 528ms\n",
      "704:\tlearn: 0.0073197\ttest: 0.6201579\tbest: 0.3899986 (23)\ttotal: 1.26s\tremaining: 526ms\n",
      "705:\tlearn: 0.0073196\ttest: 0.6201578\tbest: 0.3899986 (23)\ttotal: 1.26s\tremaining: 524ms\n",
      "706:\tlearn: 0.0073195\ttest: 0.6201576\tbest: 0.3899986 (23)\ttotal: 1.26s\tremaining: 523ms\n",
      "707:\tlearn: 0.0073177\ttest: 0.6201374\tbest: 0.3899986 (23)\ttotal: 1.26s\tremaining: 521ms\n",
      "708:\tlearn: 0.0073176\ttest: 0.6201363\tbest: 0.3899986 (23)\ttotal: 1.26s\tremaining: 519ms\n",
      "709:\tlearn: 0.0073175\ttest: 0.6201340\tbest: 0.3899986 (23)\ttotal: 1.26s\tremaining: 517ms\n",
      "710:\tlearn: 0.0073166\ttest: 0.6201319\tbest: 0.3899986 (23)\ttotal: 1.27s\tremaining: 515ms\n",
      "711:\tlearn: 0.0073069\ttest: 0.6206088\tbest: 0.3899986 (23)\ttotal: 1.27s\tremaining: 513ms\n",
      "712:\tlearn: 0.0072878\ttest: 0.6217462\tbest: 0.3899986 (23)\ttotal: 1.27s\tremaining: 511ms\n",
      "713:\tlearn: 0.0072824\ttest: 0.6218446\tbest: 0.3899986 (23)\ttotal: 1.27s\tremaining: 510ms\n",
      "714:\tlearn: 0.0072551\ttest: 0.6221199\tbest: 0.3899986 (23)\ttotal: 1.27s\tremaining: 508ms\n",
      "715:\tlearn: 0.0072199\ttest: 0.6228492\tbest: 0.3899986 (23)\ttotal: 1.27s\tremaining: 506ms\n",
      "716:\tlearn: 0.0072122\ttest: 0.6230702\tbest: 0.3899986 (23)\ttotal: 1.28s\tremaining: 504ms\n",
      "717:\tlearn: 0.0072056\ttest: 0.6231952\tbest: 0.3899986 (23)\ttotal: 1.28s\tremaining: 502ms\n",
      "718:\tlearn: 0.0071862\ttest: 0.6232481\tbest: 0.3899986 (23)\ttotal: 1.28s\tremaining: 500ms\n",
      "719:\tlearn: 0.0071618\ttest: 0.6234276\tbest: 0.3899986 (23)\ttotal: 1.28s\tremaining: 499ms\n",
      "720:\tlearn: 0.0071618\ttest: 0.6234280\tbest: 0.3899986 (23)\ttotal: 1.28s\tremaining: 497ms\n",
      "721:\tlearn: 0.0071617\ttest: 0.6234286\tbest: 0.3899986 (23)\ttotal: 1.28s\tremaining: 495ms\n",
      "722:\tlearn: 0.0071616\ttest: 0.6234286\tbest: 0.3899986 (23)\ttotal: 1.29s\tremaining: 493ms\n",
      "723:\tlearn: 0.0071616\ttest: 0.6234298\tbest: 0.3899986 (23)\ttotal: 1.29s\tremaining: 491ms\n",
      "724:\tlearn: 0.0071613\ttest: 0.6234127\tbest: 0.3899986 (23)\ttotal: 1.29s\tremaining: 489ms\n",
      "725:\tlearn: 0.0071608\ttest: 0.6233899\tbest: 0.3899986 (23)\ttotal: 1.29s\tremaining: 487ms\n",
      "726:\tlearn: 0.0071463\ttest: 0.6237856\tbest: 0.3899986 (23)\ttotal: 1.29s\tremaining: 486ms\n"
     ]
    },
    {
     "name": "stdout",
     "output_type": "stream",
     "text": [
      "727:\tlearn: 0.0071463\ttest: 0.6237927\tbest: 0.3899986 (23)\ttotal: 1.29s\tremaining: 484ms\n",
      "728:\tlearn: 0.0071460\ttest: 0.6237841\tbest: 0.3899986 (23)\ttotal: 1.3s\tremaining: 482ms\n",
      "729:\tlearn: 0.0071458\ttest: 0.6237808\tbest: 0.3899986 (23)\ttotal: 1.3s\tremaining: 480ms\n",
      "730:\tlearn: 0.0071457\ttest: 0.6237814\tbest: 0.3899986 (23)\ttotal: 1.3s\tremaining: 478ms\n",
      "731:\tlearn: 0.0071456\ttest: 0.6237821\tbest: 0.3899986 (23)\ttotal: 1.3s\tremaining: 476ms\n",
      "732:\tlearn: 0.0071458\ttest: 0.6237829\tbest: 0.3899986 (23)\ttotal: 1.3s\tremaining: 474ms\n",
      "733:\tlearn: 0.0071402\ttest: 0.6236577\tbest: 0.3899986 (23)\ttotal: 1.3s\tremaining: 473ms\n",
      "734:\tlearn: 0.0071354\ttest: 0.6236459\tbest: 0.3899986 (23)\ttotal: 1.3s\tremaining: 471ms\n",
      "735:\tlearn: 0.0071353\ttest: 0.6236501\tbest: 0.3899986 (23)\ttotal: 1.31s\tremaining: 469ms\n",
      "736:\tlearn: 0.0071351\ttest: 0.6236507\tbest: 0.3899986 (23)\ttotal: 1.31s\tremaining: 467ms\n",
      "737:\tlearn: 0.0071352\ttest: 0.6236511\tbest: 0.3899986 (23)\ttotal: 1.31s\tremaining: 465ms\n",
      "738:\tlearn: 0.0071350\ttest: 0.6236526\tbest: 0.3899986 (23)\ttotal: 1.31s\tremaining: 463ms\n",
      "739:\tlearn: 0.0071346\ttest: 0.6236798\tbest: 0.3899986 (23)\ttotal: 1.31s\tremaining: 461ms\n",
      "740:\tlearn: 0.0071346\ttest: 0.6236780\tbest: 0.3899986 (23)\ttotal: 1.31s\tremaining: 459ms\n",
      "741:\tlearn: 0.0071021\ttest: 0.6241956\tbest: 0.3899986 (23)\ttotal: 1.31s\tremaining: 458ms\n",
      "742:\tlearn: 0.0070925\ttest: 0.6243907\tbest: 0.3899986 (23)\ttotal: 1.32s\tremaining: 456ms\n",
      "743:\tlearn: 0.0070925\ttest: 0.6243905\tbest: 0.3899986 (23)\ttotal: 1.32s\tremaining: 454ms\n",
      "744:\tlearn: 0.0070921\ttest: 0.6243903\tbest: 0.3899986 (23)\ttotal: 1.32s\tremaining: 452ms\n",
      "745:\tlearn: 0.0070917\ttest: 0.6243957\tbest: 0.3899986 (23)\ttotal: 1.32s\tremaining: 450ms\n",
      "746:\tlearn: 0.0070911\ttest: 0.6243947\tbest: 0.3899986 (23)\ttotal: 1.32s\tremaining: 448ms\n",
      "747:\tlearn: 0.0070909\ttest: 0.6243995\tbest: 0.3899986 (23)\ttotal: 1.32s\tremaining: 446ms\n",
      "748:\tlearn: 0.0070907\ttest: 0.6243995\tbest: 0.3899986 (23)\ttotal: 1.33s\tremaining: 444ms\n",
      "749:\tlearn: 0.0070908\ttest: 0.6243995\tbest: 0.3899986 (23)\ttotal: 1.33s\tremaining: 442ms\n",
      "750:\tlearn: 0.0070906\ttest: 0.6243974\tbest: 0.3899986 (23)\ttotal: 1.33s\tremaining: 441ms\n",
      "751:\tlearn: 0.0070901\ttest: 0.6243969\tbest: 0.3899986 (23)\ttotal: 1.33s\tremaining: 439ms\n",
      "752:\tlearn: 0.0070900\ttest: 0.6243941\tbest: 0.3899986 (23)\ttotal: 1.33s\tremaining: 437ms\n",
      "753:\tlearn: 0.0070847\ttest: 0.6243594\tbest: 0.3899986 (23)\ttotal: 1.33s\tremaining: 435ms\n",
      "754:\tlearn: 0.0070778\ttest: 0.6243890\tbest: 0.3899986 (23)\ttotal: 1.33s\tremaining: 433ms\n",
      "755:\tlearn: 0.0070777\ttest: 0.6243886\tbest: 0.3899986 (23)\ttotal: 1.34s\tremaining: 431ms\n",
      "756:\tlearn: 0.0070776\ttest: 0.6243898\tbest: 0.3899986 (23)\ttotal: 1.34s\tremaining: 429ms\n",
      "757:\tlearn: 0.0070773\ttest: 0.6243938\tbest: 0.3899986 (23)\ttotal: 1.34s\tremaining: 428ms\n",
      "758:\tlearn: 0.0070775\ttest: 0.6243967\tbest: 0.3899986 (23)\ttotal: 1.34s\tremaining: 426ms\n",
      "759:\tlearn: 0.0070773\ttest: 0.6243968\tbest: 0.3899986 (23)\ttotal: 1.34s\tremaining: 424ms\n",
      "760:\tlearn: 0.0070770\ttest: 0.6243946\tbest: 0.3899986 (23)\ttotal: 1.34s\tremaining: 422ms\n",
      "761:\tlearn: 0.0070768\ttest: 0.6243958\tbest: 0.3899986 (23)\ttotal: 1.34s\tremaining: 420ms\n",
      "762:\tlearn: 0.0070680\ttest: 0.6245424\tbest: 0.3899986 (23)\ttotal: 1.35s\tremaining: 418ms\n",
      "763:\tlearn: 0.0070629\ttest: 0.6246388\tbest: 0.3899986 (23)\ttotal: 1.35s\tremaining: 416ms\n",
      "764:\tlearn: 0.0070383\ttest: 0.6242984\tbest: 0.3899986 (23)\ttotal: 1.35s\tremaining: 415ms\n",
      "765:\tlearn: 0.0070063\ttest: 0.6257372\tbest: 0.3899986 (23)\ttotal: 1.35s\tremaining: 413ms\n",
      "766:\tlearn: 0.0069865\ttest: 0.6264243\tbest: 0.3899986 (23)\ttotal: 1.35s\tremaining: 411ms\n",
      "767:\tlearn: 0.0069810\ttest: 0.6263238\tbest: 0.3899986 (23)\ttotal: 1.35s\tremaining: 409ms\n",
      "768:\tlearn: 0.0069805\ttest: 0.6263088\tbest: 0.3899986 (23)\ttotal: 1.36s\tremaining: 408ms\n",
      "769:\tlearn: 0.0069805\ttest: 0.6263089\tbest: 0.3899986 (23)\ttotal: 1.36s\tremaining: 406ms\n",
      "770:\tlearn: 0.0069804\ttest: 0.6263111\tbest: 0.3899986 (23)\ttotal: 1.36s\tremaining: 404ms\n",
      "771:\tlearn: 0.0069804\ttest: 0.6263115\tbest: 0.3899986 (23)\ttotal: 1.36s\tremaining: 402ms\n",
      "772:\tlearn: 0.0069799\ttest: 0.6263148\tbest: 0.3899986 (23)\ttotal: 1.36s\tremaining: 400ms\n",
      "773:\tlearn: 0.0069747\ttest: 0.6263554\tbest: 0.3899986 (23)\ttotal: 1.36s\tremaining: 399ms\n",
      "774:\tlearn: 0.0069705\ttest: 0.6263872\tbest: 0.3899986 (23)\ttotal: 1.37s\tremaining: 397ms\n",
      "775:\tlearn: 0.0069704\ttest: 0.6263916\tbest: 0.3899986 (23)\ttotal: 1.37s\tremaining: 395ms\n",
      "776:\tlearn: 0.0069705\ttest: 0.6263919\tbest: 0.3899986 (23)\ttotal: 1.37s\tremaining: 393ms\n",
      "777:\tlearn: 0.0069704\ttest: 0.6263922\tbest: 0.3899986 (23)\ttotal: 1.37s\tremaining: 391ms\n",
      "778:\tlearn: 0.0069705\ttest: 0.6263926\tbest: 0.3899986 (23)\ttotal: 1.37s\tremaining: 389ms\n",
      "779:\tlearn: 0.0069704\ttest: 0.6263933\tbest: 0.3899986 (23)\ttotal: 1.37s\tremaining: 388ms\n",
      "780:\tlearn: 0.0069703\ttest: 0.6263938\tbest: 0.3899986 (23)\ttotal: 1.38s\tremaining: 386ms\n",
      "781:\tlearn: 0.0069700\ttest: 0.6263943\tbest: 0.3899986 (23)\ttotal: 1.38s\tremaining: 384ms\n",
      "782:\tlearn: 0.0069700\ttest: 0.6263951\tbest: 0.3899986 (23)\ttotal: 1.38s\tremaining: 382ms\n",
      "783:\tlearn: 0.0069699\ttest: 0.6263947\tbest: 0.3899986 (23)\ttotal: 1.38s\tremaining: 380ms\n",
      "784:\tlearn: 0.0069699\ttest: 0.6263949\tbest: 0.3899986 (23)\ttotal: 1.38s\tremaining: 379ms\n",
      "785:\tlearn: 0.0069155\ttest: 0.6265049\tbest: 0.3899986 (23)\ttotal: 1.38s\tremaining: 377ms\n",
      "786:\tlearn: 0.0069023\ttest: 0.6265207\tbest: 0.3899986 (23)\ttotal: 1.39s\tremaining: 375ms\n",
      "787:\tlearn: 0.0069024\ttest: 0.6265206\tbest: 0.3899986 (23)\ttotal: 1.39s\tremaining: 373ms\n",
      "788:\tlearn: 0.0069023\ttest: 0.6265207\tbest: 0.3899986 (23)\ttotal: 1.39s\tremaining: 371ms\n",
      "789:\tlearn: 0.0069023\ttest: 0.6265212\tbest: 0.3899986 (23)\ttotal: 1.39s\tremaining: 370ms\n",
      "790:\tlearn: 0.0069023\ttest: 0.6265213\tbest: 0.3899986 (23)\ttotal: 1.39s\tremaining: 368ms\n",
      "791:\tlearn: 0.0069022\ttest: 0.6265214\tbest: 0.3899986 (23)\ttotal: 1.39s\tremaining: 366ms\n",
      "792:\tlearn: 0.0069023\ttest: 0.6265221\tbest: 0.3899986 (23)\ttotal: 1.39s\tremaining: 364ms\n",
      "793:\tlearn: 0.0069023\ttest: 0.6265221\tbest: 0.3899986 (23)\ttotal: 1.4s\tremaining: 362ms\n",
      "794:\tlearn: 0.0069020\ttest: 0.6265299\tbest: 0.3899986 (23)\ttotal: 1.4s\tremaining: 360ms\n",
      "795:\tlearn: 0.0069014\ttest: 0.6265447\tbest: 0.3899986 (23)\ttotal: 1.4s\tremaining: 359ms\n",
      "796:\tlearn: 0.0069012\ttest: 0.6265544\tbest: 0.3899986 (23)\ttotal: 1.4s\tremaining: 357ms\n",
      "797:\tlearn: 0.0069011\ttest: 0.6265543\tbest: 0.3899986 (23)\ttotal: 1.4s\tremaining: 355ms\n",
      "798:\tlearn: 0.0069010\ttest: 0.6265548\tbest: 0.3899986 (23)\ttotal: 1.4s\tremaining: 353ms\n",
      "799:\tlearn: 0.0068893\ttest: 0.6269969\tbest: 0.3899986 (23)\ttotal: 1.41s\tremaining: 351ms\n",
      "800:\tlearn: 0.0068804\ttest: 0.6272690\tbest: 0.3899986 (23)\ttotal: 1.41s\tremaining: 350ms\n",
      "801:\tlearn: 0.0068735\ttest: 0.6273618\tbest: 0.3899986 (23)\ttotal: 1.41s\tremaining: 348ms\n",
      "802:\tlearn: 0.0068397\ttest: 0.6280496\tbest: 0.3899986 (23)\ttotal: 1.41s\tremaining: 346ms\n",
      "803:\tlearn: 0.0067889\ttest: 0.6290155\tbest: 0.3899986 (23)\ttotal: 1.41s\tremaining: 344ms\n",
      "804:\tlearn: 0.0067889\ttest: 0.6290155\tbest: 0.3899986 (23)\ttotal: 1.41s\tremaining: 342ms\n",
      "805:\tlearn: 0.0067887\ttest: 0.6290124\tbest: 0.3899986 (23)\ttotal: 1.42s\tremaining: 341ms\n",
      "806:\tlearn: 0.0067883\ttest: 0.6290099\tbest: 0.3899986 (23)\ttotal: 1.42s\tremaining: 339ms\n",
      "807:\tlearn: 0.0067883\ttest: 0.6290098\tbest: 0.3899986 (23)\ttotal: 1.42s\tremaining: 337ms\n",
      "808:\tlearn: 0.0067878\ttest: 0.6290009\tbest: 0.3899986 (23)\ttotal: 1.42s\tremaining: 335ms\n",
      "809:\tlearn: 0.0067618\ttest: 0.6288525\tbest: 0.3899986 (23)\ttotal: 1.42s\tremaining: 333ms\n",
      "810:\tlearn: 0.0067616\ttest: 0.6288535\tbest: 0.3899986 (23)\ttotal: 1.42s\tremaining: 332ms\n",
      "811:\tlearn: 0.0067617\ttest: 0.6288529\tbest: 0.3899986 (23)\ttotal: 1.43s\tremaining: 330ms\n",
      "812:\tlearn: 0.0067260\ttest: 0.6280375\tbest: 0.3899986 (23)\ttotal: 1.43s\tremaining: 328ms\n",
      "813:\tlearn: 0.0067111\ttest: 0.6286144\tbest: 0.3899986 (23)\ttotal: 1.43s\tremaining: 326ms\n",
      "814:\tlearn: 0.0067111\ttest: 0.6286124\tbest: 0.3899986 (23)\ttotal: 1.43s\tremaining: 325ms\n",
      "815:\tlearn: 0.0067111\ttest: 0.6286117\tbest: 0.3899986 (23)\ttotal: 1.43s\tremaining: 323ms\n",
      "816:\tlearn: 0.0067110\ttest: 0.6286123\tbest: 0.3899986 (23)\ttotal: 1.43s\tremaining: 321ms\n",
      "817:\tlearn: 0.0067108\ttest: 0.6286161\tbest: 0.3899986 (23)\ttotal: 1.44s\tremaining: 319ms\n",
      "818:\tlearn: 0.0067107\ttest: 0.6286219\tbest: 0.3899986 (23)\ttotal: 1.44s\tremaining: 317ms\n",
      "819:\tlearn: 0.0067106\ttest: 0.6286227\tbest: 0.3899986 (23)\ttotal: 1.44s\tremaining: 316ms\n",
      "820:\tlearn: 0.0067033\ttest: 0.6286738\tbest: 0.3899986 (23)\ttotal: 1.44s\tremaining: 314ms\n",
      "821:\tlearn: 0.0066641\ttest: 0.6287046\tbest: 0.3899986 (23)\ttotal: 1.44s\tremaining: 312ms\n",
      "822:\tlearn: 0.0066162\ttest: 0.6290854\tbest: 0.3899986 (23)\ttotal: 1.44s\tremaining: 310ms\n",
      "823:\tlearn: 0.0065970\ttest: 0.6290943\tbest: 0.3899986 (23)\ttotal: 1.44s\tremaining: 309ms\n",
      "824:\tlearn: 0.0065611\ttest: 0.6299354\tbest: 0.3899986 (23)\ttotal: 1.45s\tremaining: 307ms\n",
      "825:\tlearn: 0.0065256\ttest: 0.6297154\tbest: 0.3899986 (23)\ttotal: 1.45s\tremaining: 305ms\n",
      "826:\tlearn: 0.0065254\ttest: 0.6297458\tbest: 0.3899986 (23)\ttotal: 1.45s\tremaining: 303ms\n",
      "827:\tlearn: 0.0065253\ttest: 0.6297462\tbest: 0.3899986 (23)\ttotal: 1.45s\tremaining: 301ms\n",
      "828:\tlearn: 0.0065121\ttest: 0.6299233\tbest: 0.3899986 (23)\ttotal: 1.45s\tremaining: 300ms\n",
      "829:\tlearn: 0.0064920\ttest: 0.6303051\tbest: 0.3899986 (23)\ttotal: 1.45s\tremaining: 298ms\n",
      "830:\tlearn: 0.0064864\ttest: 0.6301455\tbest: 0.3899986 (23)\ttotal: 1.46s\tremaining: 296ms\n",
      "831:\tlearn: 0.0064863\ttest: 0.6301399\tbest: 0.3899986 (23)\ttotal: 1.46s\tremaining: 294ms\n",
      "832:\tlearn: 0.0064862\ttest: 0.6301405\tbest: 0.3899986 (23)\ttotal: 1.46s\tremaining: 293ms\n",
      "833:\tlearn: 0.0064863\ttest: 0.6301407\tbest: 0.3899986 (23)\ttotal: 1.46s\tremaining: 291ms\n",
      "834:\tlearn: 0.0064487\ttest: 0.6307190\tbest: 0.3899986 (23)\ttotal: 1.46s\tremaining: 289ms\n",
      "835:\tlearn: 0.0064198\ttest: 0.6312605\tbest: 0.3899986 (23)\ttotal: 1.46s\tremaining: 287ms\n"
     ]
    },
    {
     "name": "stdout",
     "output_type": "stream",
     "text": [
      "836:\tlearn: 0.0064197\ttest: 0.6312624\tbest: 0.3899986 (23)\ttotal: 1.47s\tremaining: 285ms\n",
      "837:\tlearn: 0.0064195\ttest: 0.6312631\tbest: 0.3899986 (23)\ttotal: 1.47s\tremaining: 284ms\n",
      "838:\tlearn: 0.0064195\ttest: 0.6312632\tbest: 0.3899986 (23)\ttotal: 1.47s\tremaining: 282ms\n",
      "839:\tlearn: 0.0064195\ttest: 0.6312630\tbest: 0.3899986 (23)\ttotal: 1.47s\tremaining: 280ms\n",
      "840:\tlearn: 0.0064195\ttest: 0.6312630\tbest: 0.3899986 (23)\ttotal: 1.47s\tremaining: 278ms\n",
      "841:\tlearn: 0.0064194\ttest: 0.6312632\tbest: 0.3899986 (23)\ttotal: 1.47s\tremaining: 276ms\n",
      "842:\tlearn: 0.0063945\ttest: 0.6305451\tbest: 0.3899986 (23)\ttotal: 1.48s\tremaining: 275ms\n",
      "843:\tlearn: 0.0063944\ttest: 0.6305427\tbest: 0.3899986 (23)\ttotal: 1.48s\tremaining: 273ms\n",
      "844:\tlearn: 0.0063944\ttest: 0.6305428\tbest: 0.3899986 (23)\ttotal: 1.48s\tremaining: 271ms\n",
      "845:\tlearn: 0.0063942\ttest: 0.6305391\tbest: 0.3899986 (23)\ttotal: 1.48s\tremaining: 269ms\n",
      "846:\tlearn: 0.0063942\ttest: 0.6305394\tbest: 0.3899986 (23)\ttotal: 1.48s\tremaining: 268ms\n",
      "847:\tlearn: 0.0063726\ttest: 0.6309873\tbest: 0.3899986 (23)\ttotal: 1.48s\tremaining: 266ms\n",
      "848:\tlearn: 0.0063635\ttest: 0.6315174\tbest: 0.3899986 (23)\ttotal: 1.48s\tremaining: 264ms\n",
      "849:\tlearn: 0.0063635\ttest: 0.6315044\tbest: 0.3899986 (23)\ttotal: 1.49s\tremaining: 262ms\n",
      "850:\tlearn: 0.0063372\ttest: 0.6317485\tbest: 0.3899986 (23)\ttotal: 1.49s\tremaining: 261ms\n",
      "851:\tlearn: 0.0063369\ttest: 0.6317461\tbest: 0.3899986 (23)\ttotal: 1.49s\tremaining: 259ms\n",
      "852:\tlearn: 0.0063220\ttest: 0.6314222\tbest: 0.3899986 (23)\ttotal: 1.49s\tremaining: 257ms\n",
      "853:\tlearn: 0.0062850\ttest: 0.6314333\tbest: 0.3899986 (23)\ttotal: 1.49s\tremaining: 255ms\n",
      "854:\tlearn: 0.0062571\ttest: 0.6318435\tbest: 0.3899986 (23)\ttotal: 1.49s\tremaining: 253ms\n",
      "855:\tlearn: 0.0062571\ttest: 0.6318455\tbest: 0.3899986 (23)\ttotal: 1.5s\tremaining: 252ms\n",
      "856:\tlearn: 0.0062547\ttest: 0.6318225\tbest: 0.3899986 (23)\ttotal: 1.5s\tremaining: 250ms\n",
      "857:\tlearn: 0.0062545\ttest: 0.6318217\tbest: 0.3899986 (23)\ttotal: 1.5s\tremaining: 248ms\n",
      "858:\tlearn: 0.0062419\ttest: 0.6317921\tbest: 0.3899986 (23)\ttotal: 1.5s\tremaining: 246ms\n",
      "859:\tlearn: 0.0062346\ttest: 0.6322409\tbest: 0.3899986 (23)\ttotal: 1.5s\tremaining: 245ms\n",
      "860:\tlearn: 0.0062346\ttest: 0.6322397\tbest: 0.3899986 (23)\ttotal: 1.5s\tremaining: 243ms\n",
      "861:\tlearn: 0.0062345\ttest: 0.6322402\tbest: 0.3899986 (23)\ttotal: 1.5s\tremaining: 241ms\n",
      "862:\tlearn: 0.0062345\ttest: 0.6322403\tbest: 0.3899986 (23)\ttotal: 1.51s\tremaining: 239ms\n",
      "863:\tlearn: 0.0062238\ttest: 0.6326408\tbest: 0.3899986 (23)\ttotal: 1.51s\tremaining: 237ms\n",
      "864:\tlearn: 0.0062236\ttest: 0.6326409\tbest: 0.3899986 (23)\ttotal: 1.51s\tremaining: 236ms\n",
      "865:\tlearn: 0.0062235\ttest: 0.6326414\tbest: 0.3899986 (23)\ttotal: 1.51s\tremaining: 234ms\n",
      "866:\tlearn: 0.0062236\ttest: 0.6326457\tbest: 0.3899986 (23)\ttotal: 1.51s\tremaining: 232ms\n",
      "867:\tlearn: 0.0062196\ttest: 0.6326261\tbest: 0.3899986 (23)\ttotal: 1.51s\tremaining: 230ms\n",
      "868:\tlearn: 0.0062195\ttest: 0.6326312\tbest: 0.3899986 (23)\ttotal: 1.51s\tremaining: 229ms\n",
      "869:\tlearn: 0.0062195\ttest: 0.6326313\tbest: 0.3899986 (23)\ttotal: 1.52s\tremaining: 227ms\n",
      "870:\tlearn: 0.0062056\ttest: 0.6329913\tbest: 0.3899986 (23)\ttotal: 1.52s\tremaining: 225ms\n",
      "871:\tlearn: 0.0061787\ttest: 0.6334767\tbest: 0.3899986 (23)\ttotal: 1.52s\tremaining: 223ms\n",
      "872:\tlearn: 0.0061787\ttest: 0.6334770\tbest: 0.3899986 (23)\ttotal: 1.52s\tremaining: 221ms\n",
      "873:\tlearn: 0.0061784\ttest: 0.6334816\tbest: 0.3899986 (23)\ttotal: 1.52s\tremaining: 220ms\n",
      "874:\tlearn: 0.0061505\ttest: 0.6334088\tbest: 0.3899986 (23)\ttotal: 1.52s\tremaining: 218ms\n",
      "875:\tlearn: 0.0061379\ttest: 0.6336338\tbest: 0.3899986 (23)\ttotal: 1.53s\tremaining: 216ms\n",
      "876:\tlearn: 0.0061379\ttest: 0.6336364\tbest: 0.3899986 (23)\ttotal: 1.53s\tremaining: 214ms\n",
      "877:\tlearn: 0.0061379\ttest: 0.6336364\tbest: 0.3899986 (23)\ttotal: 1.53s\tremaining: 213ms\n",
      "878:\tlearn: 0.0061378\ttest: 0.6336364\tbest: 0.3899986 (23)\ttotal: 1.53s\tremaining: 211ms\n",
      "879:\tlearn: 0.0061378\ttest: 0.6336364\tbest: 0.3899986 (23)\ttotal: 1.53s\tremaining: 209ms\n",
      "880:\tlearn: 0.0061378\ttest: 0.6336372\tbest: 0.3899986 (23)\ttotal: 1.53s\tremaining: 207ms\n",
      "881:\tlearn: 0.0061378\ttest: 0.6336375\tbest: 0.3899986 (23)\ttotal: 1.53s\tremaining: 205ms\n",
      "882:\tlearn: 0.0061377\ttest: 0.6336376\tbest: 0.3899986 (23)\ttotal: 1.54s\tremaining: 204ms\n",
      "883:\tlearn: 0.0061376\ttest: 0.6336395\tbest: 0.3899986 (23)\ttotal: 1.54s\tremaining: 202ms\n",
      "884:\tlearn: 0.0061377\ttest: 0.6336395\tbest: 0.3899986 (23)\ttotal: 1.54s\tremaining: 200ms\n",
      "885:\tlearn: 0.0061376\ttest: 0.6336395\tbest: 0.3899986 (23)\ttotal: 1.54s\tremaining: 198ms\n",
      "886:\tlearn: 0.0061376\ttest: 0.6336402\tbest: 0.3899986 (23)\ttotal: 1.54s\tremaining: 197ms\n",
      "887:\tlearn: 0.0061377\ttest: 0.6336408\tbest: 0.3899986 (23)\ttotal: 1.54s\tremaining: 195ms\n",
      "888:\tlearn: 0.0061376\ttest: 0.6336408\tbest: 0.3899986 (23)\ttotal: 1.55s\tremaining: 193ms\n",
      "889:\tlearn: 0.0061271\ttest: 0.6334074\tbest: 0.3899986 (23)\ttotal: 1.55s\tremaining: 191ms\n",
      "890:\tlearn: 0.0061270\ttest: 0.6334075\tbest: 0.3899986 (23)\ttotal: 1.55s\tremaining: 190ms\n",
      "891:\tlearn: 0.0061270\ttest: 0.6334103\tbest: 0.3899986 (23)\ttotal: 1.55s\tremaining: 188ms\n",
      "892:\tlearn: 0.0061270\ttest: 0.6334104\tbest: 0.3899986 (23)\ttotal: 1.55s\tremaining: 186ms\n",
      "893:\tlearn: 0.0061269\ttest: 0.6334100\tbest: 0.3899986 (23)\ttotal: 1.55s\tremaining: 184ms\n",
      "894:\tlearn: 0.0061269\ttest: 0.6334102\tbest: 0.3899986 (23)\ttotal: 1.55s\tremaining: 183ms\n",
      "895:\tlearn: 0.0061266\ttest: 0.6334133\tbest: 0.3899986 (23)\ttotal: 1.56s\tremaining: 181ms\n",
      "896:\tlearn: 0.0061267\ttest: 0.6334142\tbest: 0.3899986 (23)\ttotal: 1.56s\tremaining: 179ms\n",
      "897:\tlearn: 0.0061263\ttest: 0.6333965\tbest: 0.3899986 (23)\ttotal: 1.56s\tremaining: 177ms\n",
      "898:\tlearn: 0.0061263\ttest: 0.6333988\tbest: 0.3899986 (23)\ttotal: 1.56s\tremaining: 175ms\n",
      "899:\tlearn: 0.0061261\ttest: 0.6333992\tbest: 0.3899986 (23)\ttotal: 1.56s\tremaining: 174ms\n",
      "900:\tlearn: 0.0061261\ttest: 0.6334000\tbest: 0.3899986 (23)\ttotal: 1.56s\tremaining: 172ms\n",
      "901:\tlearn: 0.0061079\ttest: 0.6337767\tbest: 0.3899986 (23)\ttotal: 1.57s\tremaining: 170ms\n",
      "902:\tlearn: 0.0061003\ttest: 0.6339202\tbest: 0.3899986 (23)\ttotal: 1.57s\tremaining: 168ms\n",
      "903:\tlearn: 0.0061003\ttest: 0.6339189\tbest: 0.3899986 (23)\ttotal: 1.57s\tremaining: 167ms\n",
      "904:\tlearn: 0.0061003\ttest: 0.6339185\tbest: 0.3899986 (23)\ttotal: 1.57s\tremaining: 165ms\n",
      "905:\tlearn: 0.0061003\ttest: 0.6339168\tbest: 0.3899986 (23)\ttotal: 1.57s\tremaining: 163ms\n",
      "906:\tlearn: 0.0061001\ttest: 0.6339172\tbest: 0.3899986 (23)\ttotal: 1.57s\tremaining: 161ms\n",
      "907:\tlearn: 0.0061001\ttest: 0.6339174\tbest: 0.3899986 (23)\ttotal: 1.57s\tremaining: 160ms\n",
      "908:\tlearn: 0.0060843\ttest: 0.6342177\tbest: 0.3899986 (23)\ttotal: 1.58s\tremaining: 158ms\n",
      "909:\tlearn: 0.0060843\ttest: 0.6342166\tbest: 0.3899986 (23)\ttotal: 1.58s\tremaining: 156ms\n",
      "910:\tlearn: 0.0060842\ttest: 0.6342181\tbest: 0.3899986 (23)\ttotal: 1.58s\tremaining: 154ms\n",
      "911:\tlearn: 0.0060842\ttest: 0.6342184\tbest: 0.3899986 (23)\ttotal: 1.58s\tremaining: 153ms\n",
      "912:\tlearn: 0.0060843\ttest: 0.6342191\tbest: 0.3899986 (23)\ttotal: 1.58s\tremaining: 151ms\n",
      "913:\tlearn: 0.0060840\ttest: 0.6342194\tbest: 0.3899986 (23)\ttotal: 1.58s\tremaining: 149ms\n",
      "914:\tlearn: 0.0060840\ttest: 0.6342187\tbest: 0.3899986 (23)\ttotal: 1.58s\tremaining: 147ms\n",
      "915:\tlearn: 0.0060836\ttest: 0.6342150\tbest: 0.3899986 (23)\ttotal: 1.59s\tremaining: 146ms\n",
      "916:\tlearn: 0.0060837\ttest: 0.6342159\tbest: 0.3899986 (23)\ttotal: 1.59s\tremaining: 144ms\n",
      "917:\tlearn: 0.0060837\ttest: 0.6342227\tbest: 0.3899986 (23)\ttotal: 1.59s\tremaining: 142ms\n",
      "918:\tlearn: 0.0060836\ttest: 0.6342233\tbest: 0.3899986 (23)\ttotal: 1.59s\tremaining: 140ms\n",
      "919:\tlearn: 0.0060835\ttest: 0.6342083\tbest: 0.3899986 (23)\ttotal: 1.59s\tremaining: 139ms\n",
      "920:\tlearn: 0.0060834\ttest: 0.6342064\tbest: 0.3899986 (23)\ttotal: 1.59s\tremaining: 137ms\n",
      "921:\tlearn: 0.0060833\ttest: 0.6342061\tbest: 0.3899986 (23)\ttotal: 1.6s\tremaining: 135ms\n",
      "922:\tlearn: 0.0060833\ttest: 0.6342062\tbest: 0.3899986 (23)\ttotal: 1.6s\tremaining: 133ms\n",
      "923:\tlearn: 0.0060833\ttest: 0.6342062\tbest: 0.3899986 (23)\ttotal: 1.6s\tremaining: 132ms\n",
      "924:\tlearn: 0.0060780\ttest: 0.6341516\tbest: 0.3899986 (23)\ttotal: 1.6s\tremaining: 130ms\n",
      "925:\tlearn: 0.0060781\ttest: 0.6341517\tbest: 0.3899986 (23)\ttotal: 1.6s\tremaining: 128ms\n",
      "926:\tlearn: 0.0060780\ttest: 0.6341519\tbest: 0.3899986 (23)\ttotal: 1.6s\tremaining: 126ms\n",
      "927:\tlearn: 0.0060780\ttest: 0.6341519\tbest: 0.3899986 (23)\ttotal: 1.6s\tremaining: 125ms\n",
      "928:\tlearn: 0.0060780\ttest: 0.6341523\tbest: 0.3899986 (23)\ttotal: 1.61s\tremaining: 123ms\n",
      "929:\tlearn: 0.0060781\ttest: 0.6341521\tbest: 0.3899986 (23)\ttotal: 1.61s\tremaining: 121ms\n",
      "930:\tlearn: 0.0060780\ttest: 0.6341522\tbest: 0.3899986 (23)\ttotal: 1.61s\tremaining: 119ms\n",
      "931:\tlearn: 0.0060610\ttest: 0.6342075\tbest: 0.3899986 (23)\ttotal: 1.61s\tremaining: 118ms\n",
      "932:\tlearn: 0.0060608\ttest: 0.6342076\tbest: 0.3899986 (23)\ttotal: 1.61s\tremaining: 116ms\n",
      "933:\tlearn: 0.0060609\ttest: 0.6342078\tbest: 0.3899986 (23)\ttotal: 1.61s\tremaining: 114ms\n",
      "934:\tlearn: 0.0060609\ttest: 0.6342079\tbest: 0.3899986 (23)\ttotal: 1.62s\tremaining: 112ms\n",
      "935:\tlearn: 0.0060609\ttest: 0.6342080\tbest: 0.3899986 (23)\ttotal: 1.62s\tremaining: 111ms\n",
      "936:\tlearn: 0.0060608\ttest: 0.6342083\tbest: 0.3899986 (23)\ttotal: 1.62s\tremaining: 109ms\n",
      "937:\tlearn: 0.0060502\ttest: 0.6340674\tbest: 0.3899986 (23)\ttotal: 1.62s\tremaining: 107ms\n",
      "938:\tlearn: 0.0060459\ttest: 0.6339896\tbest: 0.3899986 (23)\ttotal: 1.62s\tremaining: 105ms\n",
      "939:\tlearn: 0.0060409\ttest: 0.6337716\tbest: 0.3899986 (23)\ttotal: 1.62s\tremaining: 104ms\n",
      "940:\tlearn: 0.0060409\ttest: 0.6337729\tbest: 0.3899986 (23)\ttotal: 1.63s\tremaining: 102ms\n",
      "941:\tlearn: 0.0060407\ttest: 0.6337737\tbest: 0.3899986 (23)\ttotal: 1.63s\tremaining: 100ms\n",
      "942:\tlearn: 0.0060407\ttest: 0.6337755\tbest: 0.3899986 (23)\ttotal: 1.63s\tremaining: 98.4ms\n",
      "943:\tlearn: 0.0060404\ttest: 0.6337777\tbest: 0.3899986 (23)\ttotal: 1.63s\tremaining: 96.7ms\n",
      "944:\tlearn: 0.0060405\ttest: 0.6337656\tbest: 0.3899986 (23)\ttotal: 1.63s\tremaining: 95ms\n",
      "945:\tlearn: 0.0060297\ttest: 0.6339335\tbest: 0.3899986 (23)\ttotal: 1.63s\tremaining: 93.2ms\n",
      "946:\tlearn: 0.0060294\ttest: 0.6339401\tbest: 0.3899986 (23)\ttotal: 1.63s\tremaining: 91.5ms\n"
     ]
    },
    {
     "name": "stdout",
     "output_type": "stream",
     "text": [
      "947:\tlearn: 0.0060294\ttest: 0.6339398\tbest: 0.3899986 (23)\ttotal: 1.64s\tremaining: 89.8ms\n",
      "948:\tlearn: 0.0060294\ttest: 0.6339399\tbest: 0.3899986 (23)\ttotal: 1.64s\tremaining: 88ms\n",
      "949:\tlearn: 0.0060172\ttest: 0.6342722\tbest: 0.3899986 (23)\ttotal: 1.64s\tremaining: 86.3ms\n",
      "950:\tlearn: 0.0060171\ttest: 0.6342728\tbest: 0.3899986 (23)\ttotal: 1.64s\tremaining: 84.5ms\n",
      "951:\tlearn: 0.0060172\ttest: 0.6342735\tbest: 0.3899986 (23)\ttotal: 1.64s\tremaining: 82.8ms\n",
      "952:\tlearn: 0.0060172\ttest: 0.6342740\tbest: 0.3899986 (23)\ttotal: 1.64s\tremaining: 81.1ms\n",
      "953:\tlearn: 0.0060165\ttest: 0.6342869\tbest: 0.3899986 (23)\ttotal: 1.65s\tremaining: 79.3ms\n",
      "954:\tlearn: 0.0060165\ttest: 0.6342836\tbest: 0.3899986 (23)\ttotal: 1.65s\tremaining: 77.6ms\n",
      "955:\tlearn: 0.0060164\ttest: 0.6342823\tbest: 0.3899986 (23)\ttotal: 1.65s\tremaining: 75.9ms\n",
      "956:\tlearn: 0.0060165\ttest: 0.6342821\tbest: 0.3899986 (23)\ttotal: 1.65s\tremaining: 74.1ms\n",
      "957:\tlearn: 0.0060162\ttest: 0.6342779\tbest: 0.3899986 (23)\ttotal: 1.65s\tremaining: 72.4ms\n",
      "958:\tlearn: 0.0060162\ttest: 0.6342777\tbest: 0.3899986 (23)\ttotal: 1.65s\tremaining: 70.6ms\n",
      "959:\tlearn: 0.0060162\ttest: 0.6342768\tbest: 0.3899986 (23)\ttotal: 1.65s\tremaining: 68.9ms\n",
      "960:\tlearn: 0.0060162\ttest: 0.6342781\tbest: 0.3899986 (23)\ttotal: 1.66s\tremaining: 67.2ms\n",
      "961:\tlearn: 0.0060160\ttest: 0.6342775\tbest: 0.3899986 (23)\ttotal: 1.66s\tremaining: 65.5ms\n",
      "962:\tlearn: 0.0060159\ttest: 0.6342764\tbest: 0.3899986 (23)\ttotal: 1.66s\tremaining: 63.7ms\n",
      "963:\tlearn: 0.0060159\ttest: 0.6342765\tbest: 0.3899986 (23)\ttotal: 1.66s\tremaining: 62ms\n",
      "964:\tlearn: 0.0060159\ttest: 0.6342765\tbest: 0.3899986 (23)\ttotal: 1.66s\tremaining: 60.3ms\n",
      "965:\tlearn: 0.0060159\ttest: 0.6342759\tbest: 0.3899986 (23)\ttotal: 1.66s\tremaining: 58.5ms\n",
      "966:\tlearn: 0.0060159\ttest: 0.6342759\tbest: 0.3899986 (23)\ttotal: 1.66s\tremaining: 56.8ms\n",
      "967:\tlearn: 0.0060158\ttest: 0.6342789\tbest: 0.3899986 (23)\ttotal: 1.67s\tremaining: 55.1ms\n",
      "968:\tlearn: 0.0060158\ttest: 0.6342787\tbest: 0.3899986 (23)\ttotal: 1.67s\tremaining: 53.3ms\n",
      "969:\tlearn: 0.0060157\ttest: 0.6342786\tbest: 0.3899986 (23)\ttotal: 1.67s\tremaining: 51.6ms\n",
      "970:\tlearn: 0.0060158\ttest: 0.6342786\tbest: 0.3899986 (23)\ttotal: 1.67s\tremaining: 49.9ms\n",
      "971:\tlearn: 0.0060157\ttest: 0.6342807\tbest: 0.3899986 (23)\ttotal: 1.67s\tremaining: 48.2ms\n",
      "972:\tlearn: 0.0060156\ttest: 0.6342871\tbest: 0.3899986 (23)\ttotal: 1.67s\tremaining: 46.4ms\n",
      "973:\tlearn: 0.0060155\ttest: 0.6342875\tbest: 0.3899986 (23)\ttotal: 1.68s\tremaining: 44.7ms\n",
      "974:\tlearn: 0.0060156\ttest: 0.6342879\tbest: 0.3899986 (23)\ttotal: 1.68s\tremaining: 43ms\n",
      "975:\tlearn: 0.0060155\ttest: 0.6342876\tbest: 0.3899986 (23)\ttotal: 1.68s\tremaining: 41.3ms\n",
      "976:\tlearn: 0.0060151\ttest: 0.6342933\tbest: 0.3899986 (23)\ttotal: 1.68s\tremaining: 39.5ms\n",
      "977:\tlearn: 0.0059887\ttest: 0.6339758\tbest: 0.3899986 (23)\ttotal: 1.68s\tremaining: 37.8ms\n",
      "978:\tlearn: 0.0059886\ttest: 0.6339758\tbest: 0.3899986 (23)\ttotal: 1.68s\tremaining: 36.1ms\n",
      "979:\tlearn: 0.0059886\ttest: 0.6339758\tbest: 0.3899986 (23)\ttotal: 1.68s\tremaining: 34.4ms\n",
      "980:\tlearn: 0.0059886\ttest: 0.6339765\tbest: 0.3899986 (23)\ttotal: 1.69s\tremaining: 32.6ms\n",
      "981:\tlearn: 0.0059785\ttest: 0.6342747\tbest: 0.3899986 (23)\ttotal: 1.69s\tremaining: 30.9ms\n",
      "982:\tlearn: 0.0059608\ttest: 0.6341923\tbest: 0.3899986 (23)\ttotal: 1.69s\tremaining: 29.2ms\n",
      "983:\tlearn: 0.0059606\ttest: 0.6341920\tbest: 0.3899986 (23)\ttotal: 1.69s\tremaining: 27.5ms\n",
      "984:\tlearn: 0.0059511\ttest: 0.6346182\tbest: 0.3899986 (23)\ttotal: 1.69s\tremaining: 25.8ms\n",
      "985:\tlearn: 0.0059511\ttest: 0.6346181\tbest: 0.3899986 (23)\ttotal: 1.69s\tremaining: 24ms\n",
      "986:\tlearn: 0.0059511\ttest: 0.6346190\tbest: 0.3899986 (23)\ttotal: 1.7s\tremaining: 22.3ms\n",
      "987:\tlearn: 0.0059510\ttest: 0.6346196\tbest: 0.3899986 (23)\ttotal: 1.7s\tremaining: 20.6ms\n",
      "988:\tlearn: 0.0059511\ttest: 0.6346196\tbest: 0.3899986 (23)\ttotal: 1.7s\tremaining: 18.9ms\n",
      "989:\tlearn: 0.0059512\ttest: 0.6346198\tbest: 0.3899986 (23)\ttotal: 1.7s\tremaining: 17.2ms\n",
      "990:\tlearn: 0.0059511\ttest: 0.6346206\tbest: 0.3899986 (23)\ttotal: 1.7s\tremaining: 15.4ms\n",
      "991:\tlearn: 0.0059510\ttest: 0.6346211\tbest: 0.3899986 (23)\ttotal: 1.7s\tremaining: 13.7ms\n",
      "992:\tlearn: 0.0059456\ttest: 0.6346619\tbest: 0.3899986 (23)\ttotal: 1.7s\tremaining: 12ms\n",
      "993:\tlearn: 0.0059455\ttest: 0.6346698\tbest: 0.3899986 (23)\ttotal: 1.71s\tremaining: 10.3ms\n",
      "994:\tlearn: 0.0059454\ttest: 0.6346699\tbest: 0.3899986 (23)\ttotal: 1.71s\tremaining: 8.58ms\n",
      "995:\tlearn: 0.0059454\ttest: 0.6346700\tbest: 0.3899986 (23)\ttotal: 1.71s\tremaining: 6.86ms\n",
      "996:\tlearn: 0.0059454\ttest: 0.6346724\tbest: 0.3899986 (23)\ttotal: 1.71s\tremaining: 5.15ms\n",
      "997:\tlearn: 0.0059354\ttest: 0.6351264\tbest: 0.3899986 (23)\ttotal: 1.71s\tremaining: 3.43ms\n",
      "998:\tlearn: 0.0059354\ttest: 0.6351287\tbest: 0.3899986 (23)\ttotal: 1.71s\tremaining: 1.72ms\n",
      "999:\tlearn: 0.0059353\ttest: 0.6351254\tbest: 0.3899986 (23)\ttotal: 1.71s\tremaining: 0us\n",
      "\n",
      "bestTest = 0.3899985702\n",
      "bestIteration = 23\n",
      "\n",
      "Shrink model to first 24 iterations.\n"
     ]
    },
    {
     "data": {
      "text/plain": [
       "<catboost.core.CatBoostClassifier at 0x2b93df8bc70>"
      ]
     },
     "execution_count": 43,
     "metadata": {},
     "output_type": "execute_result"
    }
   ],
   "source": [
    "from catboost import CatBoostClassifier, Pool\n",
    "\n",
    "\n",
    "X_train.fillna('NA',inplace=True)\n",
    "X_test.fillna('NA',inplace=True)\n",
    "\n",
    "cat_feat = [1,*list(range(10,23))]\n",
    "cat_feat = list(map(int, cat_feat))\n",
    "\n",
    "for i in range(13):\n",
    "    X_train[i+1]=X_train[i+1].astype(int)\n",
    "    X_test[i+1]=X_test[i+1].astype(int)\n",
    "\n",
    "data_train = Pool(X_train,\n",
    "                 label=y_train,\n",
    "                 cat_features=cat_feat)\n",
    "\n",
    "data_test = Pool(X_test,\n",
    "                 label=y_test,\n",
    "                 cat_features=cat_feat)\n",
    "\n",
    "ctbpararm = { \n",
    "    'depth':4,\n",
    "    'learning_rate':.33,\n",
    "    'l2_leaf_reg':3,\n",
    "#     'loss_function':'MultiClass',\n",
    "    'verbose':1,\n",
    "    'thread_count':12,\n",
    "            }\n",
    "model = CatBoostClassifier(**ctbpararm)\n",
    "model.fit(X = data_train, silent=False, eval_set = data_test)"
   ]
  },
  {
   "cell_type": "code",
   "execution_count": 44,
   "metadata": {},
   "outputs": [],
   "source": [
    "# import json\n",
    "# model.save_model('catboost_depth=4_lr=.33_l2=.3')\n",
    "# feature_importance = dict(zip(model.feature_names_, model.get_feature_importance()))\n",
    "# with open('feature_importance_cb.json', 'w') as f:\n",
    "#     json.dump(feature_importance, f)"
   ]
  },
  {
   "cell_type": "code",
   "execution_count": 45,
   "metadata": {},
   "outputs": [
    {
     "data": {
      "text/plain": [
       "0.2969159694497358"
      ]
     },
     "execution_count": 45,
     "metadata": {},
     "output_type": "execute_result"
    }
   ],
   "source": [
    "from sklearn.metrics import log_loss\n",
    "\n",
    "log_loss(y_train, model.predict_proba(data_train))"
   ]
  },
  {
   "cell_type": "code",
   "execution_count": 46,
   "metadata": {},
   "outputs": [
    {
     "data": {
      "text/plain": [
       "0.3899985702221495"
      ]
     },
     "execution_count": 46,
     "metadata": {},
     "output_type": "execute_result"
    }
   ],
   "source": [
    "log_loss(y_test, model.predict_proba(data_test))"
   ]
  },
  {
   "cell_type": "code",
   "execution_count": 47,
   "metadata": {},
   "outputs": [
    {
     "data": {
      "text/plain": [
       "0.8309178743961353"
      ]
     },
     "execution_count": 47,
     "metadata": {},
     "output_type": "execute_result"
    }
   ],
   "source": [
    "accuracy_score(y_test, model.predict(data_test))"
   ]
  },
  {
   "cell_type": "code",
   "execution_count": 48,
   "metadata": {},
   "outputs": [],
   "source": [
    "# with open('feature_importance_cb.json','r') as f:\n",
    "#     feature_importance = json.load(f)"
   ]
  },
  {
   "cell_type": "code",
   "execution_count": 49,
   "metadata": {},
   "outputs": [
    {
     "data": {
      "text/plain": [
       "array([ 6.46060071,  1.84460791,  9.05303955, 15.17555686, 19.17417339,\n",
       "        6.18823467,  4.7089974 , 18.23754558,  3.5234169 ,  0.        ,\n",
       "        1.9100178 ,  0.        ,  0.32387789,  0.        ,  0.74623833,\n",
       "        4.69088798,  0.        ,  0.92792534,  1.6384107 ,  1.17040295,\n",
       "        0.        ,  0.        ,  4.22606603])"
      ]
     },
     "execution_count": 49,
     "metadata": {},
     "output_type": "execute_result"
    }
   ],
   "source": [
    "model.get_feature_importance()"
   ]
  },
  {
   "cell_type": "code",
   "execution_count": 50,
   "metadata": {},
   "outputs": [
    {
     "data": {
      "text/plain": [
       "['Age',\n",
       " 'Debt',\n",
       " 'InvestmentScore',\n",
       " 'YearsEmployed',\n",
       " 'CreditScore',\n",
       " 'AgeOfEmp',\n",
       " 'Secured',\n",
       " 'SalaryRange',\n",
       " 'AgeRange',\n",
       " '0',\n",
       " '1',\n",
       " '2',\n",
       " '3',\n",
       " '4',\n",
       " '5',\n",
       " '6',\n",
       " '7',\n",
       " '8',\n",
       " '9',\n",
       " '10',\n",
       " '11',\n",
       " '12',\n",
       " '13']"
      ]
     },
     "execution_count": 50,
     "metadata": {},
     "output_type": "execute_result"
    }
   ],
   "source": [
    "model.feature_names_"
   ]
  },
  {
   "cell_type": "code",
   "execution_count": 51,
   "metadata": {},
   "outputs": [],
   "source": [
    "# feature_importance"
   ]
  },
  {
   "cell_type": "code",
   "execution_count": 52,
   "metadata": {},
   "outputs": [],
   "source": [
    "import matplotlib.pyplot as plt\n",
    "%matplotlib inline"
   ]
  },
  {
   "cell_type": "markdown",
   "metadata": {},
   "source": [
    "# scale of weights"
   ]
  },
  {
   "cell_type": "code",
   "execution_count": 53,
   "metadata": {},
   "outputs": [
    {
     "data": {
      "text/plain": [
       "[Text(0, 0, '2'),\n",
       " Text(0, 1, '11'),\n",
       " Text(0, 2, '7'),\n",
       " Text(0, 3, '0'),\n",
       " Text(0, 4, '12'),\n",
       " Text(0, 5, '4'),\n",
       " Text(0, 6, '3'),\n",
       " Text(0, 7, '5'),\n",
       " Text(0, 8, '8'),\n",
       " Text(0, 9, '10'),\n",
       " Text(0, 10, '9'),\n",
       " Text(0, 11, 'Debt'),\n",
       " Text(0, 12, '1'),\n",
       " Text(0, 13, 'AgeRange'),\n",
       " Text(0, 14, '13'),\n",
       " Text(0, 15, '6'),\n",
       " Text(0, 16, 'Secured'),\n",
       " Text(0, 17, 'AgeOfEmp'),\n",
       " Text(0, 18, 'Age'),\n",
       " Text(0, 19, 'InvestmentScore'),\n",
       " Text(0, 20, 'YearsEmployed'),\n",
       " Text(0, 21, 'SalaryRange'),\n",
       " Text(0, 22, 'CreditScore')]"
      ]
     },
     "execution_count": 53,
     "metadata": {},
     "output_type": "execute_result"
    },
    {
     "data": {
      "image/png": "[encoded data removed]",
      "text/plain": [
       "<Figure size 360x720 with 1 Axes>"
      ]
     },
     "metadata": {
      "needs_background": "light"
     },
     "output_type": "display_data"
    }
   ],
   "source": [
    "fig, ax = plt.subplots(figsize =(5,10))\n",
    "\n",
    "columns = list(model.feature_names_)\n",
    "importance = list((model.get_feature_importance()))\n",
    "\n",
    "s = pd.Series(importance,columns)\n",
    "s.sort_values(ascending=True, inplace=True)\n",
    "\n",
    "columns = s.index\n",
    "importance = s.values\n",
    "\n",
    "ax.barh(range(len(columns)),(importance))\n",
    "ax.set_yticks(range(len(columns)))\n",
    "ax.set_yticklabels(columns)"
   ]
  },
  {
   "cell_type": "markdown",
   "metadata": {},
   "source": [
    "# Logarithmic scale of weights"
   ]
  },
  {
   "cell_type": "code",
   "execution_count": 54,
   "metadata": {},
   "outputs": [
    {
     "data": {
      "image/png": "[encoded data removed]",
      "text/plain": [
       "<Figure size 360x720 with 1 Axes>"
      ]
     },
     "metadata": {
      "needs_background": "light"
     },
     "output_type": "display_data"
    }
   ],
   "source": [
    "fig, ax = plt.subplots(figsize =(5,10))\n",
    "ax.barh(range(len(columns)),np.log10(importance));\n",
    "ax.set_yticks(range(len(columns)));\n",
    "ax.set_yticklabels(columns);"
   ]
  },
  {
   "cell_type": "code",
   "execution_count": null,
   "metadata": {},
   "outputs": [],
   "source": []
  },
  {
   "cell_type": "code",
   "execution_count": null,
   "metadata": {},
   "outputs": [],
   "source": []
  },
  {
   "cell_type": "code",
   "execution_count": null,
   "metadata": {},
   "outputs": [],
   "source": []
  }
 ],
 "metadata": {
  "colab": {
   "name": "kickstarter.ipynb",
   "provenance": []
  },
  "kernelspec": {
   "display_name": "Python 3 (ipykernel)",
   "language": "python",
   "name": "python3"
  },
  "language_info": {
   "codemirror_mode": {
    "name": "ipython",
    "version": 3
   },
   "file_extension": ".py",
   "mimetype": "text/x-python",
   "name": "python",
   "nbconvert_exporter": "python",
   "pygments_lexer": "ipython3",
   "version": "3.9.12"
  }
 },
 "nbformat": 4,
 "nbformat_minor": 4
}
